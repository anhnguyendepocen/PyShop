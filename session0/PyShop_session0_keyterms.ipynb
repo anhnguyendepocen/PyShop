{
  "worksheets": [
    {
      "cells": [
        {
          "cell_type": "markdown",
          "source": "PyShop Pre-Workshop Key Commands\n-------------------\n\nThis is a list of unix commands that you should be familiar with.  These are for Linux and Mac, so if you are on a Windows machine you'll need these: http://www.cs.princeton.edu/courses/archive/spr05/cos126/cmd-prompt.html .  They are used mainly for navigating and editing the file tree.  The commands and modifiers listed here are not exhaustive by any means, but should be enough for the average user.\n\n* **cd** - \"change directory\" - used to move from one directory to another.\n  \n  Usage:\n  \n  `cd a_directory` - navigates to `a_directory`.  \n  `cd` - navigates to the home directory.  \n  `cd ..` - moves up one level in the file tree.  \n      \n* **cp** - \"copy\" - used to make a copy of a file or files.\n\n  Usage: \n  \n  `cp file file2 file3 ......` - copies all of the files listed after \"cp\" and places those copies in the present working directory.\n\n* **help** - \"help\" - lets you access information about bash shell built-in commands.\n\n  Usage:\n  \n  `help cd` - gives you information about the \"cd\" command.\n\n* **ls** - \"list\" - lists the names of files in the present working directory or in a specified directory.\n\n  Usage:\n  \n  `ls` - list contents of present working directory.  \n  `ls dir1` list contents of `dir1`.  \n  `ls -R dir1` - list the contents of any subdirectories of `dir1`.  \n  `ls -a dir1` - list all files, including hidden files (ie whose name begins with `.`).  \n\n* **mkdir** - \"make directory\" - creates a new directory.\n\n  Usage:\n  \n  `mkdir new_dir_name` - create a new folder titled `new_dir_name` in the present working directory.  \n  `mkdir -p dir1/dir2/new_dir_name` - creates a new directory titled `new_dir_name`, as well as the parent directories if these do not yet exist.\n  \n* **mv** - \"move\" - used to move files or change their name.\n\n  Usage: \n  \n  `mv file1 file2` - renames `file1` as `file2`.  \n  `mv dir1 dir2` - renames `dir1` as `dir2`, unless `dir2` already exists, in which case it moves `dir1` into `dir2`.\n\n* **pwd** - \"present working directory\" - displays the name of your current directory.\n\n* **rm** - \"remove\" - removes files.\n\n  Usage:\n  \n  `rm -i file1` - will prompt you if you are sure and then remove `file1`.  This is good practice in case you make a mistake... there is no un-remove command!  It is possible to use `rm file1`, but then you better be very sure.\n  \n* **rmdir** - \"remove directory\" - removes empty diretories.\n\n  Usage:\n  \n  `rmdir dir1` - removes `dir1` if it is empty.\n  \n* **sudo** - \"super user do\" - this is a very useful command that will allow you permission to run some of the above commands.  You may need to enter a password if your machine is password protected.\n\n  Usage:\n  \n  `sudo some_command`\n  \n## Reference\nhttp://www.ucs.cam.ac.uk/docs/leaflets/u5\n\n"
        }
      ]
    }
  ],
  "metadata": {
    "name": "Untitled0.ipynb",
    "colabVersion": "0.1"
  },
  "nbformat": 3,
  "nbformat_minor": 0
}
