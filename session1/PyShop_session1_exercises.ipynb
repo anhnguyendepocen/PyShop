{
 "cells": [
  {
   "cell_type": "markdown",
   "metadata": {},
   "source": [
    "# PyShop Session 1\n",
    "## Exercises\n",
    "***\n",
    "\n",
    "These exercises are meant to help you to get to know the standard Python data types, their methods, and some useful built-in functions.  Keep in mind that there are always many ways to solve these problems, but I encourage you to do so **WITHOUT IMPORTING ANYTHING!**  That will help you to familiarize yourself with the native functionality.\n",
    "\n",
    "The questions are in increasing difficulty, where the first question should take you less than a minute and the last one you might not be able to figure out.  Good luck!\n",
    "\n",
    "**Note:** I appologize for the solutions and questions not being next to each other, but there is a numbering issue in the Markdown that generates this text.  Sorry, but it is a known bug that has yet to be fixed!"
   ]
  },
  {
   "cell_type": "markdown",
   "metadata": {},
   "source": [
    "### Lists\n",
    "1.  Go have a look at the Python documentation regarding lists here: <a href=\"https://docs.python.org/3/tutorial/datastructures.html\" target=\"_blank\">https://docs.python.org/3/tutorial/datastructures.html</a>.  Once you've done that, define an empty list, called `x` and a list containing the numbers 1 through 100, called `y`.  Finally, print your variables using a single line of code.\n",
    "\n",
    "2.  Loop over your list `y` and fill `x` with the indices of `y` for all of the entries that are even.  That is, if `y[5]` is even, add the index 5 to `x`.  Again, print `x` and check your work.  BONUS: Use a boolean test to check whether all of the elements of `y` indexed by the entries of `x` are even.\n",
    "\n",
    "3. **Difficult.**  For all of the odd numbers between zero and 100 (N = 1, 3, ... 99), generate a list containing all of the integers less than N.  Do this in one line using your two lists `x` and `y`.  Your results should be contained in a list of lists, call it `z`.  Use a slice and print only part of z to see if how you did.\n",
    "\n",
    "### Strings\n",
    "4.  Read in the 'jabberwocky.txt' file accompanying these exercises to a single string.\n",
    "\n",
    "5.  Compare the \"raw string\" and the output from `print`.  What is the difference?\n",
    "\n",
    "6.  Use built in methods to split the poem into lines, delineated by a unicode line break marker.  What is still a problem with these strings?  How is their formatting different?  What characters are still a problem?\n",
    "\n",
    "7.  Use built in methods to 'strip' (hint, hint!) the leading white space from the lines.  Bonus points if you do it in a single line.\n",
    "\n",
    "8.  Remove all punctuation, replace the remaining unicode markers for appostrophes with appostrophes, remove those corresponding to quotes, and convert the text to lower-case.\n",
    "\n",
    "9.  Split the poem into words, ending up with a list of words.  That means your list should be one dimensional!\n",
    "\n",
    "10.  Finally, write a small script that takes input from the user and generates a random poem from the words in Jabberwocky!  My inputs are simply the number of words, but you can be as creative as you want!"
   ]
  }
 ],
 "metadata": {
  "colabVersion": "0.1",
  "kernelspec": {
   "display_name": "Python 3",
   "language": "python",
   "name": "python3"
  },
  "language_info": {
   "codemirror_mode": {
    "name": "ipython",
    "version": 3
   },
   "file_extension": ".py",
   "mimetype": "text/x-python",
   "name": "python",
   "nbconvert_exporter": "python",
   "pygments_lexer": "ipython3",
   "version": "3.4.3"
  }
 },
 "nbformat": 4,
 "nbformat_minor": 0
}
