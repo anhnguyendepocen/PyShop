{
 "cells": [
  {
   "cell_type": "code",
   "execution_count": 2,
   "metadata": {
    "cellView": null,
    "collapsed": true,
    "executionInfo": {
     "content": {
      "execution_count": 4,
      "payload": [],
      "status": "ok",
      "user_expressions": {},
      "user_variables": {}
     },
     "timestamp": 1442321941069,
     "user": {
      "color": "#1FA15D",
      "displayName": "Tyler ABBOT",
      "isAnonymous": false,
      "isMe": true,
      "permissionId": "16505155857712715068",
      "photoUrl": "https://lh3.googleusercontent.com/-XdUIqdMkCWA/AAAAAAAAAAI/AAAAAAAAAAA/4252rscbv5M/s128/photo.jpg",
      "sessionId": "4216ec92d4b9221f",
      "userId": "116017226967354791994"
     },
     "user_tz": -120
    }
   },
   "outputs": [],
   "source": [
    "%matplotlib inline"
   ]
  },
  {
   "cell_type": "code",
   "execution_count": 4,
   "metadata": {
    "collapsed": false
   },
   "outputs": [
    {
     "data": {
      "text/plain": [
       "[1]"
      ]
     },
     "execution_count": 4,
     "metadata": {},
     "output_type": "execute_result"
    }
   ],
   "source": [
    "x=[]\n",
    "x.append(1)\n",
    "x"
   ]
  },
  {
   "cell_type": "markdown",
   "metadata": {},
   "source": [
    "$$\n",
    "x\n",
    "$$"
   ]
  },
  {
   "cell_type": "code",
   "execution_count": 5,
   "metadata": {
    "cellView": null,
    "collapsed": false,
    "executionInfo": {
     "content": {
      "execution_count": 9,
      "payload": [],
      "status": "ok",
      "user_expressions": {},
      "user_variables": {}
     },
     "timestamp": 1442322198444,
     "user": {
      "color": "#1FA15D",
      "displayName": "Tyler ABBOT",
      "isAnonymous": false,
      "isMe": true,
      "permissionId": "16505155857712715068",
      "photoUrl": "https://lh3.googleusercontent.com/-XdUIqdMkCWA/AAAAAAAAAAI/AAAAAAAAAAA/4252rscbv5M/s128/photo.jpg",
      "sessionId": "4216ec92d4b9221f",
      "userId": "116017226967354791994"
     },
     "user_tz": -120
    }
   },
   "outputs": [
    {
     "name": "stderr",
     "output_type": "stream",
     "text": [
      "/home/pi/env/lib/python3.4/site-packages/matplotlib/collections.py:590: FutureWarning: elementwise comparison failed; returning scalar instead, but in the future will perform elementwise comparison\n",
      "  if self._edgecolors == str('face'):\n"
     ]
    },
    {
     "data": {
      "image/png": "[encoded data removed]",
      "text/plain": [
       "<matplotlib.figure.Figure at 0x708624b0>"
      ]
     },
     "metadata": {},
     "output_type": "display_data"
    }
   ],
   "source": [
    "\"\"\"\n",
    "Origin: A simple example.\n",
    "Filename: example_scatter.py\n",
    "Author: Tyler Abbot\n",
    "Last modified: 15 September, 2015\n",
    "\n",
    "qsdlmkfjdlmqksdfj\n",
    "\"\"\"\n",
    "import matplotlib.pyplot as plt\n",
    "import random\n",
    "\n",
    "x, y = [], []\n",
    "for i in range(0,50):\n",
    "   #This is a comment\n",
    "   x.append(random.random())\n",
    "   y.append(random.random())\n",
    "\n",
    "plt.scatter(x, y)\n",
    "plt.xlabel('x')\n",
    "plt.ylabel('y')\n",
    "plt.title('A Bivariate Uniform Random Variable')\n",
    "plt.show()"
   ]
  },
  {
   "cell_type": "code",
   "execution_count": 16,
   "metadata": {
    "collapsed": false
   },
   "outputs": [
    {
     "data": {
      "text/plain": [
       "[2, 2]"
      ]
     },
     "execution_count": 16,
     "metadata": {},
     "output_type": "execute_result"
    }
   ],
   "source": [
    "x = [[1,1], [2,2]]\n",
    "x[1]"
   ]
  },
  {
   "cell_type": "code",
   "execution_count": 19,
   "metadata": {
    "cellView": null,
    "collapsed": false,
    "executionInfo": {
     "content": {
      "execution_count": 11,
      "payload": [],
      "status": "ok",
      "user_expressions": {},
      "user_variables": {}
     },
     "timestamp": 1442325020548,
     "user": {
      "color": "#1FA15D",
      "displayName": "Tyler ABBOT",
      "isAnonymous": false,
      "isMe": true,
      "permissionId": "16505155857712715068",
      "photoUrl": "https://lh3.googleusercontent.com/-XdUIqdMkCWA/AAAAAAAAAAI/AAAAAAAAAAA/4252rscbv5M/s128/photo.jpg",
      "sessionId": "4216ec92d4b9221f",
      "userId": "116017226967354791994"
     },
     "user_tz": -120
    }
   },
   "outputs": [
    {
     "name": "stdout",
     "output_type": "stream",
     "text": [
      "hello\n"
     ]
    },
    {
     "ename": "TypeError",
     "evalue": "Can't convert 'int' object to str implicitly",
     "output_type": "error",
     "traceback": [
      "\u001b[1;31m---------------------------------------------------------------------------\u001b[0m",
      "\u001b[1;31mTypeError\u001b[0m                                 Traceback (most recent call last)",
      "\u001b[1;32m<ipython-input-19-6d45aa056b22>\u001b[0m in \u001b[0;36m<module>\u001b[1;34m()\u001b[0m\n\u001b[0;32m      2\u001b[0m \u001b[1;32mfor\u001b[0m \u001b[0mword\u001b[0m \u001b[1;32min\u001b[0m \u001b[0mwords\u001b[0m\u001b[1;33m:\u001b[0m\u001b[1;33m\u001b[0m\u001b[0m\n\u001b[0;32m      3\u001b[0m     \u001b[0mprint\u001b[0m\u001b[1;33m(\u001b[0m\u001b[0mword\u001b[0m\u001b[1;33m)\u001b[0m\u001b[1;33m\u001b[0m\u001b[0m\n\u001b[1;32m----> 4\u001b[1;33m     \u001b[0mprint\u001b[0m\u001b[1;33m(\u001b[0m\u001b[0mword\u001b[0m \u001b[1;33m+\u001b[0m\u001b[1;36m1\u001b[0m\u001b[1;33m)\u001b[0m\u001b[1;33m\u001b[0m\u001b[0m\n\u001b[0m",
      "\u001b[1;31mTypeError\u001b[0m: Can't convert 'int' object to str implicitly"
     ]
    }
   ],
   "source": [
    "words = ['hello', 'there', 'everyone', 1]\n",
    "for word in words: \n",
    "    print(word)\n",
    "    print(word +1)"
   ]
  },
  {
   "cell_type": "code",
   "execution_count": null,
   "metadata": {
    "cellView": null,
    "collapsed": false,
    "executionInfo": {
     "content": {
      "execution_count": 1,
      "payload": [],
      "status": "ok",
      "user_expressions": {},
      "user_variables": {}
     },
     "timestamp": 1442329901795,
     "user": {
      "color": "#1FA15D",
      "displayName": "Tyler ABBOT",
      "isAnonymous": false,
      "isMe": true,
      "permissionId": "16505155857712715068",
      "photoUrl": "https://lh3.googleusercontent.com/-XdUIqdMkCWA/AAAAAAAAAAI/AAAAAAAAAAA/4252rscbv5M/s128/photo.jpg",
      "sessionId": "1dd3cd764d1df19e",
      "userId": "116017226967354791994"
     },
     "user_tz": -120
    }
   },
   "outputs": [],
   "source": [
    "x = 1\n",
    "while True:\n",
    "    print(\"To infinity and beyond! We're getting close,\"\\\n",
    "           + \" on %d now!\" % (x))\n",
    "    x += 1\n",
    "    break"
   ]
  },
  {
   "cell_type": "code",
   "execution_count": 20,
   "metadata": {
    "collapsed": false
   },
   "outputs": [
    {
     "name": "stdout",
     "output_type": "stream",
     "text": [
      "You better fill this in at some point...\n"
     ]
    }
   ],
   "source": [
    "#Create a string\n",
    "x = \"You better fill this in at some point...\"\n",
    "print(x)\n"
   ]
  },
  {
   "cell_type": "code",
   "execution_count": 30,
   "metadata": {
    "collapsed": false
   },
   "outputs": [
    {
     "name": "stdout",
     "output_type": "stream",
     "text": [
      "[0, 1, 2, 3, 4, 5, 6, 7, 8, 9]\n",
      "Yo\n",
      "You better fill this in at some point\n",
      "You better fill this in at some poin\n"
     ]
    }
   ],
   "source": [
    "y = list(range(0,10))\n",
    "print(y)\n",
    "print(x[:2])\n",
    "#Slice a string\n",
    "print(x[:-3])\n",
    "print(x[:-4])"
   ]
  },
  {
   "cell_type": "code",
   "execution_count": 28,
   "metadata": {
    "collapsed": false
   },
   "outputs": [
    {
     "name": "stdout",
     "output_type": "stream",
     "text": [
      "you better fill this in at some point...\n",
      "YOU BETTER FILL THIS IN AT SOME POINT...\n"
     ]
    }
   ],
   "source": [
    "#Change the case\n",
    "print(x.lower())\n",
    "print(x.upper())"
   ]
  },
  {
   "cell_type": "code",
   "execution_count": 32,
   "metadata": {
    "collapsed": false
   },
   "outputs": [
    {
     "name": "stdout",
     "output_type": "stream",
     "text": [
      "11\n",
      "fill this in at some point...\n"
     ]
    }
   ],
   "source": [
    "#Find the index of a substring\n",
    "print(x.find('fill'))\n",
    "print(x[11:])"
   ]
  },
  {
   "cell_type": "code",
   "execution_count": null,
   "metadata": {
    "collapsed": false
   },
   "outputs": [],
   "source": [
    "#Create a string\n",
    "x = \"You better fill this in at some point...\"\n",
    "print(x)\n",
    "\n",
    "#Slice a string\n",
    "print(x[:-3])\n",
    "\n",
    "#Change the case\n",
    "print(x.lower())\n",
    "print(x.upper())\n",
    "\n",
    "#Find the index of a substring\n",
    "print(x.find('fill'))\n",
    "print(x[11:])"
   ]
  },
  {
   "cell_type": "code",
   "execution_count": 33,
   "metadata": {
    "collapsed": false
   },
   "outputs": [
    {
     "name": "stdout",
     "output_type": "stream",
     "text": [
      "(1, 2, 3)\n",
      "('a', 'b', 'c')\n"
     ]
    }
   ],
   "source": [
    "#Define a tuple\n",
    "tup = 1, 2, 3\n",
    "tup1 = (\"a\", \"b\", \"c\")\n",
    "print(tup)\n",
    "print(tup1)"
   ]
  },
  {
   "cell_type": "code",
   "execution_count": 34,
   "metadata": {
    "collapsed": false
   },
   "outputs": [
    {
     "name": "stdout",
     "output_type": "stream",
     "text": [
      "1\n"
     ]
    }
   ],
   "source": [
    "#Retrieving tuple data\n",
    "print(tup[0])\n"
   ]
  },
  {
   "cell_type": "code",
   "execution_count": 36,
   "metadata": {
    "collapsed": false
   },
   "outputs": [
    {
     "name": "stdout",
     "output_type": "stream",
     "text": [
      "(1, 2, 3)\n",
      "('a', 'b', 'c')\n",
      "1\n"
     ]
    },
    {
     "ename": "NameError",
     "evalue": "name 'tup' is not defined",
     "output_type": "error",
     "traceback": [
      "\u001b[1;31m---------------------------------------------------------------------------\u001b[0m",
      "\u001b[1;31mNameError\u001b[0m                                 Traceback (most recent call last)",
      "\u001b[1;32m<ipython-input-36-ffdd7fb3b87b>\u001b[0m in \u001b[0;36m<module>\u001b[1;34m()\u001b[0m\n\u001b[0;32m     11\u001b[0m \u001b[1;31m#tup[0] = 1\u001b[0m\u001b[1;33m\u001b[0m\u001b[1;33m\u001b[0m\u001b[0m\n\u001b[0;32m     12\u001b[0m \u001b[1;32mdel\u001b[0m \u001b[0mtup\u001b[0m\u001b[1;33m\u001b[0m\u001b[0m\n\u001b[1;32m---> 13\u001b[1;33m \u001b[0mprint\u001b[0m\u001b[1;33m(\u001b[0m\u001b[0mtup\u001b[0m\u001b[1;33m)\u001b[0m\u001b[1;33m\u001b[0m\u001b[0m\n\u001b[0m",
      "\u001b[1;31mNameError\u001b[0m: name 'tup' is not defined"
     ]
    }
   ],
   "source": [
    "#Define a tuple\n",
    "tup = 1, 2, 3\n",
    "tup1 = (\"a\", \"b\", \"c\")\n",
    "print(tup)\n",
    "print(tup1)\n",
    "\n",
    "#Retrieving tuple data\n",
    "print(tup[0])\n",
    "\n",
    "#This won't work, since tuples are immutable\n",
    "#tup[0] = 1\n",
    "del tup\n",
    "print(tup)"
   ]
  },
  {
   "cell_type": "code",
   "execution_count": 37,
   "metadata": {
    "collapsed": false
   },
   "outputs": [
    {
     "name": "stdout",
     "output_type": "stream",
     "text": [
      "dict_items([('SciPy', 'numerical methods'), ('NumPy', 'arrays'), ('Pandas', 'statistics')])\n",
      "None\n",
      "arrays\n"
     ]
    }
   ],
   "source": [
    "#Define a dictionary\n",
    "packages = {'NumPy': 'arrays',\n",
    "            'SciPy': 'numerical methods',\n",
    "            'Pandas': 'statistics'}\n",
    "\n",
    "#Get info\n",
    "print(packages.items())\n",
    "print(packages.get('matplotlib'))\n",
    "print(packages['NumPy'])"
   ]
  },
  {
   "cell_type": "code",
   "execution_count": 44,
   "metadata": {
    "collapsed": false
   },
   "outputs": [
    {
     "name": "stdout",
     "output_type": "stream",
     "text": [
      "dict_items([('SciPy', 'numerical methods'), ('NumPy', 'arrays'), ('Pandas', 'statistics')])\n",
      "None\n",
      "arrays\n",
      "SciPy is most useful for numerical methods.\n",
      "SciPy is a package\n",
      "NumPy is most useful for arrays.\n",
      "NumPy is a package\n",
      "Pandas is most useful for statistics.\n",
      "Pandas is a package\n"
     ]
    }
   ],
   "source": [
    "#Define a dictionary\n",
    "packages = {'NumPy': 'arrays',\n",
    "            'SciPy': 'numerical methods',\n",
    "            'Pandas': 'statistics'}\n",
    "\n",
    "#Get info\n",
    "print(packages.items())\n",
    "print(packages.get('matplotlib'))\n",
    "print(packages['NumPy'])\n",
    "\n",
    "#Loop through the dictionary\n",
    "for package, use in packages.items():\n",
    "    print(\"%s is most useful for %s.\" %(package, use))\n",
    "    print(str(package) + \" is a package\")"
   ]
  },
  {
   "cell_type": "code",
   "execution_count": 43,
   "metadata": {
    "collapsed": false
   },
   "outputs": [
    {
     "name": "stdout",
     "output_type": "stream",
     "text": [
      "0 100\n",
      "1 101\n",
      "2 102\n",
      "3 103\n",
      "4 104\n",
      "5 105\n",
      "6 106\n",
      "7 107\n",
      "8 108\n",
      "9 109\n",
      "0 100\n",
      "1 101\n",
      "2 102\n",
      "3 103\n",
      "4 104\n",
      "5 105\n",
      "6 106\n",
      "7 107\n",
      "8 108\n",
      "9 109\n"
     ]
    }
   ],
   "source": [
    "x = list(range(100,110))\n",
    "x\n",
    "for i, j in enumerate(x):\n",
    "    print(i, j)\n",
    "    \n",
    "i=0\n",
    "for j in x:\n",
    "    print(i, j)\n",
    "    i += 1"
   ]
  },
  {
   "cell_type": "code",
   "execution_count": null,
   "metadata": {
    "collapsed": true
   },
   "outputs": [],
   "source": []
  }
 ],
 "metadata": {
  "colabVersion": "0.1",
  "kernelspec": {
   "display_name": "Python 3",
   "language": "python",
   "name": "python3"
  },
  "language_info": {
   "codemirror_mode": {
    "name": "ipython",
    "version": 3
   },
   "file_extension": ".py",
   "mimetype": "text/x-python",
   "name": "python",
   "nbconvert_exporter": "python",
   "pygments_lexer": "ipython3",
   "version": "3.4.3"
  }
 },
 "nbformat": 4,
 "nbformat_minor": 0
}
