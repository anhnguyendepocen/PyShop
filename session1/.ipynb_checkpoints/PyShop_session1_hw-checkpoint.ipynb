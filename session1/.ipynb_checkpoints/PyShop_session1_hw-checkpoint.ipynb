{
 "cells": [
  {
   "cell_type": "markdown",
   "metadata": {},
   "source": [
    "# PyShop Session 1\n",
    "***\n",
    "Homework to do to review this week:\n",
    "\n",
    "1. Do the exercises in `PyShop_session1_exercises.ipynb`.\n",
    "\n",
    "3. Read the notes in 'PyShop_session1_notes.ipynb'.\n",
    "\n",
    "2. Check out the Link to <a href=\"http://quant-econ.net/py/python_essentials.html\" target=\"_blank\">Python Essentials</a>, <a href=\"http://quant-econ.net/py/python_oop.html\" target=\"_blank\">Object Oriented Programming</a>, <a href=\"http://quant-econ.net/py/python_foundations.html\" target=\"_blank\">How it Works: Data, Variables, and Types</a>, and <a href=\"http://quant-econ.net/py/python_advanced_features.html\" target=\"_blank\">More Language Features</a> lessons from Tom Sargent's QuantEcon.\n",
    "\n",
    "3. Do the <a href=\"http://learnpythonthehardway.org/book/ex3.html\" target=\"_blank\">Numbers and Math</a>, <a href=\"http://learnpythonthehardway.org/book/ex4.html\" target=\"_blank\">Variables and Names</a>, <a href=\"\" target=\"_blank\">Strings and Text</a>, <a href=\"http://learnpythonthehardway.org/book/ex15.html\" target=\"_blank\">Reading Files</a>, <a href=\"http://learnpythonthehardway.org/book/ex16.html\" target=\"_blank\">Reading and Writing Files</a>, <a href=\"http://learnpythonthehardway.org/book/ex17.html\" target=\"_blank\">More Files</a>, and <a href=\"http://learnpythonthehardway.org/book/ex18.html\" target=\"_blank\">Names, Variables, Code, and Functions</a> lessons from Learning Python the Hard Way.\n"
   ]
  }
 ],
 "metadata": {
  "colabVersion": "0.1",
  "kernelspec": {
   "display_name": "Python 3",
   "language": "python",
   "name": "python3"
  },
  "language_info": {
   "codemirror_mode": {
    "name": "ipython",
    "version": 3
   },
   "file_extension": ".py",
   "mimetype": "text/x-python",
   "name": "python",
   "nbconvert_exporter": "python",
   "pygments_lexer": "ipython3",
   "version": "3.3.5"
  }
 },
 "nbformat": 4,
 "nbformat_minor": 0
}
