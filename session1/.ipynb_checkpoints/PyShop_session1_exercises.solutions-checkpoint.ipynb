{
 "cells": [
  {
   "cell_type": "markdown",
   "metadata": {},
   "source": [
    "# PyShop Session 1\n",
    "## Exercises\n",
    "***\n",
    "\n",
    "These exercises are meant to help you to get to know the standard Python data types, their methods, and some useful built-in functions.  Keep in mind that there are always many ways to solve these problems, but I encourage you to do so **WITHOUT IMPORTING ANYTHING!**  That will help you to familiarize yourself with the native functionality.\n",
    "\n",
    "The questions are in increasing difficulty, where the first question should take you less than a minute and the last one you might not be able to figure out.  Good luck!\n",
    "\n",
    "**Note:** I appologize for the solutions and questions not being next to each other, but there is a numbering issue in the Markdown that generates this text.  Sorry, but it is a known bug that has yet to be fixed!"
   ]
  },
  {
   "cell_type": "markdown",
   "metadata": {},
   "source": [
    "1.  Go have a look at the Python documentation regarding lists <a href=\"https://docs.python.org/3/tutorial/datastructures.html\" target=\"_blank\">here</a> .  Once you've done that, define an empty list, called `x` and a list containing the numbers 1 through 100, called `y`.  Finally, print your variables using a single line of code.\n",
    "\n",
    "2.  Loop over your list `y` and fill `x` with the indices of `y` for all of the entries that are even.  That is, if `y[5]` is even, add the index 5 to `x`.  Again, print `x` and check your work. Hint: Take a look at the built in function \"enumerate()\".  BONUS: Use a boolean test to check whether all of the elements of `y` indexed by the entries of `x` are even.\n",
    "\n",
    "3.  For all of the odd numbers between zero and 100 (N = 1, 3, ... 99), generate a new list containing all of the integers less than N.  Do this in one line using your two lists `x` and `y`.  Your results should be contained in a list of lists, call it `z`.  Use a slice and print only part of z to see how you did.\n",
    "\n",
    "4.  Read in the 'jabberwocky.txt' file accompanying these exercises to a single string.\n",
    "\n",
    "5.  Compare the raw string and the output from `print`.  What is the difference?\n",
    "\n",
    "6.  Use built in methods to split the poem into lines using the '\\n' line break marker.  What is still a problem with these strings?  How is their formatting different?  What characters are still a problem?\n",
    "\n",
    "7.  Use built in methods to 'strip' (hint, hint!) the leading white space from the lines.  Bonus points if you do it in a single line.\n",
    "\n",
    "8.  Remove all punctuation, replace the remaining unicode markers for appostrophes with actual appostrophes, remove those corresponding to quotes, and convert the text to lower-case.\n",
    "\n",
    "9.  Split the poem into words, ending up with a list of words.  That means your list should be one dimensional!  Check this by running `len(words)`.  Is the result a single number or several?\n",
    "\n",
    "10.  Finally, write a small script that takes input from the user and generates a random poem from the words in Jabberwocky!  My inputs are simply the number of words, but you can be as creative as you want!"
   ]
  },
  {
   "cell_type": "code",
   "execution_count": 2,
   "metadata": {
    "cellView": null,
    "collapsed": false,
    "executionInfo": {
     "content": {
      "execution_count": 32,
      "payload": [],
      "status": "ok",
      "user_expressions": {},
      "user_variables": {}
     },
     "timestamp": 1442332260026,
     "user": {
      "color": "#1FA15D",
      "displayName": "Tyler ABBOT",
      "isAnonymous": false,
      "isMe": true,
      "permissionId": "16505155857712715068",
      "photoUrl": "https://lh3.googleusercontent.com/-XdUIqdMkCWA/AAAAAAAAAAI/AAAAAAAAAAA/4252rscbv5M/s128/photo.jpg",
      "sessionId": "e3746c1ff848e33",
      "userId": "116017226967354791994"
     },
     "user_tz": -120
    }
   },
   "outputs": [
    {
     "name": "stdout",
     "output_type": "stream",
     "text": [
      "[] [1, 2, 3, 4, 5, 6, 7, 8, 9, 10, 11, 12, 13, 14, 15, 16, 17, 18, 19, 20, 21, 22, 23, 24, 25, 26, 27, 28, 29, 30, 31, 32, 33, 34, 35, 36, 37, 38, 39, 40, 41, 42, 43, 44, 45, 46, 47, 48, 49, 50, 51, 52, 53, 54, 55, 56, 57, 58, 59, 60, 61, 62, 63, 64, 65, 66, 67, 68, 69, 70, 71, 72, 73, 74, 75, 76, 77, 78, 79, 80, 81, 82, 83, 84, 85, 86, 87, 88, 89, 90, 91, 92, 93, 94, 95, 96, 97, 98, 99, 100]\n"
     ]
    }
   ],
   "source": [
    "x = []\n",
    "y = [i for i in range(1,101)]\n",
    "print(x,y)"
   ]
  },
  {
   "cell_type": "code",
   "execution_count": 4,
   "metadata": {
    "cellView": null,
    "collapsed": false,
    "executionInfo": {
     "content": {
      "execution_count": 33,
      "payload": [],
      "status": "ok",
      "user_expressions": {},
      "user_variables": {}
     },
     "timestamp": 1442332262204,
     "user": {
      "color": "#1FA15D",
      "displayName": "Tyler ABBOT",
      "isAnonymous": false,
      "isMe": true,
      "permissionId": "16505155857712715068",
      "photoUrl": "https://lh3.googleusercontent.com/-XdUIqdMkCWA/AAAAAAAAAAI/AAAAAAAAAAA/4252rscbv5M/s128/photo.jpg",
      "sessionId": "e3746c1ff848e33",
      "userId": "116017226967354791994"
     },
     "user_tz": -120
    }
   },
   "outputs": [
    {
     "name": "stdout",
     "output_type": "stream",
     "text": [
      "[1, 3, 5, 7, 9, 11, 13, 15, 17, 19, 21, 23, 25, 27, 29, 31, 33, 35, 37, 39, 41, 43, 45, 47, 49, 51, 53, 55, 57, 59, 61, 63, 65, 67, 69, 71, 73, 75, 77, 79, 81, 83, 85, 87, 89, 91, 93, 95, 97, 99]\n",
      "False\n",
      "True\n"
     ]
    }
   ],
   "source": [
    "for index, item in enumerate(y):\n",
    "  if item%2 == 0: x.append(index)\n",
    "print(x)\n",
    "\n",
    "#BONUS!\n",
    "print(any([y[i]%2 == 1 for i in x]))\n",
    "\n",
    "#Just to show you that this worked, change one entry in x\n",
    "x[0] = 0\n",
    "print(any([y[i]%2 == 1 for i in x]))\n",
    "\n",
    "#Let's change x back so we don't have more problems:\n",
    "x[0] = 1"
   ]
  },
  {
   "cell_type": "code",
   "execution_count": 5,
   "metadata": {
    "cellView": null,
    "collapsed": false,
    "executionInfo": {
     "content": {
      "execution_count": 45,
      "payload": [],
      "status": "ok",
      "user_expressions": {},
      "user_variables": {}
     },
     "timestamp": 1442333677812,
     "user": {
      "color": "#1FA15D",
      "displayName": "Tyler ABBOT",
      "isAnonymous": false,
      "isMe": true,
      "permissionId": "16505155857712715068",
      "photoUrl": "https://lh3.googleusercontent.com/-XdUIqdMkCWA/AAAAAAAAAAI/AAAAAAAAAAA/4252rscbv5M/s128/photo.jpg",
      "sessionId": "e3746c1ff848e33",
      "userId": "116017226967354791994"
     },
     "user_tz": -120
    }
   },
   "outputs": [
    {
     "name": "stdout",
     "output_type": "stream",
     "text": [
      "[[1], [1, 2, 3], [1, 2, 3, 4, 5]]\n"
     ]
    }
   ],
   "source": [
    "z = [i for i in [y[:I] for I in x]]\n",
    "print(z[:3])"
   ]
  },
  {
   "cell_type": "code",
   "execution_count": 8,
   "metadata": {
    "collapsed": false
   },
   "outputs": [
    {
     "name": "stdout",
     "output_type": "stream",
     "text": [
      "Jabberwocky\n",
      "BY LEWIS CARROLL\n",
      "’Twas brillig, and the slithy toves\n",
      "      Did gyre and gimble in the wabe:\n",
      "All mimsy were the borogoves,\n",
      "      And the mome raths outgrabe.\n",
      "\n",
      "“Beware the Jabberwock, my son!\n",
      "      The jaws that bite, the claws that catch!\n",
      "Beware the Jubjub bird, and shun\n",
      "      The frumious Bandersnatch!”\n",
      "\n",
      "He took his vorpal sword in hand;\n",
      "      Long time the manxome foe he sought—\n",
      "So rested he by the Tumtum tree\n",
      "      And stood awhile in thought.\n",
      "\n",
      "And, as in uffish thought he stood,\n",
      "      The Jabberwock, with eyes of flame,\n",
      "Came whiffling through the tulgey wood,\n",
      "      And burbled as it came!\n",
      "\n",
      "One, two! One, two! And through and through\n",
      "      The vorpal blade went snicker-snack!\n",
      "He left it dead, and with its head\n",
      "      He went galumphing back.\n",
      "\n",
      "“And hast thou slain the Jabberwock?\n",
      "      Come to my arms, my beamish boy!\n",
      "O frabjous day! Callooh! Callay!”\n",
      "      He chortled in his joy.\n",
      "\n",
      "’Twas brillig, and the slithy toves\n",
      "      Did gyre and gimble in the wabe:\n",
      "All mimsy were the borogoves,\n",
      "      And the mome raths outgrabe.\n",
      "\n"
     ]
    },
    {
     "data": {
      "text/plain": [
       "'Jabberwocky\\nBY LEWIS CARROLL\\n’Twas brillig, and the slithy toves\\n      Did gyre and gimble in the wabe:\\nAll mimsy were the borogoves,\\n      And the mome raths outgrabe.\\n\\n“Beware the Jabberwock, my son!\\n      The jaws that bite, the claws that catch!\\nBeware the Jubjub bird, and shun\\n      The frumious Bandersnatch!”\\n\\nHe took his vorpal sword in hand;\\n      Long time the manxome foe he sought—\\nSo rested he by the Tumtum tree\\n      And stood awhile in thought.\\n\\nAnd, as in uffish thought he stood,\\n      The Jabberwock, with eyes of flame,\\nCame whiffling through the tulgey wood,\\n      And burbled as it came!\\n\\nOne, two! One, two! And through and through\\n      The vorpal blade went snicker-snack!\\nHe left it dead, and with its head\\n      He went galumphing back.\\n\\n“And hast thou slain the Jabberwock?\\n      Come to my arms, my beamish boy!\\nO frabjous day! Callooh! Callay!”\\n      He chortled in his joy.\\n\\n’Twas brillig, and the slithy toves\\n      Did gyre and gimble in the wabe:\\nAll mimsy were the borogoves,\\n      And the mome raths outgrabe.\\n'"
      ]
     },
     "execution_count": 8,
     "metadata": {},
     "output_type": "execute_result"
    }
   ],
   "source": [
    "f = open('jabberwocky.txt')\n",
    "poem = f.read()\n",
    "print(poem)\n",
    "poem"
   ]
  },
  {
   "cell_type": "markdown",
   "metadata": {},
   "source": [
    "Notice that the raw string contains the line seperators, tab markers, etc., while `print` processes these and prints the desired styling.  This is an important point, as if your raw strings contain these characters (the `\\` is the break character in Python) you will have errors."
   ]
  },
  {
   "cell_type": "code",
   "execution_count": 9,
   "metadata": {
    "collapsed": false
   },
   "outputs": [
    {
     "data": {
      "text/plain": [
       "['Jabberwocky',\n",
       " 'BY LEWIS CARROLL',\n",
       " '’Twas brillig, and the slithy toves',\n",
       " '      Did gyre and gimble in the wabe:',\n",
       " 'All mimsy were the borogoves,',\n",
       " '      And the mome raths outgrabe.',\n",
       " '',\n",
       " '“Beware the Jabberwock, my son!',\n",
       " '      The jaws that bite, the claws that catch!',\n",
       " 'Beware the Jubjub bird, and shun',\n",
       " '      The frumious Bandersnatch!”',\n",
       " '',\n",
       " 'He took his vorpal sword in hand;',\n",
       " '      Long time the manxome foe he sought—',\n",
       " 'So rested he by the Tumtum tree',\n",
       " '      And stood awhile in thought.',\n",
       " '',\n",
       " 'And, as in uffish thought he stood,',\n",
       " '      The Jabberwock, with eyes of flame,',\n",
       " 'Came whiffling through the tulgey wood,',\n",
       " '      And burbled as it came!',\n",
       " '',\n",
       " 'One, two! One, two! And through and through',\n",
       " '      The vorpal blade went snicker-snack!',\n",
       " 'He left it dead, and with its head',\n",
       " '      He went galumphing back.',\n",
       " '',\n",
       " '“And hast thou slain the Jabberwock?',\n",
       " '      Come to my arms, my beamish boy!',\n",
       " 'O frabjous day! Callooh! Callay!”',\n",
       " '      He chortled in his joy.',\n",
       " '',\n",
       " '’Twas brillig, and the slithy toves',\n",
       " '      Did gyre and gimble in the wabe:',\n",
       " 'All mimsy were the borogoves,',\n",
       " '      And the mome raths outgrabe.',\n",
       " '']"
      ]
     },
     "execution_count": 9,
     "metadata": {},
     "output_type": "execute_result"
    }
   ],
   "source": [
    "lines = poem.split('\\n')\n",
    "lines"
   ]
  },
  {
   "cell_type": "markdown",
   "metadata": {},
   "source": [
    "You'll now notice that some of the strings contain leading white space that could be a problem for some algorithms or programs.  Also, the quotation marks and appostrophes are still marked with their unicode markers."
   ]
  },
  {
   "cell_type": "code",
   "execution_count": 10,
   "metadata": {
    "collapsed": false
   },
   "outputs": [
    {
     "data": {
      "text/plain": [
       "['Jabberwocky',\n",
       " 'BY LEWIS CARROLL',\n",
       " '’Twas brillig, and the slithy toves',\n",
       " 'Did gyre and gimble in the wabe:',\n",
       " 'All mimsy were the borogoves,',\n",
       " 'And the mome raths outgrabe.',\n",
       " '',\n",
       " '“Beware the Jabberwock, my son!',\n",
       " 'The jaws that bite, the claws that catch!',\n",
       " 'Beware the Jubjub bird, and shun',\n",
       " 'The frumious Bandersnatch!”',\n",
       " '',\n",
       " 'He took his vorpal sword in hand;',\n",
       " 'Long time the manxome foe he sought—',\n",
       " 'So rested he by the Tumtum tree',\n",
       " 'And stood awhile in thought.',\n",
       " '',\n",
       " 'And, as in uffish thought he stood,',\n",
       " 'The Jabberwock, with eyes of flame,',\n",
       " 'Came whiffling through the tulgey wood,',\n",
       " 'And burbled as it came!',\n",
       " '',\n",
       " 'One, two! One, two! And through and through',\n",
       " 'The vorpal blade went snicker-snack!',\n",
       " 'He left it dead, and with its head',\n",
       " 'He went galumphing back.',\n",
       " '',\n",
       " '“And hast thou slain the Jabberwock?',\n",
       " 'Come to my arms, my beamish boy!',\n",
       " 'O frabjous day! Callooh! Callay!”',\n",
       " 'He chortled in his joy.',\n",
       " '',\n",
       " '’Twas brillig, and the slithy toves',\n",
       " 'Did gyre and gimble in the wabe:',\n",
       " 'All mimsy were the borogoves,',\n",
       " 'And the mome raths outgrabe.',\n",
       " '']"
      ]
     },
     "execution_count": 10,
     "metadata": {},
     "output_type": "execute_result"
    }
   ],
   "source": [
    "lines = [line.lstrip() for line in lines]\n",
    "lines"
   ]
  },
  {
   "cell_type": "code",
   "execution_count": 24,
   "metadata": {
    "collapsed": false
   },
   "outputs": [
    {
     "data": {
      "text/plain": [
       "['jabberwocky',\n",
       " 'by lewis carroll',\n",
       " '’twas brillig, and the slithy toves',\n",
       " 'did gyre and gimble in the wabe',\n",
       " 'all mimsy were the borogoves,',\n",
       " 'and the mome raths outgrabe',\n",
       " '“beware the jabberwock, my son',\n",
       " 'the jaws that bite, the claws that catch',\n",
       " 'beware the jubjub bird, and shun',\n",
       " 'the frumious bandersnatch”',\n",
       " 'he took his vorpal sword in hand',\n",
       " 'long time the manxome foe he sought—',\n",
       " 'so rested he by the tumtum tree',\n",
       " 'and stood awhile in thought',\n",
       " 'and, as in uffish thought he stood,',\n",
       " 'the jabberwock, with eyes of flame,',\n",
       " 'came whiffling through the tulgey wood,',\n",
       " 'and burbled as it came',\n",
       " 'one, two one, two and through and through',\n",
       " 'the vorpal blade went snicker-snack',\n",
       " 'he left it dead, and with its head',\n",
       " 'he went galumphing back',\n",
       " '“and hast thou slain the jabberwock',\n",
       " 'come to my arms, my beamish boy',\n",
       " 'o frabjous day callooh callay”',\n",
       " 'he chortled in his joy',\n",
       " '’twas brillig, and the slithy toves',\n",
       " 'did gyre and gimble in the wabe',\n",
       " 'all mimsy were the borogoves,',\n",
       " 'and the mome raths outgrabe']"
      ]
     },
     "execution_count": 24,
     "metadata": {},
     "output_type": "execute_result"
    }
   ],
   "source": [
    "#NOTE: I've shown two ways to do this here.  I understand there are packages that make\n",
    "#this much more efficient, but I'm seeking to make this set of exercises solely built in python.\n",
    "\n",
    "lines = [\"\".join(c for c in line if c not in (':', '.', '!', ';', '?')) for line in lines]\n",
    "lines = [line for line in lines if not line == '']\n",
    "lines = [line.replace('\\xe2\\x80\\x9c', r\"\") for line in lines]\n",
    "lines = [line.replace('\\xe2\\x80\\x94', r\"\") for line in lines]\n",
    "lines = [line.replace('\\xe2\\x80\\x99', r\"'\") for line in lines]\n",
    "lines = [line.replace('\\xe2\\x80\\x9d', r\"\") for line in lines]\n",
    "lines = [line.lower() for line in lines]\n",
    "lines"
   ]
  },
  {
   "cell_type": "markdown",
   "metadata": {},
   "source": [
    "This solution worked in Python 2, but in Python 3 I can't get the \" out.  If you can, good on you!"
   ]
  },
  {
   "cell_type": "code",
   "execution_count": 12,
   "metadata": {
    "collapsed": false
   },
   "outputs": [
    {
     "data": {
      "text/plain": [
       "['jabberwocky',\n",
       " 'by',\n",
       " 'lewis',\n",
       " 'carroll',\n",
       " '’twas',\n",
       " 'brillig,',\n",
       " 'and',\n",
       " 'the',\n",
       " 'slithy',\n",
       " 'toves',\n",
       " 'did',\n",
       " 'gyre',\n",
       " 'and',\n",
       " 'gimble',\n",
       " 'in',\n",
       " 'the',\n",
       " 'wabe',\n",
       " 'all',\n",
       " 'mimsy',\n",
       " 'were',\n",
       " 'the',\n",
       " 'borogoves,',\n",
       " 'and',\n",
       " 'the',\n",
       " 'mome',\n",
       " 'raths',\n",
       " 'outgrabe',\n",
       " '“beware',\n",
       " 'the',\n",
       " 'jabberwock,',\n",
       " 'my',\n",
       " 'son',\n",
       " 'the',\n",
       " 'jaws',\n",
       " 'that',\n",
       " 'bite,',\n",
       " 'the',\n",
       " 'claws',\n",
       " 'that',\n",
       " 'catch',\n",
       " 'beware',\n",
       " 'the',\n",
       " 'jubjub',\n",
       " 'bird,',\n",
       " 'and',\n",
       " 'shun',\n",
       " 'the',\n",
       " 'frumious',\n",
       " 'bandersnatch”',\n",
       " 'he',\n",
       " 'took',\n",
       " 'his',\n",
       " 'vorpal',\n",
       " 'sword',\n",
       " 'in',\n",
       " 'hand',\n",
       " 'long',\n",
       " 'time',\n",
       " 'the',\n",
       " 'manxome',\n",
       " 'foe',\n",
       " 'he',\n",
       " 'sought—',\n",
       " 'so',\n",
       " 'rested',\n",
       " 'he',\n",
       " 'by',\n",
       " 'the',\n",
       " 'tumtum',\n",
       " 'tree',\n",
       " 'and',\n",
       " 'stood',\n",
       " 'awhile',\n",
       " 'in',\n",
       " 'thought',\n",
       " 'and,',\n",
       " 'as',\n",
       " 'in',\n",
       " 'uffish',\n",
       " 'thought',\n",
       " 'he',\n",
       " 'stood,',\n",
       " 'the',\n",
       " 'jabberwock,',\n",
       " 'with',\n",
       " 'eyes',\n",
       " 'of',\n",
       " 'flame,',\n",
       " 'came',\n",
       " 'whiffling',\n",
       " 'through',\n",
       " 'the',\n",
       " 'tulgey',\n",
       " 'wood,',\n",
       " 'and',\n",
       " 'burbled',\n",
       " 'as',\n",
       " 'it',\n",
       " 'came',\n",
       " 'one,',\n",
       " 'two',\n",
       " 'one,',\n",
       " 'two',\n",
       " 'and',\n",
       " 'through',\n",
       " 'and',\n",
       " 'through',\n",
       " 'the',\n",
       " 'vorpal',\n",
       " 'blade',\n",
       " 'went',\n",
       " 'snicker-snack',\n",
       " 'he',\n",
       " 'left',\n",
       " 'it',\n",
       " 'dead,',\n",
       " 'and',\n",
       " 'with',\n",
       " 'its',\n",
       " 'head',\n",
       " 'he',\n",
       " 'went',\n",
       " 'galumphing',\n",
       " 'back',\n",
       " '“and',\n",
       " 'hast',\n",
       " 'thou',\n",
       " 'slain',\n",
       " 'the',\n",
       " 'jabberwock',\n",
       " 'come',\n",
       " 'to',\n",
       " 'my',\n",
       " 'arms,',\n",
       " 'my',\n",
       " 'beamish',\n",
       " 'boy',\n",
       " 'o',\n",
       " 'frabjous',\n",
       " 'day',\n",
       " 'callooh',\n",
       " 'callay”',\n",
       " 'he',\n",
       " 'chortled',\n",
       " 'in',\n",
       " 'his',\n",
       " 'joy',\n",
       " '’twas',\n",
       " 'brillig,',\n",
       " 'and',\n",
       " 'the',\n",
       " 'slithy',\n",
       " 'toves',\n",
       " 'did',\n",
       " 'gyre',\n",
       " 'and',\n",
       " 'gimble',\n",
       " 'in',\n",
       " 'the',\n",
       " 'wabe',\n",
       " 'all',\n",
       " 'mimsy',\n",
       " 'were',\n",
       " 'the',\n",
       " 'borogoves,',\n",
       " 'and',\n",
       " 'the',\n",
       " 'mome',\n",
       " 'raths',\n",
       " 'outgrabe']"
      ]
     },
     "execution_count": 12,
     "metadata": {},
     "output_type": "execute_result"
    }
   ],
   "source": [
    "words = [word for line in lines for word in line.split()]\n",
    "words"
   ]
  },
  {
   "cell_type": "code",
   "execution_count": 20,
   "metadata": {
    "collapsed": false
   },
   "outputs": [
    {
     "name": "stdout",
     "output_type": "stream",
     "text": [
      "So, you think Jabberwocky is ridiculous?  I bet I can do one better!\n",
      "How long should my poem be?  (be nice and put in an integer)  \n",
      "100\n",
      "\n",
      " Here's a crazier poem: \n",
      "\n",
      "and\n",
      " he\n",
      " in the two\n",
      " and mome went he slain in came and\n",
      " his\n",
      " chortled back as the stood carroll and jabberwock he were\n",
      " son ’twas sought— “beware in\n",
      " as in raths\n",
      " wood, it lewis gyre in to borogoves, in jabberwocky\n",
      " his and mome jaws awhile as burbled\n",
      " gyre\n",
      " burbled with so mome the\n",
      " boy\n",
      " the and toves and and, callooh tulgey one, hast bite,\n",
      " with mimsy slain\n",
      " ’twas carroll came ’twas the he brillig,\n",
      " raths rested sword and, bite, callay” and hand\n",
      " and gyre\n",
      " in and one, lewis flame, borogoves,\n",
      " and through and, time ’twas raths slain toves\n",
      " wabe\n",
      " \n"
     ]
    }
   ],
   "source": [
    "import random\n",
    "\n",
    "print(\"So, you think Jabberwocky is ridiculous?  I bet I can do one better!\")\n",
    "print(\"How long should my poem be?  (be nice and put in an integer)  \")\n",
    "number_of_words = int(input())\n",
    "\n",
    "#Generate a string of random numbers, implying indices\n",
    "ind = [random.randint(0, len(words) - 1) for i in range(0, number_of_words)]\n",
    "\n",
    "#Generate a list of random numbers to represent words per line\n",
    "words_per_line = [random.randint(0, 10) for i in range(number_of_words)] \n",
    "\n",
    "#Create the lines of the poem in a loop\n",
    "line = 0\n",
    "k = 0\n",
    "crazy_poem_lines = ['']\n",
    "for i in ind:\n",
    "    crazy_poem_lines[line] += words[i] + \" \"\n",
    "    k += 1\n",
    "    if k >= words_per_line[line]:\n",
    "        k = 0\n",
    "        line += 1\n",
    "        crazy_poem_lines.append('')\n",
    "\n",
    "#When done, strip the trailing white space and add line breaks\n",
    "crazy_poem_lines = [line.rstrip() for line in crazy_poem_lines]\n",
    "crazy_poem_lines = [line + '\\n ' for line in crazy_poem_lines]\n",
    "\n",
    "#Finally, create a single poem\n",
    "crazy_poem = \"\\n Here's a crazier poem: \\n\\n\"\n",
    "for line in crazy_poem_lines:\n",
    "    crazy_poem += line\n",
    "print(crazy_poem)"
   ]
  },
  {
   "cell_type": "code",
   "execution_count": null,
   "metadata": {
    "collapsed": true
   },
   "outputs": [],
   "source": [
    "len(words)"
   ]
  }
 ],
 "metadata": {
  "colabVersion": "0.1",
  "kernelspec": {
   "display_name": "Python 3",
   "language": "python",
   "name": "python3"
  },
  "language_info": {
   "codemirror_mode": {
    "name": "ipython",
    "version": 3
   },
   "file_extension": ".py",
   "mimetype": "text/x-python",
   "name": "python",
   "nbconvert_exporter": "python",
   "pygments_lexer": "ipython3",
   "version": "3.4.3"
  }
 },
 "nbformat": 4,
 "nbformat_minor": 0
}
