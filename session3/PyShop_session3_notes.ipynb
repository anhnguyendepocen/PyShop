{
 "cells": [
  {
   "cell_type": "markdown",
   "metadata": {},
   "source": [
    "# PyShop Session 3 \n",
    "---------------------------\n",
    "##Advanced Topics in Numerical Methods and Array Manipulation.\n",
    "\n",
    "This session delves more deeply into the NumPy and SciPy libraries.  Numpy itself is mainly the ndarray object, but this has many features and we will cover its indexing and methods.  SciPy builds on NumPy by adding a host of numerical algorithms.  In order to make the session more fun, we will use NumPy and SciPy to solve an applied problem.  We will construct a program for solving the finite element solution of a simple RBC model.  If time permits, we will then try to vectorize this problem to get some speed up. \n"
   ]
  },
  {
   "cell_type": "markdown",
   "metadata": {},
   "source": [
    "##A Quick Introduction to Finite Elements\n",
    "\n",
    "In economics we are often faced with large, non-linear problems which we would like to solve numerically.  We do this in one of two ways: locally or globally.  A local approximation is the simplest method and is taught in most first year graduate macro courses, in the form of linearizations.  This can also be accomplished through perturbations.  However, we sometimes are interested in the solution far from the steady state.  In this case, we look for global solutions.  Most graduate students are familiar with value- or policy- function iteration, which solve for a policy function over the entire state space.  Another global method is called \"Finite Elements\", or \"Projection Methods\".\n",
    "\n",
    "Projection methods get their name from the assumption of a parameterized policy function.  This reduces the dimensionality of the problem from an infinite dimensional one to finite dimensions.  The name Finite Elements comes from the idea that, given this approximation the solution will be inexact.  However, a Galerkin weighted residual approximation will be exact, and thus we can write an integral equation.  We then break the state space into \"elements\", over which we integrate.  In this way, we break our problem down to a sequence of smaller problems.\n",
    "\n",
    "We'll work with the simplest example from McGratten, 1993, the first economics paper on Finite Elements.  Consider an economy with a representative agent who must choose a capital stock each period. Productivity follows a finite state markov chain, capital depreciates at a rate $\\delta$, and preferences are CRRA with risk aversion parameter $\\gamma$. Their problem can be written as\n",
    "\n",
    "$$\n",
    "\\begin{equation*}\n",
    "\\begin{aligned}\n",
    "& \\underset{\\{ c_t,k_{t+1} \\}_{t=0}^\\infty}{\\text{max}}\t\n",
    "& & \\mathbb{E} {\\sum_{t=0}^{\\infty}} \\beta \\frac{c_t^{1-\\gamma}}{1-\\gamma} \\\\\n",
    "& \\text{s.t.}\n",
    "& & y_t = a_tk_t^\\alpha \\\\\n",
    "& & & k_{t+1} = (1 - \\delta)k_t + i_t \\\\\n",
    "& & & a_t \\in \\{a_1, ... , a_I\\} \\\\\n",
    "& & & \\mathbb{P}[a_{t+1} = a_j | a_t = a_i] = \\Pi_{i,j}\n",
    "\\end{aligned}\n",
    "\\end{equation*}\n",
    "$$"
   ]
  },
  {
   "cell_type": "markdown",
   "metadata": {},
   "source": [
    "We can solve this problem to arrive at the euler equation and law of motion for capital (the steps are left to the reader):\n",
    "\n",
    "$$\n",
    "\\begin{align*}\n",
    "c_t^{-\\gamma} &= \\beta \\sum_{i=1}^{I} \\Pi_{ij} \\left[ c_{t+1}^{-\\gamma} \\left(1 - \\delta + \\alpha a_ik_{t+1}^{\\alpha - 1} \\right) \\right]\\\\\n",
    "k_{t+1} &= a_ik_t^\\alpha +(1 - \\delta)k_t - c_t\n",
    "\\end{align*}\n",
    "$$\n",
    "for all $i, j$."
   ]
  },
  {
   "cell_type": "markdown",
   "metadata": {},
   "source": [
    "At this point we cannot solve this problem exactly, as it is highly non-linear.  In order to make it more simple, we can assume that the capital decision rule can be approximated by a parameterized function:\n",
    "\n",
    "$$\n",
    "\\begin{align*}\n",
    "\\hat{k}_{t+1} &= \\sum_{l = 1}^{L} N_l(k_t)\\kappa_l\n",
    "\\end{align*}\n",
    "$$\n",
    "\n",
    "where the $\\kappa_l$ are constants\n",
    "\n",
    "We don't need to make much assumptions about the functions $N_l(\\cdot)$, other than that they form a complete basis for the state space.  The easiest and most natural method is to use a polynomial basis, eg chebyshev polynomials.  However, these functions are not very clear to the first time reader, so we will use a linear basis function:\n",
    "\n",
    "\n",
    "\\begin{align*}\n",
    "N_l(k) &= \\left\\{\n",
    "\t\t\t\t\\begin{array}{lll}\n",
    "\t\t\t\t\t\\frac{k - k_{l-1}}{k_l - k_{l-1}}\t& k_{l-1}\\leq k \\leq k_l \\\\\n",
    "\t\t\t\t\t\\frac{k_{l+1} - k}{k_{l-1} - k_l}\t& k_{l}\\leq k \\leq k_{l + 1}  \\\\\n",
    "\t\t\t\t\t0\t& else\n",
    "\t\t\t\t\\end{array}\n",
    "\t\t  \\right.\t\t\t\t\n",
    "\\end{align*}\n"
   ]
  },
  {
   "cell_type": "markdown",
   "metadata": {},
   "source": [
    "This implies that capital can be approximated as a linear interpolant between two constants:\n",
    "\n",
    "\\begin{align*}\n",
    "\\hat{k}(k) &= \\frac{k_{l+1} - k}{k_{l-1} - k_l}\\kappa_l^i + \\frac{k - k_{l}}{k_{l + 1} - k_{l}}\\kappa_{l+1}^i\t& k\\in[k_l, k_{l+1}]\t\n",
    "\\end{align*}"
   ]
  },
  {
   "cell_type": "markdown",
   "metadata": {},
   "source": [
    "Given this, we can calculate $c_t$, $c_{t+1}$, and $\\hat{k_{t+1}}$ conditional on a value for $\\kappa$.  However, our euler equation is no longer exact.  But, we can write the Galerkin weak form integral equation (where $R$ is the euler residual):\n",
    "\n",
    "\\begin{align*}\n",
    "\\sum_{i = 1}^{I}\\int_{k_0}^{k^L}w(k,i)R(k,i;\\kappa)dk =0\n",
    "\\end{align\n",
    "\n",
    "We define the weighting function to be the same linear interpolator:\n",
    "\n",
    "\\begin{align*}\n",
    "\\sum_{i = 1}^{I} \\sum_{a = 1}^{L} w_a^i \\left \\{\\sum_{l=1}^{L - 1} \\int_{k_l}^{k_{l+1}}N_a(k)R(k,i;\\kappa)dk\\right \\} =0\n",
    "\\end{align*}\n",
    "\n",
    "If this holds for all values of $w$, then everything inside the braces must be zero.  Finally, we arrive at the system of equations we need to solve:\n",
    "\n",
    "\\begin{align*}\n",
    "\\sum_{l=1}^{L - 1} \\int_{k_l}^{k_{l+1}}N_a(k)R(k,i;\\kappa)dk & & \\forall i, a\n",
    "\\end{align*}"
   ]
  },
  {
   "cell_type": "markdown",
   "metadata": {},
   "source": [
    "There are a few things to notice:\n",
    "\n",
    "1. The integration is done accross elements.\n",
    "2. Since the linear interpolator is zero off of the element and its upper neighbor, the terms of the sum are mainly zeros.\n",
    "3. We can calculate the integrals individually and then reconstruct the residual functions."
   ]
  },
  {
   "cell_type": "markdown",
   "metadata": {},
   "source": [
    "We'll approximate the integral by gaussian quadrature and use a built in solver to find the solution."
   ]
  },
  {
   "cell_type": "markdown",
   "metadata": {},
   "source": [
    "##Pre-Programming\n",
    "\n",
    "Before we set out to solve our problem numerically, we are going to write down EXACTLY what we need to solve.  This will allow us to avoid a lot of head scratching along the way.  Then we'll try to speed up our code by using NumPy's vectorized functions.\n",
    "\n",
    "First of all, notice that for a value of $a$, $N_a(\\cdot)$ is zero for almost all of the terms.  Thus, we have the following system of equations\n",
    "\n",
    "\\begin{align*}\n",
    "\\sum_{l=a}^{a + 1} \\int_{k_l}^{k_{l+1}}N_a(k)R(k,i;\\kappa)dk & & \\forall i, a\n",
    "\\end{align*}\n",
    "\n",
    "Next, recall that using gaussian quadrature (which we can generate using a NumPy function) for $M$ quadrature points, we have\n",
    "\n",
    "\\begin{align*}\n",
    "\\sum_{l=a}^{a + 1} \\sum_{m=1}^{M} N_a(k_l^m)R(k_l^m,i;\\kappa)\\omega^m & & \\forall i, a\n",
    "\\end{align*}\n",
    "\n",
    "This is a much simplified expression of what we need to solve.  Our first shot at the solution will follow the following steps.  We'll loop over all $i\\in \\{1,...,I\\}$ and all $l\\in \\{1, ...,L-1\\}$ and do the following:\n",
    "\n",
    "1. Scale the abcissas to the state space.\n",
    "2. Calculate policy based on a coefficient input.\n",
    "3. Calculate consumption and output based on that input.\n",
    "4. For all possible outcomes of the state next period, calculate the next period's policy based on the same coefficient input.\n",
    "5. Calculate next period's consumption and output based on that calculation.\n",
    "6. Calculate the conditional expectation using step 5.\n",
    "7. Generate the residual over the current element and add it to the main vector.\n",
    "\n",
    "If that doesn't seem super clear, it will once we get to programming!"
   ]
  },
  {
   "cell_type": "markdown",
   "metadata": {},
   "source": [
    "## The Looped Application\n",
    "Here is the looped function that I've used.  I copied it from McGratten's original fortran code."
   ]
  },
  {
   "cell_type": "code",
   "execution_count": null,
   "metadata": {
    "collapsed": true
   },
   "outputs": [],
   "source": [
    "#To avoid problems in the future, import everything now\n",
    "import numpy as np\n",
    "import scipy.optimize\n",
    "import scipy.linalg\n",
    "import time\n"
   ]
  },
  {
   "cell_type": "code",
   "execution_count": 6,
   "metadata": {
    "collapsed": true
   },
   "outputs": [],
   "source": [
    "def mcgratten_weighted_residual(coeff):\n",
    "    \"\"\"\n",
    "    A looped function of the McGratten problem.\n",
    "\n",
    "    Variables:\n",
    "        coeff   :   ndarray; a vector of coefficients for the parameterized\n",
    "                    policy function\n",
    "    Returns:\n",
    "        ndarray containing the residuals.\n",
    "\n",
    "    \"\"\"\n",
    "    #Unpack the arguments\n",
    "    alpha, delta, I, L, k, abcissas, M, a, PIE = args\n",
    "    coeff = coeff.reshape(I, L)\n",
    "\n",
    "    #Initialize the residuals\n",
    "    RES = np.zeros((I*L))\n",
    "\n",
    "    #Construct the vector of residual funcitons\n",
    "    for i in range(0, I):\n",
    "        for l in range(0, L - 1):\n",
    "            #Compute f at all of the quadrature points on the element\n",
    "            for m in range(0, M):\n",
    "                x = abcissas[m]\n",
    "                kt = scalup(x, k[l+1], k[l])\n",
    "                u = weights[m]\n",
    "                bs1 = 0.5*(1 - x)\n",
    "                bs2 = 0.5*(1 + x)\n",
    "\n",
    "                #Compute capital next period by projection\n",
    "                kp = coeff[i, l]*bs1 + coeff[i, l+1]*bs2\n",
    "\n",
    "                #Compute consumption\n",
    "                y = a[i]*kt**alpha\n",
    "                c = y + (1 - delta)*kt - kp\n",
    "\n",
    "                #Find the element for next periods capital stock\n",
    "                ii = 0\n",
    "                for h in range(0, L - 1):\n",
    "                    if kp >= k[h]:\n",
    "                        ii = h\n",
    "                k1p = k[ii]\n",
    "                k2p = k[ii + 1]\n",
    "\n",
    "                #Calculate next period capital policy\n",
    "                x = scaldwn(kp, k2p, k1p)\n",
    "                bs1p = 0.5*(1 - x)\n",
    "                bs2p = 0.5*(1 + x)\n",
    "\n",
    "                #Initialize summation Variables\n",
    "                sum1 = 0.0\n",
    "\n",
    "                #Compute the summation and derivative simultaneously\n",
    "                for h in range(0, I):\n",
    "                    kpp = coeff[h, ii]*bs1p + coeff[h, ii+1]*bs2p\n",
    "                    yp = a[h]*kp**alpha\n",
    "                    cp = yp + (1 - delta)*kp - kpp\n",
    "                    dudcp = cp**(-gamma)\n",
    "                    dydkp = alpha*a[h]*kp**(alpha - 1)\n",
    "                    sum1 += PIE[i, h]*dudcp*(dydkp + (1 - delta))\n",
    "\n",
    "                ind = l + i*L\n",
    "\n",
    "                #Generate the full residual entry by mulying qua*res*weight\n",
    "                res = (beta*sum1 - c**(-gamma))*u\n",
    "                RES[ind] += res*bs1\n",
    "                RES[ind+1] += res*bs2\n",
    "\n",
    "    return RES"
   ]
  },
  {
   "cell_type": "markdown",
   "metadata": {},
   "source": [
    "There are several things you should immediately notice about the structure of this function.  \n",
    "\n",
    "First, it's a function!  I defined the residual function so that I could pass it to a numerical optimizer.  \n",
    "\n",
    "Second, you'll notice that it is only a function of the coefficients.  This is in order to simplify the passing to the numerical optimizer.  Often times, we will have functions with additional arguments or keyword arguments.  Many SciPy optimizers can handle this, but some cannot.  To avoid problems, I like to define a tuple object containing those values that do not change during optimization, such as preference parameters, discount rates, etc.\n",
    "\n",
    "Third, this is not very Pythonic.  There is a looped structure that can be very slow.  Our goal later will be to use vectors to speed this up, but for now we'll talk about what the function is doing."
   ]
  },
  {
   "cell_type": "markdown",
   "metadata": {},
   "source": [
    "Let's break the function into sections that we can study individually.\n",
    "\n",
    "**In the next few sections the code I present will not be stand alone, but just repition of parts of the above function to discuss.**"
   ]
  },
  {
   "cell_type": "markdown",
   "metadata": {},
   "source": [
    "### Parameter Definition"
   ]
  },
  {
   "cell_type": "code",
   "execution_count": null,
   "metadata": {
    "collapsed": true
   },
   "outputs": [],
   "source": [
    "#Unpack the arguments\n",
    "alpha, delta, I, L, k, abcissas, M, a, PIE = args\n",
    "coeff = coeff.reshape(I, L)\n",
    "\n",
    "#Initialize the residuals\n",
    "RES = np.zeros((I*L))"
   ]
  },
  {
   "cell_type": "markdown",
   "metadata": {},
   "source": [
    "The first thing we do is \"unpack\" the arguments.  We need to define an `args` tuple in the global namespace that contains all of these parameters.  `alpha` is the capital share, `delta` depreciation rate, `I` number of discrete states in the markov chain, `L` the number of points in the partition of capital, `k` the partition, `abcissas` a set of gaussian abcissas for estimating the integral, `a` the different values the markov chain can take, and `PIE` the markov transition matrix.\n",
    "\n",
    "Next we initialize a vector that will contain our solution.  Here there are $IL$ equations in $IL$ unknowns."
   ]
  },
  {
   "cell_type": "markdown",
   "metadata": {},
   "source": [
    "### The Loops"
   ]
  },
  {
   "cell_type": "code",
   "execution_count": null,
   "metadata": {
    "collapsed": true
   },
   "outputs": [],
   "source": [
    "#Construct the vector of residual funcitons\n",
    "for i in range(0, I):\n",
    "    for l in range(0, L - 1):"
   ]
  },
  {
   "cell_type": "markdown",
   "metadata": {},
   "source": [
    "Next, we loop over all elements, calculating the residuals.  There are $I(L-1)$ elements in our problem."
   ]
  },
  {
   "cell_type": "markdown",
   "metadata": {},
   "source": [
    "### An Unexpected Loop"
   ]
  },
  {
   "cell_type": "code",
   "execution_count": 1,
   "metadata": {
    "collapsed": false
   },
   "outputs": [
    {
     "ename": "SyntaxError",
     "evalue": "unexpected EOF while parsing (<ipython-input-1-953a74e804fa>, line 2)",
     "output_type": "error",
     "traceback": [
      "\u001b[1;36m  File \u001b[1;32m\"<ipython-input-1-953a74e804fa>\"\u001b[1;36m, line \u001b[1;32m2\u001b[0m\n\u001b[1;33m    for m in range(0, M):\u001b[0m\n\u001b[1;37m                         ^\u001b[0m\n\u001b[1;31mSyntaxError\u001b[0m\u001b[1;31m:\u001b[0m unexpected EOF while parsing\n"
     ]
    }
   ],
   "source": [
    "#Compute f at all of the quadrature points on the element\n",
    "for m in range(0, M):"
   ]
  },
  {
   "cell_type": "markdown",
   "metadata": {},
   "source": [
    "This isn't as unexpected as it seems.  In order to approximate the integral over each element, we use a gaussian quadrature.  This uses a polynomial approximation rule.  When you tell SciPy you would like quadrature points and weights, you specify the number of points and it returns to you a set of points on $[-1, 1]$ and corresponding weights.  It is then your job to scale these to your state space and calculate the function to be integrated at each point.\n",
    "\n",
    "To this end, we need to define some functions that will map our quadrature points into the corresponding state space and back.  Here are those functions:"
   ]
  },
  {
   "cell_type": "code",
   "execution_count": 7,
   "metadata": {
    "collapsed": true
   },
   "outputs": [],
   "source": [
    "def scalup(points, upper, lower):\n",
    "    \"\"\"\n",
    "    A linear transformation for state variables: [-1,1]-> [k_low, k_high].\n",
    "\n",
    "    Variables:\n",
    "        points  :   ndarray; a vector of points on [-1,1]\n",
    "        upper   :   ndarray; a vector of upper bounds for the element in which\n",
    "                    each point is to be projected.\n",
    "        lower   :   ndarray; a vector of lower bounds for the element in which\n",
    "                    each point is to be projected.\n",
    "\n",
    "    Returns:\n",
    "        ndarray cotaining the transformed points\n",
    "    \"\"\"\n",
    "    return (points + 1.)*(upper - lower)/2 + lower\n",
    "\n",
    "\n",
    "def scaldwn(points, upper, lower):\n",
    "    \"\"\"\n",
    "    A linear transformation for state variables: [k_low, k_high] -> [-1,1].\n",
    "\n",
    "    Variables:\n",
    "        points  :   ndarray; a vector of points on [k_low, k_high]\n",
    "        upper   :   ndarray; a vector of upper bounds for the element in which\n",
    "                    each point is to be projected.\n",
    "        lower   :   ndarray; a vector of lower bounds for the element in which\n",
    "                    each point is to be projected.\n",
    "    Returns:\n",
    "        ndarray cotaining the transformed points\n",
    "\n",
    "    \"\"\"\n",
    "    return 2*(points - lower)/(upper - lower) - 1"
   ]
  },
  {
   "cell_type": "markdown",
   "metadata": {},
   "source": [
    "Now, we can loop through the $M$ quadrature points on each element to calculate the residual function."
   ]
  },
  {
   "cell_type": "markdown",
   "metadata": {},
   "source": [
    "### Finding the State"
   ]
  },
  {
   "cell_type": "code",
   "execution_count": 2,
   "metadata": {
    "collapsed": false
   },
   "outputs": [
    {
     "ename": "NameError",
     "evalue": "name 'abcissas' is not defined",
     "output_type": "error",
     "traceback": [
      "\u001b[1;31m---------------------------------------------------------------------------\u001b[0m",
      "\u001b[1;31mNameError\u001b[0m                                 Traceback (most recent call last)",
      "\u001b[1;32m<ipython-input-2-257048b36c48>\u001b[0m in \u001b[0;36m<module>\u001b[1;34m()\u001b[0m\n\u001b[1;32m----> 1\u001b[1;33m \u001b[0mx\u001b[0m \u001b[1;33m=\u001b[0m \u001b[0mabcissas\u001b[0m\u001b[1;33m[\u001b[0m\u001b[0mm\u001b[0m\u001b[1;33m]\u001b[0m\u001b[1;33m\u001b[0m\u001b[0m\n\u001b[0m\u001b[0;32m      2\u001b[0m \u001b[0mkt\u001b[0m \u001b[1;33m=\u001b[0m \u001b[0mscalup\u001b[0m\u001b[1;33m(\u001b[0m\u001b[0mx\u001b[0m\u001b[1;33m,\u001b[0m \u001b[0mk\u001b[0m\u001b[1;33m[\u001b[0m\u001b[0ml\u001b[0m\u001b[1;33m+\u001b[0m\u001b[1;36m1\u001b[0m\u001b[1;33m]\u001b[0m\u001b[1;33m,\u001b[0m \u001b[0mk\u001b[0m\u001b[1;33m[\u001b[0m\u001b[0ml\u001b[0m\u001b[1;33m]\u001b[0m\u001b[1;33m)\u001b[0m\u001b[1;33m\u001b[0m\u001b[0m\n\u001b[0;32m      3\u001b[0m \u001b[0mu\u001b[0m \u001b[1;33m=\u001b[0m \u001b[0mweights\u001b[0m\u001b[1;33m[\u001b[0m\u001b[0mm\u001b[0m\u001b[1;33m]\u001b[0m\u001b[1;33m\u001b[0m\u001b[0m\n\u001b[0;32m      4\u001b[0m \u001b[0mbs1\u001b[0m \u001b[1;33m=\u001b[0m \u001b[1;36m0.5\u001b[0m\u001b[1;33m*\u001b[0m\u001b[1;33m(\u001b[0m\u001b[1;36m1\u001b[0m \u001b[1;33m-\u001b[0m \u001b[0mx\u001b[0m\u001b[1;33m)\u001b[0m\u001b[1;33m\u001b[0m\u001b[0m\n\u001b[0;32m      5\u001b[0m \u001b[0mbs2\u001b[0m \u001b[1;33m=\u001b[0m \u001b[1;36m0.5\u001b[0m\u001b[1;33m*\u001b[0m\u001b[1;33m(\u001b[0m\u001b[1;36m1\u001b[0m \u001b[1;33m+\u001b[0m \u001b[0mx\u001b[0m\u001b[1;33m)\u001b[0m\u001b[1;33m\u001b[0m\u001b[0m\n",
      "\u001b[1;31mNameError\u001b[0m: name 'abcissas' is not defined"
     ]
    }
   ],
   "source": [
    "x = abcissas[m]\n",
    "kt = scalup(x, k[l+1], k[l])\n",
    "u = weights[m]\n",
    "bs1 = 0.5*(1 - x)\n",
    "bs2 = 0.5*(1 + x)"
   ]
  },
  {
   "cell_type": "markdown",
   "metadata": {},
   "source": [
    "Given that we are on element $(i, l)$, studying point $m$ in the list of quadrature points, we need to find our value of the state and calculate the linear interpolators.\n",
    "\n",
    "These lines do just that, taking `x` from the list of abcissas, scaling it to the state space on the current element, defining the weight `u`, and calculating the interpolator."
   ]
  },
  {
   "cell_type": "markdown",
   "metadata": {},
   "source": [
    "### Calculating Inter- and Intra- temporal "
   ]
  },
  {
   "cell_type": "code",
   "execution_count": null,
   "metadata": {
    "collapsed": true
   },
   "outputs": [],
   "source": [
    "#Compute capital next period by projection\n",
    "kp = coeff[i, l]*bs1 + coeff[i, l+1]*bs2\n",
    "\n",
    "#Compute consumption\n",
    "y = a[i]*kt**alpha\n",
    "c = y + (1 - delta)*kt - kp"
   ]
  },
  {
   "cell_type": "markdown",
   "metadata": {},
   "source": [
    "Now, given the state and the current solution for the coefficients, we can calculate the policy function for next period capital.  Given this, we use the law of motion for capital and the production function to calculate consumption."
   ]
  },
  {
   "cell_type": "markdown",
   "metadata": {},
   "source": [
    "### Next Period's Element"
   ]
  },
  {
   "cell_type": "code",
   "execution_count": null,
   "metadata": {
    "collapsed": true
   },
   "outputs": [],
   "source": [
    "#Find the element for next periods capital stock\n",
    "ii = 0\n",
    "for h in range(0, L - 1):\n",
    "    if kp >= k[h]:\n",
    "        ii = h\n",
    "k1p = k[ii]\n",
    "k2p = k[ii + 1]"
   ]
  },
  {
   "cell_type": "markdown",
   "metadata": {},
   "source": [
    "In order to calculate the conditional expectation, we need to calculate the policy function for capital **next period** as well.  That is, in order to find $c_{t+1}$, we need to calculate $k_{t+2}$.  Given our assumption of linear interpolators, we then need to find the element on which to calculate next period's capital.\n",
    "\n",
    "To do this, we loop through the lower bounds of each element and ask the question: \"Is $k_{t+1}$ greater than this lower bound?\"  If so, we consider that to be the lower bound of the element for next period's policy function.\n",
    "\n",
    "Once we are done, we then define the bounds for next period's element.\n",
    "\n",
    "**NOTE:**  The assumption of linear interpolators is what makes this necessary.  There are other sets of bases, eg Chebyshev polynomials, which are not functions of the bounds of the element.  Because of this you do not need to do this look up operation.  In particular, were you doing this on several dimensions, this could become quite a pain.  However, linear interpolators are the most conceptually approachable, so they are the easiest to start with."
   ]
  },
  {
   "cell_type": "markdown",
   "metadata": {},
   "source": [
    "### Calculating Conditional Expectations"
   ]
  },
  {
   "cell_type": "code",
   "execution_count": null,
   "metadata": {
    "collapsed": true
   },
   "outputs": [],
   "source": [
    "#Calculate next period capital policy\n",
    "x = scaldwn(kp, k2p, k1p)\n",
    "bs1p = 0.5*(1 - x)\n",
    "bs2p = 0.5*(1 + x)\n",
    "\n",
    "#Initialize summation Variables\n",
    "sum1 = 0.0\n",
    "\n",
    "#Compute the summation and derivative simultaneously\n",
    "for h in range(0, I):\n",
    "    kpp = coeff[h, ii]*bs1p + coeff[h, ii+1]*bs2p\n",
    "    yp = a[h]*kp**alpha\n",
    "    cp = yp + (1 - delta)*kp - kpp\n",
    "    dudcp = cp**(-gamma)\n",
    "    dydkp = alpha*a[h]*kp**(alpha - 1)\n",
    "    sum1 += PIE[i, h]*dudcp*(dydkp + (1 - delta))\n"
   ]
  },
  {
   "cell_type": "markdown",
   "metadata": {},
   "source": [
    "Given the value of $k_{t+1}$ and the bounds of the element, you can calculate the linear interpolator functions `bs1p` and `bs2p`.\n",
    "\n",
    "Now, you need to calculate the capital policy, production, consumption, marginal utility, and marginal productivity of capital for all possible realizations of the state in $t+1$.  To do this, loop over the indices $i = 0, ... , I-1$ and calculate all of these values.  Then multiply by the probability of this outcome and add it to the sum.\n",
    "\n",
    "After the loop you will have calculated the conditional expectation:\n",
    "\n",
    "$$\n",
    "\\sum_{i=1}^{I} \\Pi_{ij} \\left[ c_{t+1}^{-\\gamma} \\left(1 - \\delta + \\alpha a_ik_{t+1}^{\\alpha - 1} \\right) \\right]\n",
    "$$"
   ]
  },
  {
   "cell_type": "markdown",
   "metadata": {},
   "source": [
    "### Calculate the Residual"
   ]
  },
  {
   "cell_type": "code",
   "execution_count": null,
   "metadata": {
    "collapsed": true
   },
   "outputs": [],
   "source": [
    "ind = l + i*L\n",
    "\n",
    "#Generate the full residual entry by mulying qua*res*weight\n",
    "res = (beta*sum1 - c**(-gamma))*u\n",
    "RES[ind] += res*bs1\n",
    "RES[ind+1] += res*bs2\n"
   ]
  },
  {
   "cell_type": "markdown",
   "metadata": {},
   "source": [
    "Now that you have calculate the functional value at the quadrature point $m$ on element $(i, l)$, you can multiply by the weight and the interpolater.  Finally, add it to the residual vector.  You'll notice that you are adding it to severl points in the residual vector simultaneously.  This is because of the linear intorpolater, which is non-zero on two elements simultaneously."
   ]
  },
  {
   "cell_type": "markdown",
   "metadata": {},
   "source": [
    "### Running the Code\n",
    "\n",
    "Now that we've gone through how this code works, let's see it in action.  First, we're going to define some functions to generate a steady state and a transition matrix (a seriously sloppy function, but be nice), and define some parameters.  Then we'll calculate a partition over the state and some quadrature points.  Finally, we'll make an initial guess to the value of capital at the nodes (this is the same as the coefficient values) as half of output.  Finally, we package all of our arguments into a tuple and run a jacobian free newton kryolov solver (I like this one both for its speed and its verbosity)."
   ]
  },
  {
   "cell_type": "code",
   "execution_count": 8,
   "metadata": {
    "collapsed": false
   },
   "outputs": [
    {
     "name": "stdout",
     "output_type": "stream",
     "text": [
      "0:  |F(x)| = 65.3091; step 1; tol 0.164013\n",
      "1:  |F(x)| = 21.2687; step 1; tol 0.0954504\n",
      "2:  |F(x)| = 3.31136; step 1; tol 0.0218159\n",
      "3:  |F(x)| = 0.119142; step 1; tol 0.00116509\n",
      "4:  |F(x)| = 0.000200299; step 1; tol 2.54373e-06\n",
      "5:  |F(x)| = 7.06869e-10; step 1; tol 1.12089e-11\n",
      "0.6425514221191406\n"
     ]
    }
   ],
   "source": [
    "def steady(alpha, beta, delta):\n",
    "    \"\"\"\n",
    "    A function to compute the steady state of the simple RBC model.\n",
    "\n",
    "    Variables:\n",
    "        alpha   :   float; capital share\n",
    "        beta    :   float; time discount\n",
    "        delta   :   float; depreciation rate\n",
    "\n",
    "    \"\"\"\n",
    "    k_star = ((1 - (1 - delta)*beta)/(beta * alpha))**(1/(alpha - 1))\n",
    "    return k_star, k_star**alpha - delta*k_star\n",
    "\n",
    "\n",
    "def explicit_transition(states):\n",
    "    \"\"\"\n",
    "    A function to generate an explicit transition matrix.\n",
    "\n",
    "    Variables:\n",
    "        states  :   int; number of finite states in the chain\n",
    "\n",
    "    \"\"\"\n",
    "    if states == 5:\n",
    "        PIE = np.array([[0.1, 0.1, 0.6, 0.1, 0.1],\n",
    "                        [0.1, 0.1, 0.6, 0.1, 0.1],\n",
    "                        [0.1, 0.1, 0.6, 0.1, 0.1],\n",
    "                        [0.1, 0.1, 0.6, 0.1, 0.1],\n",
    "                        [0.1, 0.1, 0.6, 0.1, 0.1]])\n",
    "    return PIE\n",
    "\n",
    "# Step 1: Calibrate Parameters\n",
    "gamma = 2.0\n",
    "beta = 0.98\n",
    "alpha = 0.3\n",
    "delta = 0.9\n",
    "\n",
    "\n",
    "# Step 2: Compute steady state\n",
    "k_star, c_star = steady(alpha, beta, delta)\n",
    "\n",
    "# Step 3: Generate the state space\n",
    "#Define upper and lower bound of the region of interest around the steady stat\n",
    "kmin = 0.5*k_star\n",
    "kmax = 1.5*k_star\n",
    "\n",
    "#Define the finite states for the markov chain\n",
    "I = 5\n",
    "PIE = explicit_transition(I)\n",
    "a = np.array([0.95, 0.975, 1.0, 1.025, 1.05])\n",
    "\n",
    "#Generate a state space vector over k\n",
    "L = 11\n",
    "k = np.linspace(kmin, kmax, num=L)\n",
    "\n",
    "# Step 4: Calculate quadrature weights and abcissas\n",
    "#Specify number of points in the integral on each element [k_j, k_j+1]\n",
    "M = 10\n",
    "\n",
    "#Generate absissas and weights\n",
    "abcissas, weights = np.polynomial.legendre.leggauss(M)\n",
    "\n",
    "# Step 5: Guess and solve\n",
    "#Generate intial guess as half of production at all nodes\n",
    "coeff0 = np.outer(a, k**alpha)*0.1\n",
    "\n",
    "#Pack up all of the arguments to pass to the solver\n",
    "args = (alpha, delta, I, L, k, abcissas, M, a, PIE)\n",
    "\n",
    "time0 = time.time()\n",
    "res = scipy.optimize.newton_krylov(mcgratten_weighted_residual, coeff0,\n",
    "                                   method='lgmres', verbose=True, maxiter=1000,\n",
    "                                   line_search='armijo')\n",
    "print(time.time() - time0)"
   ]
  },
  {
   "cell_type": "code",
   "execution_count": 9,
   "metadata": {
    "collapsed": false
   },
   "outputs": [
    {
     "name": "stdout",
     "output_type": "stream",
     "text": [
      "(5, 11)\n"
     ]
    }
   ],
   "source": [
    "print(res.shape)"
   ]
  },
  {
   "cell_type": "code",
   "execution_count": 34,
   "metadata": {
    "collapsed": true
   },
   "outputs": [],
   "source": [
    "def policy(a_p, k_p, coeff, k, a):\n",
    "    \"\"\"\n",
    "    A function to calculate the capital policy at points.\n",
    "\n",
    "    Variables:\n",
    "        points  :   ndarray; a vector of points on\n",
    "                    [k_low, k_high]x{a1...aI}\n",
    "        coeff   :   ndarray; a vector of coefficients\n",
    "        k       :   ndarray; a vector containing the\n",
    "                    partition of the capital state.\n",
    "        a       :   ndarray; a vector containing the\n",
    "                    partition of the productivity state.\n",
    "    Returns:\n",
    "        ndarray evaluated funciton\n",
    "\n",
    "    \"\"\"\n",
    "    #Unpack the points\n",
    "    #k_p = points[:, 0]\n",
    "    #a_p = points[:, 1]\n",
    "\n",
    "    #Find the elements for the points\n",
    "    ll = np.array([np.where(point >= np.append([0], k[:-1]))[0][-1]\n",
    "                   for point in k_p][0])\n",
    "    ll[ll > 0] -= 1\n",
    "\n",
    "    ii = np.array([np.where(point == a)[0] for point in a_p][0])\n",
    "    #ii[ll > 0] -= 1\n",
    "\n",
    "    #Define element bounds for next period\n",
    "    k1p = k[ll]\n",
    "    k2p = k[ll + 1]\n",
    "\n",
    "    #Calculate the interpolators\n",
    "    x = scaldwn(k_p, k2p, k1p)\n",
    "    bs1 = 0.5*(1 - x)\n",
    "    bs2 = 0.5*(1 + x)\n",
    "\n",
    "    #Return the polciy function of the given points\n",
    "    return coeff[ii, ll]*bs1 + coeff[ii, ll+1]*bs2"
   ]
  },
  {
   "cell_type": "code",
   "execution_count": 46,
   "metadata": {
    "collapsed": false
   },
   "outputs": [
    {
     "name": "stdout",
     "output_type": "stream",
     "text": [
      "[ 0.13749235]\n"
     ]
    }
   ],
   "source": [
    "#Plot the policy function over the state space\n",
    "import matplotlib.pyplot as plt\n",
    "from mpl_toolkits.mplot3d import Axes3D\n",
    "\n",
    "fig = plt.figure()\n",
    "ax = fig.gca(projection=\"3d\")\n",
    "\n",
    "a_points, k_points = np.meshgrid(a, k)\n",
    "\n",
    "kp = policy(np.reshape(a_points, (I*L)), np.reshape(k_points, (I*L)),\n",
    "            np.array(res), k, a)\n",
    "\n",
    "kp = np.reshape(kp, (L, I))\n",
    "\n",
    "ax.plot_surface(a_points, k_points, kp, alpha=0.3)\n",
    "#cset = ax.contour(k_points, a_points, kp, zdir='z', offset=-2.0)\n",
    "#cset = ax.contour(C1, C2, utils, zdir='y', offset=10.0)\n",
    "#cset = ax.contour(C1, C2, utils, zdir='x', offset=1.0)\n",
    "\n",
    "plt.show()"
   ]
  },
  {
   "cell_type": "markdown",
   "metadata": {},
   "source": [
    "We can see that our policy function is essentially linear.  We knew that, by definition, it would be piecewise linear.  We could also expand the state space and increase the number of points to see whether the shape changes:"
   ]
  },
  {
   "cell_type": "code",
   "execution_count": 42,
   "metadata": {
    "collapsed": false
   },
   "outputs": [
    {
     "name": "stdout",
     "output_type": "stream",
     "text": [
      "0:  |F(x)| = 147.288; step 1; tol 0.1636\n",
      "1:  |F(x)| = 47.8171; step 1; tol 0.0948574\n",
      "2:  |F(x)| = 7.43522; step 1; tol 0.0217603\n",
      "3:  |F(x)| = 0.218998; step 1; tol 0.000780794\n",
      "4:  |F(x)| = 0.00115691; step 1; tol 2.51167e-05\n",
      "5:  |F(x)| = 6.47416e-08; step 1; tol 2.81843e-09\n",
      "3.883786678314209\n"
     ]
    }
   ],
   "source": [
    "#Increase the number of points\n",
    "L = 50\n",
    "k = np.linspace(kmin, kmax, num=L)\n",
    "coeff0 = np.outer(a, k**alpha)*0.1\n",
    "\n",
    "#Pack up all of the arguments to pass to the solver\n",
    "args = (alpha, delta, I, L, k, abcissas, M, a, PIE)\n",
    "\n",
    "time0 = time.time()\n",
    "res = scipy.optimize.newton_krylov(mcgratten_weighted_residual, coeff0,\n",
    "                                   method='lgmres', verbose=True, maxiter=1000,\n",
    "                                   line_search='armijo')\n",
    "print(time.time() - time0)"
   ]
  },
  {
   "cell_type": "markdown",
   "metadata": {},
   "source": [
    "We can see that we don't get much change.  Re-run the earlier cell to get back the old paramteters and we'll move on to vectorizing this function.\n",
    "\n",
    "## Vectorizing\n",
    "\n",
    "Given our function, we now want to try to speed it up, as you can see from the previous runs, it was quite slow.  Vectorizing it will be a good chance for us to see how much NumPy can increase the speed of your code.\n",
    "\n",
    "The easiest way (for me) to vectorize something is to work around the loops.  Each loop can be thought of as a set of stacked operations, which we can try to do in a single pass, avoiding the loop.  If you work in this way, it is easiest to start from the inner-most loop and work out.  That is, we have loops over `i`, `l`, `m`, and `h`.  We'll start with the loop over `h` and work our way back.\n",
    "\n",
    "Here is the loop we would like to vectorize:"
   ]
  },
  {
   "cell_type": "code",
   "execution_count": 50,
   "metadata": {
    "collapsed": false
   },
   "outputs": [
    {
     "ename": "NameError",
     "evalue": "name 'coeff' is not defined",
     "output_type": "error",
     "traceback": [
      "\u001b[1;31m---------------------------------------------------------------------------\u001b[0m",
      "\u001b[1;31mNameError\u001b[0m                                 Traceback (most recent call last)",
      "\u001b[1;32m<ipython-input-50-54612f3f40f0>\u001b[0m in \u001b[0;36m<module>\u001b[1;34m()\u001b[0m\n\u001b[0;32m      1\u001b[0m \u001b[1;31m#Compute the summation and derivative simultaneously\u001b[0m\u001b[1;33m\u001b[0m\u001b[1;33m\u001b[0m\u001b[0m\n\u001b[0;32m      2\u001b[0m \u001b[1;32mfor\u001b[0m \u001b[0mh\u001b[0m \u001b[1;32min\u001b[0m \u001b[0mrange\u001b[0m\u001b[1;33m(\u001b[0m\u001b[1;36m0\u001b[0m\u001b[1;33m,\u001b[0m \u001b[0mI\u001b[0m\u001b[1;33m)\u001b[0m\u001b[1;33m:\u001b[0m\u001b[1;33m\u001b[0m\u001b[0m\n\u001b[1;32m----> 3\u001b[1;33m     \u001b[0mkpp\u001b[0m \u001b[1;33m=\u001b[0m \u001b[0mcoeff\u001b[0m\u001b[1;33m[\u001b[0m\u001b[0mh\u001b[0m\u001b[1;33m,\u001b[0m \u001b[0mii\u001b[0m\u001b[1;33m]\u001b[0m\u001b[1;33m*\u001b[0m\u001b[0mbs1p\u001b[0m \u001b[1;33m+\u001b[0m \u001b[0mcoeff\u001b[0m\u001b[1;33m[\u001b[0m\u001b[0mh\u001b[0m\u001b[1;33m,\u001b[0m \u001b[0mii\u001b[0m\u001b[1;33m+\u001b[0m\u001b[1;36m1\u001b[0m\u001b[1;33m]\u001b[0m\u001b[1;33m*\u001b[0m\u001b[0mbs2p\u001b[0m\u001b[1;33m\u001b[0m\u001b[0m\n\u001b[0m\u001b[0;32m      4\u001b[0m     \u001b[0myp\u001b[0m \u001b[1;33m=\u001b[0m \u001b[0ma\u001b[0m\u001b[1;33m[\u001b[0m\u001b[0mh\u001b[0m\u001b[1;33m]\u001b[0m\u001b[1;33m*\u001b[0m\u001b[0mkp\u001b[0m\u001b[1;33m**\u001b[0m\u001b[0malpha\u001b[0m\u001b[1;33m\u001b[0m\u001b[0m\n\u001b[0;32m      5\u001b[0m     \u001b[0mcp\u001b[0m \u001b[1;33m=\u001b[0m \u001b[0myp\u001b[0m \u001b[1;33m+\u001b[0m \u001b[1;33m(\u001b[0m\u001b[1;36m1\u001b[0m \u001b[1;33m-\u001b[0m \u001b[0mdelta\u001b[0m\u001b[1;33m)\u001b[0m\u001b[1;33m*\u001b[0m\u001b[0mkp\u001b[0m \u001b[1;33m-\u001b[0m \u001b[0mkpp\u001b[0m\u001b[1;33m\u001b[0m\u001b[0m\n",
      "\u001b[1;31mNameError\u001b[0m: name 'coeff' is not defined"
     ]
    }
   ],
   "source": [
    "#Compute the summation and derivative simultaneously\n",
    "for h in range(0, I):\n",
    "    kpp = coeff[h, ii]*bs1p + coeff[h, ii+1]*bs2p\n",
    "    yp = a[h]*kp**alpha\n",
    "    cp = yp + (1 - delta)*kp - kpp\n",
    "    dudcp = cp**(-gamma)\n",
    "    dydkp = alpha*a[h]*kp**(alpha - 1)\n",
    "    sum1 += PIE[i, h]*dudcp*(dydkp + (1 - delta))"
   ]
  },
  {
   "cell_type": "markdown",
   "metadata": {},
   "source": [
    "First, we should ask the question, \"What is this loop doing?\"  It is calculating the conditional expectation of returns on capital next period, discounted by marginal utility.  \n",
    "\n",
    "Given the markov chain randomness in this model, this lends itself very easily to the dot product.  We can use NumPy's automatic array operations (which are natively element-wise) to calculate a vector of next period returns ($1 - \\delta + \\alpha a_ik_{t+1}^{\\alpha - 1}$) and then take the dot product with the corresponding row from $\\Pi$.\n",
    "\n",
    "Here is the code, take a look and try to figure out what it is doing and then we will discuss it:"
   ]
  },
  {
   "cell_type": "code",
   "execution_count": 52,
   "metadata": {
    "collapsed": false
   },
   "outputs": [
    {
     "ename": "NameError",
     "evalue": "name 'coeff' is not defined",
     "output_type": "error",
     "traceback": [
      "\u001b[1;31m---------------------------------------------------------------------------\u001b[0m",
      "\u001b[1;31mNameError\u001b[0m                                 Traceback (most recent call last)",
      "\u001b[1;32m<ipython-input-52-7df618e75ad1>\u001b[0m in \u001b[0;36m<module>\u001b[1;34m()\u001b[0m\n\u001b[1;32m----> 1\u001b[1;33m \u001b[0mkpp\u001b[0m \u001b[1;33m=\u001b[0m \u001b[0mcoeff\u001b[0m\u001b[1;33m[\u001b[0m\u001b[1;33m:\u001b[0m\u001b[1;33m,\u001b[0m \u001b[0mii\u001b[0m\u001b[1;33m]\u001b[0m\u001b[1;33m*\u001b[0m\u001b[0mbs1p\u001b[0m \u001b[1;33m+\u001b[0m \u001b[0mcoeff\u001b[0m\u001b[1;33m[\u001b[0m\u001b[1;33m:\u001b[0m\u001b[1;33m,\u001b[0m \u001b[0mii\u001b[0m\u001b[1;33m+\u001b[0m\u001b[1;36m1\u001b[0m\u001b[1;33m]\u001b[0m\u001b[1;33m*\u001b[0m\u001b[0mbs2p\u001b[0m\u001b[1;33m\u001b[0m\u001b[0m\n\u001b[0m\u001b[0;32m      2\u001b[0m \u001b[0myp\u001b[0m \u001b[1;33m=\u001b[0m \u001b[0ma\u001b[0m\u001b[1;33m*\u001b[0m\u001b[0mkp\u001b[0m\u001b[1;33m**\u001b[0m\u001b[0malpha\u001b[0m\u001b[1;33m\u001b[0m\u001b[0m\n\u001b[0;32m      3\u001b[0m \u001b[0mcp\u001b[0m \u001b[1;33m=\u001b[0m \u001b[0myp\u001b[0m \u001b[1;33m+\u001b[0m \u001b[1;33m(\u001b[0m\u001b[1;36m1\u001b[0m \u001b[1;33m-\u001b[0m \u001b[0mdelta\u001b[0m\u001b[1;33m)\u001b[0m\u001b[1;33m*\u001b[0m\u001b[0mkp\u001b[0m\u001b[1;33m*\u001b[0m\u001b[0mnp\u001b[0m\u001b[1;33m.\u001b[0m\u001b[0mones\u001b[0m\u001b[1;33m(\u001b[0m\u001b[0mI\u001b[0m\u001b[1;33m)\u001b[0m \u001b[1;33m-\u001b[0m \u001b[0mkpp\u001b[0m\u001b[1;33m\u001b[0m\u001b[0m\n\u001b[0;32m      4\u001b[0m \u001b[0mdudcp\u001b[0m \u001b[1;33m=\u001b[0m \u001b[0mcp\u001b[0m\u001b[1;33m**\u001b[0m\u001b[1;33m(\u001b[0m\u001b[1;33m-\u001b[0m\u001b[0mgamma\u001b[0m\u001b[1;33m)\u001b[0m\u001b[1;33m\u001b[0m\u001b[0m\n\u001b[0;32m      5\u001b[0m \u001b[0mdydkp\u001b[0m \u001b[1;33m=\u001b[0m \u001b[0malpha\u001b[0m\u001b[1;33m*\u001b[0m\u001b[0ma\u001b[0m\u001b[1;33m*\u001b[0m\u001b[0mkp\u001b[0m\u001b[1;33m**\u001b[0m\u001b[1;33m(\u001b[0m\u001b[0malpha\u001b[0m\u001b[1;33m-\u001b[0m\u001b[1;36m1\u001b[0m\u001b[1;33m)\u001b[0m\u001b[1;33m\u001b[0m\u001b[0m\n",
      "\u001b[1;31mNameError\u001b[0m: name 'coeff' is not defined"
     ]
    }
   ],
   "source": [
    "kpp = coeff[:, ii]*bs1p + coeff[:, ii+1]*bs2p\n",
    "yp = a*kp**alpha\n",
    "cp = yp + (1 - delta)*kp*np.ones(I) - kpp\n",
    "dudcp = cp**(-gamma)\n",
    "dydkp = alpha*a*kp**(alpha-1)\n",
    "sum1 = np.dot(PIE[i, :], dudcp*(dydkp + 1 - delta))"
   ]
  },
  {
   "cell_type": "markdown",
   "metadata": {},
   "source": [
    "Got it?  Here's how I think of what this is doing.  First, notice the parts of the loop that do not change.  These are `bs1p`, `bs2p`, and `kp`.  You can treat these as scalars.  So, you can look at the policy function calculation, `kpp`, as taking the linear combination of the vectors of coefficients weighted by `bs1p` and `bs2p`.  \n",
    "\n",
    "Then you calculate a vector of outputs, each entry corresponding to a different realization of $a$.\n",
    "\n",
    "Next, calculate consumption, but notice that `kp` does not vary, so multiply by a vector of ones.  **Note:** NumPy's broadcasting methods could easily handle this, but I find it clearing to include the vector so those reading your code understand."
   ]
  },
  {
   "cell_type": "code",
   "execution_count": 55,
   "metadata": {
    "collapsed": false
   },
   "outputs": [
    {
     "name": "stdout",
     "output_type": "stream",
     "text": [
      "[ 2.  3.  4.]\n"
     ]
    }
   ],
   "source": [
    "temp = 1.\n",
    "temp2 = np.array([1, 2, 3])\n",
    "print(temp2 + temp)"
   ]
  },
  {
   "cell_type": "markdown",
   "metadata": {},
   "source": [
    "Finally, you simply calculate $\\partial_c u(c_{t+1})$ and  $\\partial_k y(k_{t+1})$ as vectors and calculate the expectation by a straight forward dot product.\n",
    "\n",
    "Here's the full code for the modified function, which I'll call `mcgratten_weighted_residual_vec_1`:"
   ]
  },
  {
   "cell_type": "code",
   "execution_count": 57,
   "metadata": {
    "collapsed": true
   },
   "outputs": [],
   "source": [
    "def mcgratten_weighted_residual_vec_1(coeff):\n",
    "    \"\"\"\n",
    "    A partially vectorized function of the McGratten problem.\n",
    "\n",
    "    Variables:\n",
    "        coeff   :   ndarray; a vector of coefficients for the parameterized\n",
    "                    policy function\n",
    "    Returns:\n",
    "        ndarray containing the residuals.\n",
    "\n",
    "    \"\"\"\n",
    "    #Unpack the arguments\n",
    "    alpha, delta, I, L, k, abcissas, M, a, PIE = args\n",
    "    coeff = coeff.reshape(I, L)\n",
    "\n",
    "    #Initialize the residuals\n",
    "    RES = np.zeros((I*L))\n",
    "\n",
    "    #Construct the vector of residual funcitons\n",
    "    for i in range(0, I):\n",
    "        for l in range(0, L - 1):\n",
    "            #Compute f at all of the quadrature points on the element\n",
    "            for m in range(0, M):\n",
    "                x = abcissas[m]\n",
    "                kt = scalup(x, k[l+1], k[l])\n",
    "                u = weights[m]\n",
    "                bs1 = 0.5*(1 - x)\n",
    "                bs2 = 0.5*(1 + x)\n",
    "\n",
    "                #Compute capital next period by projection\n",
    "                kp = coeff[i, l]*bs1 + coeff[i, l+1]*bs2\n",
    "\n",
    "                #Compute consumption\n",
    "                y = a[i]*kt**alpha\n",
    "                c = y + (1 - delta)*kt - kp\n",
    "\n",
    "                #Find the element for next periods capital stock\n",
    "                ii = 0\n",
    "                for h in range(0, L - 1):\n",
    "                    if kp >= k[h]:\n",
    "                        ii = h\n",
    "                k1p = k[ii]\n",
    "                k2p = k[ii + 1]\n",
    "\n",
    "                #Calculate next period capital policy\n",
    "                x = scaldwn(kp, k2p, k1p)\n",
    "                bs1p = 0.5*(1 - x)\n",
    "                bs2p = 0.5*(1 + x)\n",
    "\n",
    "                #Initialize summation Variables\n",
    "                sum1 = 0.0\n",
    "\n",
    "                #Compute the summation and derivative simultaneously\n",
    "                kpp = coeff[:, ii]*bs1p + coeff[:, ii+1]*bs2p\n",
    "                yp = a*kp**alpha\n",
    "                cp = yp + (1 - delta)*kp*np.ones(I) - kpp\n",
    "                dudcp = cp**(-gamma)\n",
    "                dydkp = alpha*a*kp**(alpha-1)\n",
    "                sum1 = np.dot(PIE[i, :], dudcp*(dydkp + 1 - delta))\n",
    "\n",
    "                ind = l + i*L\n",
    "\n",
    "                #Generate the full residual entry by mulying qua*res*weight\n",
    "                res = (beta*sum1 - c**(-gamma))*u\n",
    "                RES[ind] += res*bs1\n",
    "                RES[ind+1] += res*bs2\n",
    "\n",
    "    return RES\n"
   ]
  },
  {
   "cell_type": "markdown",
   "metadata": {},
   "source": [
    "Let's run the two optimizations side by side and see the difference in speed, as well as take a norm of the difference in the answers to test for accuracy:"
   ]
  },
  {
   "cell_type": "code",
   "execution_count": 64,
   "metadata": {
    "collapsed": false
   },
   "outputs": [
    {
     "name": "stdout",
     "output_type": "stream",
     "text": [
      "0:  |F(x)| = 65.3091; step 1; tol 0.164013\n",
      "1:  |F(x)| = 21.2687; step 1; tol 0.0954504\n",
      "2:  |F(x)| = 3.31136; step 1; tol 0.0218159\n",
      "3:  |F(x)| = 0.119142; step 1; tol 0.00116509\n",
      "4:  |F(x)| = 0.000200299; step 1; tol 2.54373e-06\n",
      "5:  |F(x)| = 7.06869e-10; step 1; tol 1.12089e-11\n",
      "0.6594507694244385\n",
      "0:  |F(x)| = 65.3091; step 1; tol 0.164013\n",
      "1:  |F(x)| = 21.2687; step 1; tol 0.0954504\n",
      "2:  |F(x)| = 3.2904; step 1; tol 0.0215406\n",
      "3:  |F(x)| = 0.108799; step 1; tol 0.000983992\n",
      "4:  |F(x)| = 0.000182078; step 1; tol 2.52065e-06\n",
      "5:  |F(x)| = 6.04243e-10; step 1; tol 9.91172e-12\n",
      "0.9424023628234863\n",
      "9.60094062534e-12\n"
     ]
    }
   ],
   "source": [
    "time0 = time.time()\n",
    "res = scipy.optimize.newton_krylov(mcgratten_weighted_residual, coeff0,\n",
    "                                   method='lgmres', verbose=True, maxiter=1000,\n",
    "                                   line_search='armijo')\n",
    "print(time.time() - time0)\n",
    "\n",
    "time0 = time.time()\n",
    "res1 = scipy.optimize.newton_krylov(mcgratten_weighted_residual_vec_1, coeff0,\n",
    "                                    method='lgmres', verbose=True,\n",
    "                                    maxiter=1000, line_search='armijo')\n",
    "print(time.time() - time0)\n",
    "print(np.linalg.norm(res - res1))\n"
   ]
  },
  {
   "cell_type": "markdown",
   "metadata": {},
   "source": [
    "It's actually slower by $50%$!  Why would we ever want to do this!?  What a world...?!\n",
    "\n",
    "Ok, don't panic.  The reason you get a slow down here is because the vector dot product and broadcasting can be slower **for small arrays**.  Where you'll get a speed up is when the arrays become large.  The only way in this case to see if this vectorization is effective is to increase the number of discrete states, which is heavy.  We'll have an easier time on furth loops and you'll see the benefits then.\n",
    "\n",
    "Overall, that's the process!  We'll now go through all the other loops, vectorizing the operations.\n",
    "\n",
    "### The Abcissas Loop\n",
    "\n",
    "What we'll do is take our previously vectorized function and try to vectorize it further.  Here is the loop we want to vectorize:"
   ]
  },
  {
   "cell_type": "code",
   "execution_count": null,
   "metadata": {
    "collapsed": true
   },
   "outputs": [],
   "source": [
    "for m in range(0, M):\n",
    "    x = abcissas[m]\n",
    "    kt = scalup(x, k[l+1], k[l])\n",
    "    u = weights[m]\n",
    "    bs1 = 0.5*(1 - x)\n",
    "    bs2 = 0.5*(1 + x)\n",
    "\n",
    "    #Compute capital next period by projection\n",
    "    kp = coeff[i, l]*bs1 + coeff[i, l+1]*bs2\n",
    "\n",
    "    #Compute consumption\n",
    "    y = a[i]*kt**alpha\n",
    "    c = y + (1 - delta)*kt - kp\n",
    "\n",
    "    #Find the element for next periods capital stock\n",
    "    ii = 0\n",
    "    for h in range(0, L - 1):\n",
    "        if kp >= k[h]:\n",
    "            ii = h\n",
    "    k1p = k[ii]\n",
    "    k2p = k[ii + 1]\n",
    "\n",
    "    #Calculate next period capital policy\n",
    "    x = scaldwn(kp, k2p, k1p)\n",
    "    bs1p = 0.5*(1 - x)\n",
    "    bs2p = 0.5*(1 + x)\n",
    "\n",
    "    #Initialize summation Variables\n",
    "    sum1 = 0.0\n",
    "\n",
    "    #Compute the summation and derivative simultaneously\n",
    "    kpp = coeff[:, ii]*bs1p + coeff[:, ii+1]*bs2p\n",
    "    yp = a*kp**alpha\n",
    "    cp = yp + (1 - delta)*kp*np.ones(I) - kpp\n",
    "    dudcp = cp**(-gamma)\n",
    "    dydkp = alpha*a*kp**(alpha-1)\n",
    "    sum1 = np.dot(PIE[i, :], dudcp*(dydkp + 1 - delta))\n",
    "\n",
    "    ind = l + i*L\n",
    "\n",
    "    #Generate the full residual entry by mulying qua*res*weight\n",
    "    res = (beta*sum1 - c**(-gamma))*u\n",
    "    RES[ind] += res*bs1\n",
    "    RES[ind+1] += res*bs2"
   ]
  },
  {
   "cell_type": "markdown",
   "metadata": {},
   "source": [
    "You'll notice here a pesky sub-routine that is trying to find indices for the next period's element:"
   ]
  },
  {
   "cell_type": "code",
   "execution_count": null,
   "metadata": {
    "collapsed": true
   },
   "outputs": [],
   "source": [
    "#Find the element for next periods capital stock\n",
    "ii = 0\n",
    "for h in range(0, L - 1):\n",
    "    if kp >= k[h]:\n",
    "        ii = h\n",
    "k1p = k[ii]\n",
    "k2p = k[ii + 1]"
   ]
  },
  {
   "cell_type": "markdown",
   "metadata": {},
   "source": [
    "This is going to be tough to vectorize, but we can do it!  Let's see what it is doing.  It takes some value, `kp`, and returns the index for the next lowest value in another object, `k`.  To do this vectorially we'll use the `numpy.where` function.  Let's look at an example.\n",
    "\n",
    "Given a value of `kp`, we would like to return the index of the next lowest value in `k`.  If `kp`$=0.2$, that index is $4$:"
   ]
  },
  {
   "cell_type": "code",
   "execution_count": 67,
   "metadata": {
    "collapsed": false
   },
   "outputs": [
    {
     "name": "stdout",
     "output_type": "stream",
     "text": [
      "(array([0, 1, 2, 3, 4]),)\n"
     ]
    },
    {
     "data": {
      "text/plain": [
       "array([ 0.10079915,  0.12095897,  0.1411188 ,  0.16127863,  0.18143846,\n",
       "        0.20159829,  0.22175812,  0.24191795,  0.26207778,  0.28223761,\n",
       "        0.30239744])"
      ]
     },
     "execution_count": 67,
     "metadata": {},
     "output_type": "execute_result"
    }
   ],
   "source": [
    "kp = 0.2\n",
    "print(np.where(kp >= k))\n",
    "k"
   ]
  },
  {
   "cell_type": "markdown",
   "metadata": {},
   "source": [
    "Notice though that `np.where` gives a vector of indices to all of the values of k where the condition **is not true**.  It also is returning a tuple.  Thus, we need to index to the value we want, the interior of the tuple and the last entry in the vector:"
   ]
  },
  {
   "cell_type": "code",
   "execution_count": 68,
   "metadata": {
    "collapsed": false
   },
   "outputs": [
    {
     "name": "stdout",
     "output_type": "stream",
     "text": [
      "4\n"
     ]
    }
   ],
   "source": [
    "print(np.where(kp >= k)[0][-1])"
   ]
  },
  {
   "cell_type": "markdown",
   "metadata": {},
   "source": [
    "However, what if our algorithm steps out of the state space?  For example, what if `kp` is zero:"
   ]
  },
  {
   "cell_type": "code",
   "execution_count": 70,
   "metadata": {
    "collapsed": false
   },
   "outputs": [
    {
     "ename": "IndexError",
     "evalue": "index -1 is out of bounds for axis 0 with size 0",
     "output_type": "error",
     "traceback": [
      "\u001b[1;31m---------------------------------------------------------------------------\u001b[0m",
      "\u001b[1;31mIndexError\u001b[0m                                Traceback (most recent call last)",
      "\u001b[1;32m<ipython-input-70-537ea786b81d>\u001b[0m in \u001b[0;36m<module>\u001b[1;34m()\u001b[0m\n\u001b[0;32m      1\u001b[0m \u001b[0mkp\u001b[0m \u001b[1;33m=\u001b[0m \u001b[1;36m0.0\u001b[0m\u001b[1;33m\u001b[0m\u001b[0m\n\u001b[1;32m----> 2\u001b[1;33m \u001b[0mprint\u001b[0m\u001b[1;33m(\u001b[0m\u001b[0mnp\u001b[0m\u001b[1;33m.\u001b[0m\u001b[0mwhere\u001b[0m\u001b[1;33m(\u001b[0m\u001b[0mkp\u001b[0m \u001b[1;33m>=\u001b[0m \u001b[0mk\u001b[0m\u001b[1;33m)\u001b[0m\u001b[1;33m[\u001b[0m\u001b[1;36m0\u001b[0m\u001b[1;33m]\u001b[0m\u001b[1;33m[\u001b[0m\u001b[1;33m-\u001b[0m\u001b[1;36m1\u001b[0m\u001b[1;33m]\u001b[0m\u001b[1;33m)\u001b[0m\u001b[1;33m\u001b[0m\u001b[0m\n\u001b[0m",
      "\u001b[1;31mIndexError\u001b[0m: index -1 is out of bounds for axis 0 with size 0"
     ]
    }
   ],
   "source": [
    "kp = 0.0\n",
    "print(np.where(kp >= k)[0][-1])"
   ]
  },
  {
   "cell_type": "markdown",
   "metadata": {},
   "source": [
    "Oh no!  This is happening because there are no values in `k` for which the condition is not true.  What we can do is add a zero to the array and cut off the upper point (this will avoid a similar problem on the upper bound).  This gives an answer that is correct for zero, but incorrect for something else:"
   ]
  },
  {
   "cell_type": "code",
   "execution_count": 72,
   "metadata": {
    "collapsed": false
   },
   "outputs": [
    {
     "name": "stdout",
     "output_type": "stream",
     "text": [
      "5\n",
      "0\n"
     ]
    }
   ],
   "source": [
    "kp = np.array(0.2)\n",
    "print(np.where(kp >= np.append([0], k[:-1]))[0][-1])\n",
    "kp = np.array(0.0)\n",
    "print(np.where(kp >= np.append([0], k[:-1]))[0][-1])"
   ]
  },
  {
   "cell_type": "markdown",
   "metadata": {},
   "source": [
    "So, we can just subtract one from all values that are greater than zero.  In order to foresee the needing to make this work for a set of points in `kp` we can also vectorize the entire calculation using a list comprehension:"
   ]
  },
  {
   "cell_type": "code",
   "execution_count": 78,
   "metadata": {
    "collapsed": false
   },
   "outputs": [
    {
     "name": "stdout",
     "output_type": "stream",
     "text": [
      "[0 4]\n"
     ]
    }
   ],
   "source": [
    "kp = np.array([0, 0.2])\n",
    "ii = np.array([np.where(point >= np.append([0], k[:-1]))[0][-1] \n",
    "               for point in kp])\n",
    "ii[ii > 0] -= 1\n",
    "print(ii)"
   ]
  },
  {
   "cell_type": "markdown",
   "metadata": {},
   "source": [
    "Now that we've gon over how to use `np.where` to find the element, we can vectorize the loop in pretty much the same way as before.  Here is the vectorized form of the loop:"
   ]
  },
  {
   "cell_type": "code",
   "execution_count": 82,
   "metadata": {
    "collapsed": false
   },
   "outputs": [],
   "source": [
    "#For demonstration purposes\n",
    "l, i = 0, 0\n",
    "coeff = coeff0\n",
    "RES = np.zeros((I*L))\n",
    "\n",
    "#Compute f at all of the quadrature points on the element\n",
    "x = abcissas\n",
    "kt = scalup(x, k[l+1], k[l])\n",
    "u = weights\n",
    "bs1 = 0.5*(1 - x)\n",
    "bs2 = 0.5*(1 + x)\n",
    "\n",
    "#Compute capital next period by projection\n",
    "kp = coeff[i, l]*bs1 + coeff[i, l + 1]*bs2\n",
    "#print bs1\n",
    "#Compute consumption\n",
    "y = a[i]*kt**alpha\n",
    "c = y + (1 - delta)*kt - kp\n",
    "\n",
    "#Find indices for next period's capital stock for each point\n",
    "ii = np.array([np.where(point >= np.append([0], k[:-1]))[0][-1]\n",
    "               for point in kp])\n",
    "ii[ii > 0] -= 1\n",
    "\n",
    "#Find elements for next period's capital stock\n",
    "#NOTE: Here I'm using an array as an index\n",
    "k1p = k[ii]\n",
    "k2p = k[ii + 1]\n",
    "\n",
    "#Calculate next period's policy\n",
    "x = scaldwn(kp, k2p, k1p)\n",
    "bs1p = 0.5*(1 - x)\n",
    "bs2p = 0.5*(1 + x)\n",
    "\n",
    "#Initialize the summation vector\n",
    "sum1 = np.zeros((M))\n",
    "\n",
    "#Compute all of the sums simultaneously\n",
    "#NOTE: You can slice AND index by an array at the same time!\n",
    "#NOTE: This is a good time to talk about broadcasting\n",
    "#The resulting matrix contains columns corresponding to each\n",
    "#abcissa, and rows corresponding to possible states in period\n",
    "#t+1\n",
    "kpp = coeff[:, ii]*bs1p + coeff[:, ii+1]*bs2p\n",
    "yp = np.outer(a, kp**alpha)\n",
    "cp = yp + (1 - delta)*np.outer(np.ones(I), kp) - kpp\n",
    "dudcp = cp**(-gamma)\n",
    "dydkp = np.outer(a, kp**(alpha - 1))*alpha\n",
    "sum1 = np.dot(PIE[i, :], dudcp*(dydkp + 1 - delta))\n",
    "\n",
    "#Calculate the residual functions and fill the vector\n",
    "ind = l + i*L\n",
    "res = (beta*sum1 - c**(-gamma))*u\n",
    "RES[ind] += np.dot(res, bs1)\n",
    "RES[ind + 1] += np.dot(res, bs2)"
   ]
  },
  {
   "cell_type": "markdown",
   "metadata": {},
   "source": [
    "The first section is fairly straight forward, but the second section deserves some discussion.  Instead of building a single vector, we want to build `M` vectors simultaneously.  To this end, `kpp` is a matrix whose columns correspond to the different quadrature points:"
   ]
  },
  {
   "cell_type": "code",
   "execution_count": 86,
   "metadata": {
    "collapsed": false
   },
   "outputs": [
    {
     "data": {
      "text/plain": [
       "array([[ 0.04066755,  0.04068698,  0.04072013,  0.04076406,  0.04081486,\n",
       "         0.04086803,  0.04091883,  0.04096276,  0.04099591,  0.04101535],\n",
       "       [ 0.04173774,  0.04175769,  0.04179171,  0.0418368 ,  0.04188894,\n",
       "         0.0419435 ,  0.04199565,  0.04204073,  0.04207475,  0.0420947 ],\n",
       "       [ 0.04280794,  0.0428284 ,  0.0428633 ,  0.04290954,  0.04296301,\n",
       "         0.04301898,  0.04307246,  0.0431187 ,  0.04315359,  0.04317405],\n",
       "       [ 0.04387814,  0.04389911,  0.04393488,  0.04398228,  0.04403709,\n",
       "         0.04409445,  0.04414927,  0.04419667,  0.04423243,  0.0442534 ],\n",
       "       [ 0.04494834,  0.04496982,  0.04500646,  0.04505501,  0.04511117,\n",
       "         0.04516993,  0.04522608,  0.04527463,  0.04531127,  0.04533275]])"
      ]
     },
     "execution_count": 86,
     "metadata": {},
     "output_type": "execute_result"
    }
   ],
   "source": [
    "kpp"
   ]
  },
  {
   "cell_type": "markdown",
   "metadata": {},
   "source": [
    "Similarly, `yp` is a matrix of the same size, as is `cp`.  Additinally, the `sum1` variable now is a vector:"
   ]
  },
  {
   "cell_type": "code",
   "execution_count": 101,
   "metadata": {
    "collapsed": false
   },
   "outputs": [
    {
     "data": {
      "text/plain": [
       "array([ 19.85700398,  19.77682054,  19.6413732 ,  19.46441258,\n",
       "        19.26326171,  19.05668646,  18.86294257,  18.6982269 ,\n",
       "        18.57561132,  18.50438922])"
      ]
     },
     "execution_count": 101,
     "metadata": {},
     "output_type": "execute_result"
    }
   ],
   "source": [
    "sum1\n"
   ]
  },
  {
   "cell_type": "markdown",
   "metadata": {},
   "source": [
    "In the end, we simply use this vector to calculate the integral for each element using a dot product and then add it to the residual:"
   ]
  },
  {
   "cell_type": "code",
   "execution_count": 102,
   "metadata": {
    "collapsed": true
   },
   "outputs": [],
   "source": [
    "#Calculate the residual functions and fill the vector\n",
    "ind = l + i*L\n",
    "res = (beta*sum1 - c**(-gamma))*u\n",
    "RES[ind] += np.dot(res, bs1)\n",
    "RES[ind + 1] += np.dot(res, bs2)"
   ]
  },
  {
   "cell_type": "markdown",
   "metadata": {},
   "source": [
    "Here is the whole function in one cell, as well as running and comparing our results for the looped and vectorized function:"
   ]
  },
  {
   "cell_type": "code",
   "execution_count": 104,
   "metadata": {
    "collapsed": true
   },
   "outputs": [],
   "source": [
    "def mcgratten_weighted_residual_vec_2(coeff):\n",
    "    \"\"\"\n",
    "    A partially vectorized function of the McGratten problem.\n",
    "\n",
    "    Variables:\n",
    "        coeff   :   ndarray; a vector of coefficients for the parameterized\n",
    "                    policy function\n",
    "    Returns:\n",
    "        ndarray containing the residuals.\n",
    "\n",
    "    \"\"\"\n",
    "    #Unpack the arguments\n",
    "    alpha, delta, I, L, k, abcissas, M, a, PIE = args\n",
    "    coeff = coeff.reshape(I, L)\n",
    "\n",
    "    #Initialize the residuals\n",
    "    RES = np.zeros((I*L))\n",
    "\n",
    "    #Construct the vector of residual funcitons\n",
    "    for i in range(0, I):\n",
    "        for l in range(0, L - 1):\n",
    "            #Compute f at all of the quadrature points on the element\n",
    "            x = abcissas\n",
    "            kt = scalup(x, k[l+1], k[l])\n",
    "            u = weights\n",
    "            bs1 = 0.5*(1 - x)\n",
    "            bs2 = 0.5*(1 + x)\n",
    "\n",
    "            #Compute capital next period by projection\n",
    "            kp = coeff[i, l]*bs1 + coeff[i, l + 1]*bs2\n",
    "            #print bs1\n",
    "            #Compute consumption\n",
    "            y = a[i]*kt**alpha\n",
    "            c = y + (1 - delta)*kt - kp\n",
    "\n",
    "            #Find indices for next period's capital stock for each point\n",
    "            ii = np.array([np.where(point >= np.append([0], k[:-1]))[0][-1]\n",
    "                           for point in kp])\n",
    "            ii[ii > 0] -= 1\n",
    "\n",
    "            #Find elements for next period's capital stock\n",
    "            #NOTE: Here I'm using an array as an index\n",
    "            k1p = k[ii]\n",
    "            k2p = k[ii + 1]\n",
    "\n",
    "            #Calculate next period's policy\n",
    "            x = scaldwn(kp, k2p, k1p)\n",
    "            bs1p = 0.5*(1 - x)\n",
    "            bs2p = 0.5*(1 + x)\n",
    "\n",
    "            #Initialize the summation vector\n",
    "            sum1 = np.zeros((M))\n",
    "\n",
    "            #Compute all of the sums simultaneously\n",
    "            #NOTE: You can slice AND index by an array at the same time!\n",
    "            #NOTE: This is a good time to talk about broadcasting\n",
    "            #The resulting matrix contains columns corresponding to each\n",
    "            #abcissa, and rows corresponding to possible states in period\n",
    "            #t+1\n",
    "            kpp = coeff[:, ii]*bs1p + coeff[:, ii+1]*bs2p\n",
    "            yp = np.outer(a, kp**alpha)\n",
    "            cp = yp + (1 - delta)*np.outer(np.ones(I), kp) - kpp\n",
    "            dudcp = cp**(-gamma)\n",
    "            dydkp = np.outer(a, kp**(alpha - 1))*alpha\n",
    "            sum1 = np.dot(PIE[i, :], dudcp*(dydkp + 1 - delta))\n",
    "\n",
    "            #Calculate the residual functions and fill the vector\n",
    "            ind = l + i*L\n",
    "            res = (beta*sum1 - c**(-gamma))*u\n",
    "            RES[ind] += np.dot(res, bs1)\n",
    "            RES[ind + 1] += np.dot(res, bs2)\n",
    "    return RES"
   ]
  },
  {
   "cell_type": "code",
   "execution_count": 105,
   "metadata": {
    "collapsed": false
   },
   "outputs": [
    {
     "name": "stdout",
     "output_type": "stream",
     "text": [
      "0:  |F(x)| = 65.3091; step 1; tol 0.164013\n",
      "1:  |F(x)| = 21.2687; step 1; tol 0.0954504\n",
      "2:  |F(x)| = 3.31136; step 1; tol 0.0218159\n",
      "3:  |F(x)| = 0.119142; step 1; tol 0.00116509\n",
      "4:  |F(x)| = 0.000200299; step 1; tol 2.54373e-06\n",
      "5:  |F(x)| = 7.06869e-10; step 1; tol 1.12089e-11\n",
      "0.6652843952178955\n",
      "0:  |F(x)| = 65.3091; step 1; tol 0.164013\n",
      "1:  |F(x)| = 21.2687; step 1; tol 0.0954504\n",
      "2:  |F(x)| = 3.32867; step 1; tol 0.0220446\n",
      "3:  |F(x)| = 0.119987; step 1; tol 0.00116942\n",
      "4:  |F(x)| = 0.000199263; step 1; tol 2.48214e-06\n",
      "5:  |F(x)| = 6.95892e-10; step 1; tol 1.09767e-11\n",
      "0.624577522277832\n",
      "4.95180023046e-12\n"
     ]
    }
   ],
   "source": [
    "time0 = time.time()\n",
    "res = scipy.optimize.newton_krylov(mcgratten_weighted_residual, coeff0,\n",
    "                                   method='lgmres', verbose=True, maxiter=1000,\n",
    "                                   line_search='armijo')\n",
    "print(time.time() - time0)\n",
    "\n",
    "time0 = time.time()\n",
    "res2 = scipy.optimize.newton_krylov(mcgratten_weighted_residual_vec_2, coeff0,\n",
    "                                    method='lgmres', verbose=True,\n",
    "                                    maxiter=1000, line_search='armijo')\n",
    "print(time.time() - time0)\n",
    "print(np.linalg.norm(res - res2))\n"
   ]
  },
  {
   "cell_type": "markdown",
   "metadata": {},
   "source": [
    "Huzzah!  We got a speed up!  Now, we can look at how this change affects speed as we vary the number of quadrature points, `M`.  When we do that we also need to regenerate weights and abcissas, as well as redefine the `args` tuple:"
   ]
  },
  {
   "cell_type": "code",
   "execution_count": 106,
   "metadata": {
    "collapsed": false
   },
   "outputs": [
    {
     "name": "stdout",
     "output_type": "stream",
     "text": [
      "0:  |F(x)| = 65.3091; step 1; tol 0.164013\n",
      "1:  |F(x)| = 21.2683; step 1; tol 0.0954467\n",
      "2:  |F(x)| = 3.33141; step 1; tol 0.0220818\n",
      "3:  |F(x)| = 0.121392; step 1; tol 0.00119499\n",
      "4:  |F(x)| = 0.000196477; step 1; tol 2.35769e-06\n",
      "5:  |F(x)| = 5.80679e-10; step 1; tol 7.86127e-12\n",
      "6.156726360321045\n",
      "0:  |F(x)| = 65.3091; step 1; tol 0.164013\n",
      "1:  |F(x)| = 21.2683; step 1; tol 0.0954467\n",
      "2:  |F(x)| = 3.33609; step 1; tol 0.0221438\n",
      "3:  |F(x)| = 0.122501; step 1; tol 0.00121353\n",
      "4:  |F(x)| = 0.000194777; step 1; tol 2.27528e-06\n",
      "5:  |F(x)| = 4.71143e-10; step 1; tol 5.26589e-12\n",
      "3.3143067359924316\n",
      "5.25787098956e-12\n"
     ]
    }
   ],
   "source": [
    "M = 100\n",
    "\n",
    "#Generate absissas and weights\n",
    "abcissas, weights = np.polynomial.legendre.leggauss(M)\n",
    "\n",
    "#Pack up all of the arguments to pass to the solver\n",
    "args = (alpha, delta, I, L, k, abcissas, M, a, PIE)\n",
    "\n",
    "time0 = time.time()\n",
    "res = scipy.optimize.newton_krylov(mcgratten_weighted_residual, coeff0,\n",
    "                                   method='lgmres', verbose=True, maxiter=1000,\n",
    "                                   line_search='armijo')\n",
    "print(time.time() - time0)\n",
    "\n",
    "time0 = time.time()\n",
    "res2 = scipy.optimize.newton_krylov(mcgratten_weighted_residual_vec_2, coeff0,\n",
    "                                    method='lgmres', verbose=True,\n",
    "                                    maxiter=1000, line_search='armijo')\n",
    "print(time.time() - time0)\n",
    "print(np.linalg.norm(res - res2))\n"
   ]
  },
  {
   "cell_type": "markdown",
   "metadata": {},
   "source": [
    "The solution is now achieved in half the time using 100 quadrature points.  We should see similar gains as we vectorize the other loops.  Let's reset the arguments so we don't have problems later, then we'll work on the next loop."
   ]
  },
  {
   "cell_type": "code",
   "execution_count": 117,
   "metadata": {
    "collapsed": true
   },
   "outputs": [],
   "source": [
    "M = 10\n",
    "\n",
    "#Generate absissas and weights\n",
    "abcissas, weights = np.polynomial.legendre.leggauss(M)\n",
    "\n",
    "#Pack up all of the arguments to pass to the solver\n",
    "args = (alpha, delta, I, L, k, abcissas, M, a, PIE)"
   ]
  },
  {
   "cell_type": "markdown",
   "metadata": {},
   "source": [
    "### The Capital Elements Loop\n",
    "\n",
    "The next loop we would like to vectorize is the one which loops over capital.  Here it is from the last function:"
   ]
  },
  {
   "cell_type": "code",
   "execution_count": 110,
   "metadata": {
    "collapsed": true
   },
   "outputs": [],
   "source": [
    "for l in range(0, L - 1):\n",
    "    #Compute f at all of the quadrature points on the element\n",
    "    x = abcissas\n",
    "    kt = scalup(x, k[l+1], k[l])\n",
    "    u = weights\n",
    "    bs1 = 0.5*(1 - x)\n",
    "    bs2 = 0.5*(1 + x)\n",
    "\n",
    "    #Compute capital next period by projection\n",
    "    kp = coeff[i, l]*bs1 + coeff[i, l + 1]*bs2\n",
    "    #print bs1\n",
    "    #Compute consumption\n",
    "    y = a[i]*kt**alpha\n",
    "    c = y + (1 - delta)*kt - kp\n",
    "\n",
    "    #Find indices for next period's capital stock for each point\n",
    "    ii = np.array([np.where(point >= np.append([0], k[:-1]))[0][-1]\n",
    "                   for point in kp])\n",
    "    ii[ii > 0] -= 1\n",
    "\n",
    "    #Find elements for next period's capital stock\n",
    "    #NOTE: Here I'm using an array as an index\n",
    "    k1p = k[ii]\n",
    "    k2p = k[ii + 1]\n",
    "\n",
    "    #Calculate next period's policy\n",
    "    x = scaldwn(kp, k2p, k1p)\n",
    "    bs1p = 0.5*(1 - x)\n",
    "    bs2p = 0.5*(1 + x)\n",
    "\n",
    "    #Initialize the summation vector\n",
    "    sum1 = np.zeros((M))\n",
    "\n",
    "    #Compute all of the sums simultaneously\n",
    "    #NOTE: You can slice AND index by an array at the same time!\n",
    "    #NOTE: This is a good time to talk about broadcasting\n",
    "    #The resulting matrix contains columns corresponding to each\n",
    "    #abcissa, and rows corresponding to possible states in period\n",
    "    #t+1\n",
    "    kpp = coeff[:, ii]*bs1p + coeff[:, ii+1]*bs2p\n",
    "    yp = np.outer(a, kp**alpha)\n",
    "    cp = yp + (1 - delta)*np.outer(np.ones(I), kp) - kpp\n",
    "    dudcp = cp**(-gamma)\n",
    "    dydkp = np.outer(a, kp**(alpha - 1))*alpha\n",
    "    sum1 = np.dot(PIE[i, :], dudcp*(dydkp + 1 - delta))\n",
    "\n",
    "    #Calculate the residual functions and fill the vector\n",
    "    ind = l + i*L\n",
    "    res = (beta*sum1 - c**(-gamma))*u\n",
    "    RES[ind] += np.dot(res, bs1)\n",
    "    RES[ind + 1] += np.dot(res, bs2)"
   ]
  },
  {
   "cell_type": "markdown",
   "metadata": {},
   "source": [
    "Now we are going to have to build a series of vectors.  This is going to be slightly more complex, as we'll need to use kronecker products to repeat vectors, but once you get the hang of this it is fairly simple.  Here's the vectorized loop:"
   ]
  },
  {
   "cell_type": "code",
   "execution_count": 127,
   "metadata": {
    "collapsed": true
   },
   "outputs": [],
   "source": [
    "#Vectorize element loop along k axis\n",
    "#Scale and calculate capital\n",
    "x = np.kron(np.ones(L - 1), abcissas)\n",
    "k1 = np.kron(k[:-1], np.ones(M))\n",
    "k2 = np.kron(k[1:], np.ones(M))\n",
    "kt = scalup(x, k2, k1)\n",
    "u = np.kron(np.ones(L - 1), weights)\n",
    "bs1 = 0.5*(1 - x)\n",
    "bs2 = 0.5*(1 + x)\n",
    "Bs1 = 0.5*(1 - abcissas)\n",
    "Bs2 = 0.5*(1 + abcissas)\n",
    "\n",
    "#Compute capital next period by projection\n",
    "kp = np.kron(coeff[i, :-1], np.ones(M))*bs1\\\n",
    "    + np.kron(coeff[i, 1:], np.ones(M))*bs2\n",
    "\n",
    "#Compute consumption\n",
    "y = a[i]*kt**alpha\n",
    "c = y + (1 - delta)*kt - kp\n",
    "\n",
    "#Find indices for next period's element bounds\n",
    "ii = np.array([np.where(point >= np.append([0], k[:-1]))[0][-1]\n",
    "               for point in kp])\n",
    "ii[ii > 0] -= 1\n",
    "\n",
    "#Define element bounds for next period\n",
    "k1p = k[ii]\n",
    "k2p = k[ii + 1]\n",
    "\n",
    "#Calculate policy next period\n",
    "x = scaldwn(kp, k2p, k1p)\n",
    "bs1p = 0.5*(1 - x)\n",
    "bs2p = 0.5*(1 + x)\n",
    "\n",
    "#Initialize the summation\n",
    "sum1 = np.zeros(((L-1)*M))\n",
    "\n",
    "#Compute all of the sums simultaneously using linear algebra\n",
    "kpp = coeff[:, ii]*bs1p + coeff[:, ii+1]*bs2p\n",
    "yp = np.outer(a, kp**alpha)\n",
    "cp = yp + (1 - delta)*np.outer(np.ones(I), kp) - kpp\n",
    "dudcp = cp**(-gamma)\n",
    "dydkp = np.outer(a, kp**(alpha - 1))*alpha\n",
    "sum1 = np.dot(PIE[i, :], dudcp*(dydkp + 1 - delta))\n",
    "\n",
    "#Calculate the residual functions\n",
    "res = (beta*sum1 - c**(-gamma))*u\n",
    "res = res.reshape(L-1, M)\n",
    "bs1 = bs1.reshape(L-1, M)\n",
    "bs2 = bs2.reshape(L-1, M)\n",
    "RES[i*(L-1): (i+1)*(L-1)] += np.dot(res, Bs1)\n",
    "RES[i*(L-1) + 1: (i+1)*(L-1) + 1] += np.dot(res, Bs2)"
   ]
  },
  {
   "cell_type": "markdown",
   "metadata": {},
   "source": [
    "You'll immediately notice the use kroneckers everywhere.  This is simply staking up all of the loops performed before into one big vector of length $M(L-1)$, so that there is one point for every abcissa in every element on $k$.\n",
    "\n",
    "Let's look at the first few lines to get a sense of this:"
   ]
  },
  {
   "cell_type": "code",
   "execution_count": 131,
   "metadata": {
    "collapsed": false
   },
   "outputs": [
    {
     "name": "stdout",
     "output_type": "stream",
     "text": [
      "[-0.97390653 -0.86506337 -0.67940957 -0.43339539 -0.14887434  0.14887434\n",
      "  0.43339539  0.67940957  0.86506337  0.97390653 -0.97390653 -0.86506337\n",
      " -0.67940957 -0.43339539 -0.14887434  0.14887434  0.43339539  0.67940957\n",
      "  0.86506337  0.97390653]\n",
      "[ 0.10079915  0.10079915  0.10079915  0.10079915  0.10079915  0.10079915\n",
      "  0.10079915  0.10079915  0.10079915  0.10079915  0.12095897  0.12095897\n",
      "  0.12095897  0.12095897  0.12095897  0.12095897  0.12095897  0.12095897\n",
      "  0.12095897  0.12095897]\n",
      "[ 0.12095897  0.12095897  0.12095897  0.12095897  0.12095897  0.12095897\n",
      "  0.12095897  0.12095897  0.12095897  0.12095897  0.1411188   0.1411188\n",
      "  0.1411188   0.1411188   0.1411188   0.1411188   0.1411188   0.1411188\n",
      "  0.1411188   0.1411188 ]\n",
      "[ 0.10106217  0.1021593   0.10403067  0.10651047  0.10937842  0.1123797\n",
      "  0.11524765  0.11772745  0.11959883  0.12069595  0.12122199  0.12231912\n",
      "  0.1241905   0.1266703   0.12953825  0.13253953  0.13540748  0.13788728\n",
      "  0.13975865  0.14085578]\n"
     ]
    }
   ],
   "source": [
    "x = np.kron(np.ones(L - 1), abcissas)\n",
    "k1 = np.kron(k[:-1], np.ones(M))\n",
    "k2 = np.kron(k[1:], np.ones(M))\n",
    "kt = scalup(x, k2, k1)\n",
    "\n",
    "print(x[:20])\n",
    "print(k1[:20])\n",
    "print(k2[:20])\n",
    "print(kt[:20])\n",
    "\n",
    "u = np.kron(np.ones(L - 1), weights)\n",
    "bs1 = 0.5*(1 - x)\n",
    "bs2 = 0.5*(1 + x)\n",
    "Bs1 = 0.5*(1 - abcissas)\n",
    "Bs2 = 0.5*(1 + abcissas)"
   ]
  },
  {
   "cell_type": "markdown",
   "metadata": {},
   "source": [
    "\n",
    "So `x` is just a repetition of the abcissas vector over and over.  Then, `k1` and `k2` define lower and upper bounds, respectively, for the element.  Finally, `kt` are the abcissa points.  Notice that these do not repeat, as each point corresponds to a different point on different elements.\n",
    "\n",
    "We can continue constructing our solution in a similar way throughout.\n",
    "\n",
    "Next, the computation of `kp` deserves some attention:"
   ]
  },
  {
   "cell_type": "code",
   "execution_count": 134,
   "metadata": {
    "collapsed": false
   },
   "outputs": [
    {
     "name": "stdout",
     "output_type": "stream",
     "text": [
      "[ 0.98695326  0.93253168  0.83970478  0.7166977   0.57443717  0.42556283\n",
      "  0.2833023   0.16029522  0.06746832  0.01304674  0.98695326  0.93253168\n",
      "  0.83970478  0.7166977   0.57443717  0.42556283  0.2833023   0.16029522\n",
      "  0.06746832  0.01304674  0.98695326  0.93253168  0.83970478  0.7166977\n",
      "  0.57443717  0.42556283  0.2833023   0.16029522  0.06746832  0.01304674\n",
      "  0.98695326  0.93253168  0.83970478  0.7166977   0.57443717  0.42556283\n",
      "  0.2833023   0.16029522  0.06746832  0.01304674  0.98695326  0.93253168\n",
      "  0.83970478  0.7166977   0.57443717  0.42556283  0.2833023   0.16029522\n",
      "  0.06746832  0.01304674  0.98695326  0.93253168  0.83970478  0.7166977\n",
      "  0.57443717  0.42556283  0.2833023   0.16029522  0.06746832  0.01304674\n",
      "  0.98695326  0.93253168  0.83970478  0.7166977   0.57443717  0.42556283\n",
      "  0.2833023   0.16029522  0.06746832  0.01304674  0.98695326  0.93253168\n",
      "  0.83970478  0.7166977   0.57443717  0.42556283  0.2833023   0.16029522\n",
      "  0.06746832  0.01304674  0.98695326  0.93253168  0.83970478  0.7166977\n",
      "  0.57443717  0.42556283  0.2833023   0.16029522  0.06746832  0.01304674\n",
      "  0.98695326  0.93253168  0.83970478  0.7166977   0.57443717  0.42556283\n",
      "  0.2833023   0.16029522  0.06746832  0.01304674]\n",
      "[ 0.04772662  0.04772662  0.04772662  0.04772662  0.04772662  0.04772662\n",
      "  0.04772662  0.04772662  0.04772662  0.04772662  0.05040981  0.05040981\n",
      "  0.05040981  0.05040981  0.05040981  0.05040981  0.05040981  0.05040981\n",
      "  0.05040981  0.05040981  0.05279576  0.05279576  0.05279576  0.05279576\n",
      "  0.05279576  0.05279576  0.05279576  0.05279576  0.05279576  0.05279576\n",
      "  0.05495366  0.05495366  0.05495366  0.05495366  0.05495366  0.05495366\n",
      "  0.05495366  0.05495366  0.05495366  0.05495366  0.05693016  0.05693016\n",
      "  0.05693016  0.05693016  0.05693016  0.05693016  0.05693016  0.05693016\n",
      "  0.05693016  0.05693016  0.05875836  0.05875836  0.05875836  0.05875836\n",
      "  0.05875836  0.05875836  0.05875836  0.05875836  0.05875836  0.05875836\n",
      "  0.06046269  0.06046269  0.06046269  0.06046269  0.06046269  0.06046269\n",
      "  0.06046269  0.06046269  0.06046269  0.06046269  0.06206175  0.06206175\n",
      "  0.06206175  0.06206175  0.06206175  0.06206175  0.06206175  0.06206175\n",
      "  0.06206175  0.06206175  0.06357007  0.06357007  0.06357007  0.06357007\n",
      "  0.06357007  0.06357007  0.06357007  0.06357007  0.06357007  0.06357007\n",
      "  0.06499921  0.06499921  0.06499921  0.06499921  0.06499921  0.06499921\n",
      "  0.06499921  0.06499921  0.06499921  0.06499921]\n",
      "[ 0.04776162  0.04790765  0.04815672  0.04848677  0.04886848  0.04926794\n",
      "  0.04964965  0.0499797   0.05022878  0.0503748   0.05044094  0.05057078\n",
      "  0.05079226  0.05108575  0.05142518  0.05178039  0.05211982  0.05241331\n",
      "  0.05263479  0.05276463  0.05282392  0.05294135  0.05314166  0.0534071\n",
      "  0.05371409  0.05403534  0.05434233  0.05460776  0.05480807  0.05492551\n",
      "  0.05497945  0.05508702  0.05527049  0.05551361  0.05579479  0.05608904\n",
      "  0.05637021  0.05661334  0.05679681  0.05690437  0.05695401  0.05705351\n",
      "  0.05722321  0.05744809  0.05770817  0.05798035  0.05824043  0.05846531\n",
      "  0.05863501  0.05873451  0.0587806   0.05887335  0.05903156  0.0592412\n",
      "  0.05948366  0.05973739  0.05997985  0.06018949  0.0603477   0.06044045\n",
      "  0.06048355  0.06057058  0.06071901  0.06091571  0.06114319  0.06138125\n",
      "  0.06160873  0.06180543  0.06195387  0.06204089  0.06208143  0.06216352\n",
      "  0.06230353  0.06248906  0.06270363  0.06292818  0.06314276  0.06332829\n",
      "  0.0634683   0.06355039  0.06358871  0.06366649  0.06379915  0.06397495\n",
      "  0.06417826  0.06439102  0.06459433  0.06477012  0.06490279  0.06498056\n",
      "  0.06501694  0.06509092  0.06521711  0.06538432  0.0655777   0.06578008\n",
      "  0.06597346  0.06614067  0.06626686  0.06634084]\n"
     ]
    }
   ],
   "source": [
    "kp = np.kron(coeff[i, :-1], np.ones(M))*bs1\\\n",
    "    + np.kron(coeff[i, 1:], np.ones(M))*bs2\n",
    "\n",
    "print(bs1)\n",
    "print(np.kron(coeff[i, :-1], np.ones(M)))\n",
    "print(kp)"
   ]
  },
  {
   "cell_type": "markdown",
   "metadata": {},
   "source": [
    "This operation is just repeating the coefficients $M$ times in order to carry out an element-wise multiplication with the interpolator.  This is the same calculation as before, but carried out $L-1$ times simultaneously.  \n",
    "\n",
    "Next let's see how our index finder is doing:"
   ]
  },
  {
   "cell_type": "code",
   "execution_count": 133,
   "metadata": {
    "collapsed": false
   },
   "outputs": [
    {
     "name": "stdout",
     "output_type": "stream",
     "text": [
      "[0 0 0 0 0 0 0 0 0 0 0 0 0 0 0 0 0 0 0 0 0 0 0 0 0 0 0 0 0 0 0 0 0 0 0 0 0\n",
      " 0 0 0 0 0 0 0 0 0 0 0 0 0 0 0 0 0 0 0 0 0 0 0 0 0 0 0 0 0 0 0 0 0 0 0 0 0\n",
      " 0 0 0 0 0 0 0 0 0 0 0 0 0 0 0 0 0 0 0 0 0 0 0 0 0 0]\n"
     ]
    }
   ],
   "source": [
    "#Find indices for next period's element bounds\n",
    "ii = np.array([np.where(point >= np.append([0], k[:-1]))[0][-1]\n",
    "               for point in kp])\n",
    "ii[ii > 0] -= 1\n",
    "\n",
    "print(ii)"
   ]
  },
  {
   "cell_type": "markdown",
   "metadata": {},
   "source": [
    "It seems to be working just fine.  You'll notice that all of the values in `kp` are below the lower bound on the state space, so we're simply forcing it back into the lower element.\n",
    "\n",
    "Finally, let's take a look at the conditional expectation:"
   ]
  },
  {
   "cell_type": "code",
   "execution_count": 135,
   "metadata": {
    "collapsed": true
   },
   "outputs": [],
   "source": [
    "#Define element bounds for next period\n",
    "k1p = k[ii]\n",
    "k2p = k[ii + 1]\n",
    "\n",
    "#Calculate policy next period\n",
    "x = scaldwn(kp, k2p, k1p)\n",
    "bs1p = 0.5*(1 - x)\n",
    "bs2p = 0.5*(1 + x)\n",
    "\n",
    "#Initialize the summation\n",
    "sum1 = np.zeros(((L-1)*M))\n",
    "\n",
    "#Compute all of the sums simultaneously using linear algebra\n",
    "kpp = coeff[:, ii]*bs1p + coeff[:, ii+1]*bs2p\n",
    "yp = np.outer(a, kp**alpha)\n",
    "cp = yp + (1 - delta)*np.outer(np.ones(I), kp) - kpp\n",
    "dudcp = cp**(-gamma)\n",
    "dydkp = np.outer(a, kp**(alpha - 1))*alpha\n",
    "sum1 = np.dot(PIE[i, :], dudcp*(dydkp + 1 - delta))\n"
   ]
  },
  {
   "cell_type": "code",
   "execution_count": 139,
   "metadata": {
    "collapsed": false
   },
   "outputs": [
    {
     "name": "stdout",
     "output_type": "stream",
     "text": [
      "(5, 100)\n",
      "(5, 100)\n",
      "(5, 100)\n",
      "(100,)\n"
     ]
    }
   ],
   "source": [
    "print(kpp.shape)\n",
    "print(yp.shape)\n",
    "print(cp.shape)\n",
    "print(sum1.shape)"
   ]
  },
  {
   "cell_type": "markdown",
   "metadata": {},
   "source": [
    "You'll notice that we just repeated the same code as before.  Instead of $M$ columns, the `kpp` matrix contains $M(L-1)$ columns, one for every quadrature point and element.  Similarly, `sum1` now contains all of the conditional expectations at all of the quadrature points on all of the elements in the capital direction.\n",
    "\n",
    "Finally, we want to calculate the residuals.  First of all, notice that we are going to have some trouble entering adding to the vector of residual, since the loop was only over $0...L-2$, while the length of our RES vector is a function of $L$.  Why is this?  On the lowest and highest elements, we only add once to the residual vector, since there is no overlap with another residual.  In order to deal with this we have to do some fancy slicing.\n",
    "\n",
    "As a test case, let's create a vector of size $IL$ and try to recove only the entries that we would like to fill.  Given a value for `i` in $\\{0, ..., I\\}$, we would like to fill all of the rows corresponding to $l + i*L$, for all $l$ in $\\{0...L-2\\}$, and the same plus one.  Thus, we simply slice the `test` vector accordingly:"
   ]
  },
  {
   "cell_type": "code",
   "execution_count": 150,
   "metadata": {
    "collapsed": false
   },
   "outputs": [
    {
     "name": "stdout",
     "output_type": "stream",
     "text": [
      "[ 0  1  2  3  4  5  6  7  8  9 10 11 12 13 14 15 16 17 18 19 20 21 22 23 24\n",
      " 25 26 27 28 29 30 31 32 33 34 35 36 37 38 39 40 41 42 43 44 45 46 47 48 49\n",
      " 50 51 52 53 54]\n",
      "[0 1 2 3 4 5 6 7 8 9]\n",
      "[array([0, 1, 2, 3, 4, 5, 6, 7, 8, 9]), array([11, 12, 13, 14, 15, 16, 17, 18, 19]), array([22, 23, 24, 25, 26, 27, 28, 29]), array([33, 34, 35, 36, 37, 38, 39]), array([44, 45, 46, 47, 48, 49])]\n",
      "[array([0, 1, 2, 3, 4, 5, 6, 7, 8, 9]), array([11, 12, 13, 14, 15, 16, 17, 18, 19, 20]), array([22, 23, 24, 25, 26, 27, 28, 29, 30, 31]), array([33, 34, 35, 36, 37, 38, 39, 40, 41, 42]), array([44, 45, 46, 47, 48, 49, 50, 51, 52, 53])]\n",
      "[array([ 1,  2,  3,  4,  5,  6,  7,  8,  9, 10]), array([12, 13, 14, 15, 16, 17, 18, 19, 20, 21]), array([23, 24, 25, 26, 27, 28, 29, 30, 31, 32]), array([34, 35, 36, 37, 38, 39, 40, 41, 42, 43]), array([45, 46, 47, 48, 49, 50, 51, 52, 53, 54])]\n"
     ]
    }
   ],
   "source": [
    "i = 0\n",
    "test = np.arange(I*L)\n",
    "print(test)\n",
    "print(test[i*L:(i+1)*(L-1)])\n",
    "\n",
    "#Will this work as we loop through i?\n",
    "print([test[i*L:(i+1)*(L-1)] for i in range(0,I)])\n",
    "\n",
    "#NO! Why?  The upper bound is advancing at a rate L-1 while the lower bound moves at L\n",
    "print([test[i*L:(i+1)*L-1] for i in range(0,I)])\n",
    "\n",
    "#That gives us the result we wanted!  What about plus one?\n",
    "print([test[i*L+1:(i+1)*L] for i in range(0,I)])\n"
   ]
  },
  {
   "cell_type": "markdown",
   "metadata": {},
   "source": [
    "So, on each pass, given a value for `i` we know how to fill `RES`, but how do we calculate the integrals?  First, notice that `bs1` just repeats over and over.  So, if we reshape the `res` vector into a matrix, we can carry out a dot product with a single interpolator.  Here's my implimentation:"
   ]
  },
  {
   "cell_type": "code",
   "execution_count": 153,
   "metadata": {
    "collapsed": true
   },
   "outputs": [],
   "source": [
    "res = (beta*sum1 - c**(-gamma))*u\n",
    "res = res.reshape(L-1, M)\n",
    "RES[i*L: (i+1)*L-1] += np.dot(res, Bs1)\n",
    "RES[i*L + 1: (i+1)*L] += np.dot(res, Bs2)"
   ]
  },
  {
   "cell_type": "markdown",
   "metadata": {},
   "source": [
    "Ok, here's the full function and a comparison with the older version:"
   ]
  },
  {
   "cell_type": "code",
   "execution_count": 156,
   "metadata": {
    "collapsed": true
   },
   "outputs": [],
   "source": [
    "def mcgratten_weighted_residual_vec_3(coeff):\n",
    "    \"\"\"\n",
    "    A partially vectorized function of the McGratten problem.\n",
    "\n",
    "    Variables:\n",
    "        coeff   :   ndarray; a vector of coefficients for the parameterized\n",
    "                    policy function\n",
    "    Returns:\n",
    "        ndarray containing the residuals.\n",
    "\n",
    "    \"\"\"\n",
    "    #Unpack the arguments\n",
    "    alpha, delta, I, L, k, abcissas, M, a, PIE = args\n",
    "    coeff = coeff.reshape(I, L)\n",
    "\n",
    "    #Initialize the residuals\n",
    "    RES = np.zeros((I*L))\n",
    "\n",
    "    #Construct the vector of residual funcitons\n",
    "    for i in range(0, I):\n",
    "        #Vectorize element loop along k axis\n",
    "        #Scale and calculate capital\n",
    "        x = np.kron(np.ones(L - 1), abcissas)\n",
    "        kt = scalup(x, np.kron(k[1:], np.ones(M)), np.kron(k[:-1], np.ones(M)))\n",
    "        u = np.kron(np.ones(L - 1), weights)\n",
    "        bs1 = 0.5*(1 - x)\n",
    "        bs2 = 0.5*(1 + x)\n",
    "        Bs1 = 0.5*(1 - abcissas)\n",
    "        Bs2 = 0.5*(1 + abcissas)\n",
    "\n",
    "        #Compute capital next period by projection\n",
    "        kp = np.kron(coeff[i, :-1], np.ones(M))*bs1\\\n",
    "            + np.kron(coeff[i, 1:], np.ones(M))*bs2\n",
    "\n",
    "        #Compute consumption\n",
    "        y = a[i]*kt**alpha\n",
    "        c = y + (1 - delta)*kt - kp\n",
    "\n",
    "        #Find indices for next period's element bounds\n",
    "        ii = np.array([np.where(point >= np.append([0], k[:-1]))[0][-1]\n",
    "                       for point in kp])\n",
    "        ii[ii > 0] -= 1\n",
    "\n",
    "        #Define element bounds for next period\n",
    "        k1p = k[ii]\n",
    "        k2p = k[ii + 1]\n",
    "\n",
    "        #Calculate policy next period\n",
    "        x = scaldwn(kp, k2p, k1p)\n",
    "        bs1p = 0.5*(1 - x)\n",
    "        bs2p = 0.5*(1 + x)\n",
    "\n",
    "        #Initialize the summation\n",
    "        sum1 = np.zeros(((L-1)*M))\n",
    "\n",
    "        #Compute all of the sums simultaneously using linear algebra\n",
    "        kpp = coeff[:, ii]*bs1p + coeff[:, ii+1]*bs2p\n",
    "        yp = np.outer(a, kp**alpha)\n",
    "        cp = yp + (1 - delta)*np.outer(np.ones(I), kp) - kpp\n",
    "        dudcp = cp**(-gamma)\n",
    "        dydkp = np.outer(a, kp**(alpha - 1))*alpha\n",
    "        sum1 = np.dot(PIE[i, :], dudcp*(dydkp + 1 - delta))\n",
    "\n",
    "        #Calculate the residual functions\n",
    "        res = (beta*sum1 - c**(-gamma))*u\n",
    "        res = res.reshape(L-1, M)\n",
    "        RES[i*L: (i+1)*L-1] += np.dot(res, Bs1)\n",
    "        RES[i*L + 1: (i+1)*L] += np.dot(res, Bs2)\n",
    "    return RES\n"
   ]
  },
  {
   "cell_type": "code",
   "execution_count": 158,
   "metadata": {
    "collapsed": false
   },
   "outputs": [
    {
     "name": "stdout",
     "output_type": "stream",
     "text": [
      "0:  |F(x)| = 65.3091; step 1; tol 0.164013\n",
      "1:  |F(x)| = 21.2687; step 1; tol 0.0954504\n",
      "2:  |F(x)| = 3.31136; step 1; tol 0.0218159\n",
      "3:  |F(x)| = 0.119142; step 1; tol 0.00116509\n",
      "4:  |F(x)| = 0.000200299; step 1; tol 2.54373e-06\n",
      "5:  |F(x)| = 7.06869e-10; step 1; tol 1.12089e-11\n",
      "0.7266361713409424\n",
      "0:  |F(x)| = 65.3091; step 1; tol 0.164013\n",
      "1:  |F(x)| = 21.2687; step 1; tol 0.0954504\n",
      "2:  |F(x)| = 3.32729; step 1; tol 0.0220263\n",
      "3:  |F(x)| = 0.125515; step 1; tol 0.00128071\n",
      "4:  |F(x)| = 0.000285917; step 1; tol 4.67017e-06\n",
      "5:  |F(x)| = 1.87484e-09; step 1; tol 3.8698e-11\n",
      "0.4355125427246094\n",
      "2.46345452403e-11\n"
     ]
    }
   ],
   "source": [
    "time0 = time.time()\n",
    "res = scipy.optimize.newton_krylov(mcgratten_weighted_residual, coeff0,\n",
    "                                   method='lgmres', verbose=True, maxiter=1000,\n",
    "                                   line_search='armijo')\n",
    "print(time.time() - time0)\n",
    "\n",
    "time0 = time.time()\n",
    "res3 = scipy.optimize.newton_krylov(mcgratten_weighted_residual_vec_3, coeff0,\n",
    "                                    method='lgmres', verbose=True,\n",
    "                                    maxiter=1000, line_search='armijo')\n",
    "print(time.time() - time0)\n",
    "print(np.linalg.norm(res - res3))"
   ]
  },
  {
   "cell_type": "markdown",
   "metadata": {},
   "source": [
    "This is clearly faster, even for lower values of $M$ and $L$, but let's see how it performs as these increase:"
   ]
  },
  {
   "cell_type": "code",
   "execution_count": 160,
   "metadata": {
    "collapsed": false
   },
   "outputs": [
    {
     "name": "stdout",
     "output_type": "stream",
     "text": [
      "0:  |F(x)| = 213.312; step 1; tol 0.167273\n",
      "1:  |F(x)| = 69.0602; step 1; tol 0.0943335\n",
      "2:  |F(x)| = 10.6125; step 1; tol 0.0212532\n",
      "3:  |F(x)| = 0.297359; step 1; tol 0.000706587\n",
      "4:  |F(x)| = 0.00148477; step 1; tol 2.24386e-05\n",
      "5:  |F(x)| = 1.47206e-07; step 1; tol 8.84669e-09\n",
      "10.364726305007935\n",
      "0:  |F(x)| = 213.312; step 1; tol 0.167273\n",
      "1:  |F(x)| = 69.0602; step 1; tol 0.0943335\n",
      "2:  |F(x)| = 10.6115; step 1; tol 0.0212492\n",
      "3:  |F(x)| = 0.297485; step 1; tol 0.000707322\n",
      "4:  |F(x)| = 0.00146601; step 1; tol 2.18569e-05\n",
      "5:  |F(x)| = 1.44792e-07; step 1; tol 8.77923e-09\n",
      "3.316906690597534\n",
      "4.09607965422e-10\n"
     ]
    }
   ],
   "source": [
    "#Generate a state space vector over k\n",
    "L = 101\n",
    "k = np.linspace(kmin, kmax, num=L)\n",
    "\n",
    "#Specify number of points in the integral on each element [k_j, k_j+1]\n",
    "M = 10\n",
    "\n",
    "#Generate absissas and weights\n",
    "abcissas, weights = np.polynomial.legendre.leggauss(M)\n",
    "\n",
    "#Generate intial guess as half of production at all nodes\n",
    "coeff0 = np.outer(a, k**alpha)*0.1\n",
    "\n",
    "#Pack up all of the arguments to pass to the solver\n",
    "args = (alpha, delta, I, L, k, abcissas, M, a, PIE)\n",
    "\n",
    "time0 = time.time()\n",
    "res = scipy.optimize.newton_krylov(mcgratten_weighted_residual, coeff0,\n",
    "                                   method='lgmres', verbose=True, maxiter=1000,\n",
    "                                   line_search='armijo')\n",
    "print(time.time() - time0)\n",
    "\n",
    "time0 = time.time()\n",
    "res3 = scipy.optimize.newton_krylov(mcgratten_weighted_residual_vec_3, coeff0,\n",
    "                                    method='lgmres', verbose=True,\n",
    "                                    maxiter=1000, line_search='armijo')\n",
    "print(time.time() - time0)\n",
    "print(np.linalg.norm(res - res3))"
   ]
  },
  {
   "cell_type": "markdown",
   "metadata": {},
   "source": [
    "On my home computer with $L = 101$ and $M = 100$, I got a four times speed up!  Huzzah!\n",
    "\n",
    "Let's reset our parameters:"
   ]
  },
  {
   "cell_type": "code",
   "execution_count": 163,
   "metadata": {
    "collapsed": true
   },
   "outputs": [],
   "source": [
    "#Generate a state space vector over k\n",
    "L = 11\n",
    "k = np.linspace(kmin, kmax, num=L)\n",
    "\n",
    "#Specify number of points in the integral on each element [k_j, k_j+1]\n",
    "M = 10\n",
    "\n",
    "#Generate absissas and weights\n",
    "abcissas, weights = np.polynomial.legendre.leggauss(M)\n",
    "\n",
    "#Generate intial guess as half of production at all nodes\n",
    "coeff0 = np.outer(a, k**alpha)*0.1\n",
    "\n",
    "#Pack up all of the arguments to pass to the solver\n",
    "args = (alpha, delta, I, L, k, abcissas, M, a, PIE)"
   ]
  },
  {
   "cell_type": "markdown",
   "metadata": {},
   "source": [
    "Finally, let's turn to the last loop.\n",
    "\n",
    "### The Productivity Loop\n",
    "As mentioned before, you only get a speed up when you vectorize a loop that makes many passes.  That means that this probably won't change much, but we'll give it a try anyways.\n",
    "\n",
    "One last time, here's the loop we are trying to vectorize:"
   ]
  },
  {
   "cell_type": "code",
   "execution_count": 164,
   "metadata": {
    "collapsed": false
   },
   "outputs": [],
   "source": [
    "for i in range(0, I):\n",
    "    #Vectorize element loop along k axis\n",
    "    #Scale and calculate capital\n",
    "    x = np.kron(np.ones(L - 1), abcissas)\n",
    "    kt = scalup(x, np.kron(k[1:], np.ones(M)), np.kron(k[:-1], np.ones(M)))\n",
    "    u = np.kron(np.ones(L - 1), weights)\n",
    "    bs1 = 0.5*(1 - x)\n",
    "    bs2 = 0.5*(1 + x)\n",
    "    Bs1 = 0.5*(1 - abcissas)\n",
    "    Bs2 = 0.5*(1 + abcissas)\n",
    "\n",
    "    #Compute capital next period by projection\n",
    "    kp = np.kron(coeff[i, :-1], np.ones(M))*bs1\\\n",
    "        + np.kron(coeff[i, 1:], np.ones(M))*bs2\n",
    "\n",
    "    #Compute consumption\n",
    "    y = a[i]*kt**alpha\n",
    "    c = y + (1 - delta)*kt - kp\n",
    "\n",
    "    #Find indices for next period's element bounds\n",
    "    ii = np.array([np.where(point >= np.append([0], k[:-1]))[0][-1]\n",
    "                   for point in kp])\n",
    "    ii[ii > 0] -= 1\n",
    "\n",
    "    #Define element bounds for next period\n",
    "    k1p = k[ii]\n",
    "    k2p = k[ii + 1]\n",
    "\n",
    "    #Calculate policy next period\n",
    "    x = scaldwn(kp, k2p, k1p)\n",
    "    bs1p = 0.5*(1 - x)\n",
    "    bs2p = 0.5*(1 + x)\n",
    "\n",
    "    #Initialize the summation\n",
    "    sum1 = np.zeros(((L-1)*M))\n",
    "\n",
    "    #Compute all of the sums simultaneously using linear algebra\n",
    "    kpp = coeff[:, ii]*bs1p + coeff[:, ii+1]*bs2p\n",
    "    yp = np.outer(a, kp**alpha)\n",
    "    cp = yp + (1 - delta)*np.outer(np.ones(I), kp) - kpp\n",
    "    dudcp = cp**(-gamma)\n",
    "    dydkp = np.outer(a, kp**(alpha - 1))*alpha\n",
    "    sum1 = np.dot(PIE[i, :], dudcp*(dydkp + 1 - delta))\n",
    "\n",
    "    #Calculate the residual functions\n",
    "    res = (beta*sum1 - c**(-gamma))*u\n",
    "    res = res.reshape(L-1, M)\n",
    "    RES[i*(L-1): (i+1)*(L-1)] += np.dot(res, Bs1)\n",
    "    RES[i*(L-1) + 1: (i+1)*(L-1) + 1] += np.dot(res, Bs2)"
   ]
  },
  {
   "cell_type": "markdown",
   "metadata": {},
   "source": [
    "And just to move things along, here is the vectorized version:"
   ]
  },
  {
   "cell_type": "code",
   "execution_count": 10,
   "metadata": {
    "collapsed": false
   },
   "outputs": [
    {
     "ename": "NameError",
     "evalue": "name 'coeff' is not defined",
     "output_type": "error",
     "traceback": [
      "\u001b[1;31m---------------------------------------------------------------------------\u001b[0m",
      "\u001b[1;31mNameError\u001b[0m                                 Traceback (most recent call last)",
      "\u001b[1;32m<ipython-input-10-22e12707bd77>\u001b[0m in \u001b[0;36m<module>\u001b[1;34m()\u001b[0m\n\u001b[0;32m     12\u001b[0m \u001b[1;33m\u001b[0m\u001b[0m\n\u001b[0;32m     13\u001b[0m \u001b[1;31m#Compute capital next period by projection\u001b[0m\u001b[1;33m\u001b[0m\u001b[1;33m\u001b[0m\u001b[0m\n\u001b[1;32m---> 14\u001b[1;33m \u001b[0mkp\u001b[0m \u001b[1;33m=\u001b[0m \u001b[0mnp\u001b[0m\u001b[1;33m.\u001b[0m\u001b[0mkron\u001b[0m\u001b[1;33m(\u001b[0m\u001b[0mcoeff\u001b[0m\u001b[1;33m[\u001b[0m\u001b[1;33m:\u001b[0m\u001b[1;33m,\u001b[0m \u001b[1;33m:\u001b[0m\u001b[1;33m-\u001b[0m\u001b[1;36m1\u001b[0m\u001b[1;33m]\u001b[0m\u001b[1;33m.\u001b[0m\u001b[0mreshape\u001b[0m\u001b[1;33m(\u001b[0m\u001b[0mH\u001b[0m\u001b[1;33m,\u001b[0m\u001b[1;33m)\u001b[0m\u001b[1;33m,\u001b[0m \u001b[0mnp\u001b[0m\u001b[1;33m.\u001b[0m\u001b[0mones\u001b[0m\u001b[1;33m(\u001b[0m\u001b[1;33m(\u001b[0m\u001b[0mM\u001b[0m\u001b[1;33m)\u001b[0m\u001b[1;33m)\u001b[0m\u001b[1;33m)\u001b[0m\u001b[1;33m*\u001b[0m\u001b[0mbs1\u001b[0m    \u001b[1;33m+\u001b[0m \u001b[0mnp\u001b[0m\u001b[1;33m.\u001b[0m\u001b[0mkron\u001b[0m\u001b[1;33m(\u001b[0m\u001b[0mcoeff\u001b[0m\u001b[1;33m[\u001b[0m\u001b[1;33m:\u001b[0m\u001b[1;33m,\u001b[0m \u001b[1;36m1\u001b[0m\u001b[1;33m:\u001b[0m\u001b[1;33m]\u001b[0m\u001b[1;33m.\u001b[0m\u001b[0mreshape\u001b[0m\u001b[1;33m(\u001b[0m\u001b[0mH\u001b[0m\u001b[1;33m,\u001b[0m\u001b[1;33m)\u001b[0m\u001b[1;33m,\u001b[0m \u001b[0mnp\u001b[0m\u001b[1;33m.\u001b[0m\u001b[0mones\u001b[0m\u001b[1;33m(\u001b[0m\u001b[1;33m(\u001b[0m\u001b[0mM\u001b[0m\u001b[1;33m,\u001b[0m\u001b[1;33m)\u001b[0m\u001b[1;33m)\u001b[0m\u001b[1;33m)\u001b[0m\u001b[1;33m*\u001b[0m\u001b[0mbs2\u001b[0m\u001b[1;33m\u001b[0m\u001b[0m\n\u001b[0m\u001b[0;32m     15\u001b[0m \u001b[1;33m\u001b[0m\u001b[0m\n\u001b[0;32m     16\u001b[0m \u001b[1;31m#Compute consumption\u001b[0m\u001b[1;33m\u001b[0m\u001b[1;33m\u001b[0m\u001b[0m\n",
      "\u001b[1;31mNameError\u001b[0m: name 'coeff' is not defined"
     ]
    }
   ],
   "source": [
    "H = I*(L - 1)\n",
    "#Vectorize all loops\n",
    "#Scale and calculate capital\n",
    "x = np.kron(np.ones(H), abcissas)\n",
    "kt = scalup(x, np.kron(k[1:], np.ones(I*M)), np.kron(k[:-1], np.ones(I*M)))\n",
    "u = np.kron(np.ones(H), weights)\n",
    "bs1 = 0.5*(1 - x)\n",
    "bs2 = 0.5*(1 + x)\n",
    "#NOTE: bs is constant across elements, so simplify calculations later\n",
    "Bs1 = 0.5*(1 - abcissas)\n",
    "Bs2 = 0.5*(1 + abcissas)\n",
    "\n",
    "#Compute capital next period by projection\n",
    "kp = np.kron(coeff[:, :-1].reshape(H,), np.ones((M)))*bs1\\\n",
    "    + np.kron(coeff[:, 1:].reshape(H,), np.ones((M,)))*bs2\n",
    "\n",
    "#Compute consumption\n",
    "y = np.kron(a, np.ones((L - 1)*M))*kt**alpha\n",
    "c = y + (1 - delta)*kt - kp\n",
    "\n",
    "#Find indices for next periods element bounds\n",
    "ii = np.array([np.where(point >= np.append([0], k[:-1]))[0][-1]\n",
    "               for point in kp])\n",
    "ii[ii > 0] -= 1\n",
    "\n",
    "#Define element bounds for next period\n",
    "k1p = k[ii]\n",
    "k2p = k[ii + 1]\n",
    "\n",
    "#Calculate policy next period\n",
    "x = scaldwn(kp, k2p, k1p)\n",
    "bs1p = 0.5*(1 - x)\n",
    "bs2p = 0.5*(1 + x)\n",
    "\n",
    "#Initialize the summation\n",
    "sum1 = np.zeros((H*M))\n",
    "\n",
    "#Compute the sums\n",
    "#Calculate next period's policy, output, and consumption\n",
    "kpp = coeff[:, ii]*bs1p + coeff[:, ii+1]*bs2p\n",
    "yp = np.outer(a, kp**alpha)\n",
    "cp = yp + (1 - delta)*np.outer(np.ones(I), kp) - kpp\n",
    "\n",
    "#Calculate marginal product of capital and marginal utility\n",
    "dudcp = cp**(-gamma)\n",
    "dydkp = np.outer(a, kp**(alpha - 1))*alpha\n",
    "rhs = dudcp*(dydkp + 1 - delta)\n",
    "\n",
    "#Generate a block diagonal matrix for the expectation\n",
    "mats = [rhs[:, i*M*(L - 1): (i+1)*M*(L - 1)] for i in range(0, I)]\n",
    "temp1 = scipy.linalg.block_diag(*mats)\n",
    "temp2 = PIE.reshape(I*I)\n",
    "sum1 = np.dot(temp2, temp1)\n",
    "\n",
    "#Calculate the residual functions\n",
    "res = (beta*sum1 - c**(-gamma))*u\n",
    "res = res.reshape((H, M))\n",
    "RES[[i for i in range(0, I*L) if i not in range((L - 1),I*L,L)]] += np.dot(res, Bs1)\n",
    "RES[[i for i in range(0, I*L) if i not in range(0, I*L - 1, L)]] += np.dot(res, Bs2)"
   ]
  },
  {
   "cell_type": "markdown",
   "metadata": {},
   "source": [
    "This code looks almost exactly the same, and this is one of the benefits of vectorization.  An increase in dimensions from one to two can be tricky, but from two to three or three to four is usually trivial.  Let's look at exactly what's going on.\n",
    "\n",
    "First, we build a vector `kp` the same way as befor, except now it is longer.  One point is the `reshpae` operation:"
   ]
  },
  {
   "cell_type": "code",
   "execution_count": 170,
   "metadata": {
    "collapsed": false
   },
   "outputs": [
    {
     "name": "stdout",
     "output_type": "stream",
     "text": [
      "(500,)\n"
     ]
    }
   ],
   "source": [
    "kp = np.kron(coeff[:, :-1].reshape(H,), np.ones((M)))*bs1\\\n",
    "    + np.kron(coeff[:, 1:].reshape(H,), np.ones((M,)))*bs2\n",
    "print(kp.shape)"
   ]
  },
  {
   "cell_type": "markdown",
   "metadata": {},
   "source": [
    "In order to stack all of the loops as we did befor, we reshape the coefficient matrix.  It is important to think about how this reshape operation works.  The default method is to **allow the last (or rightmost) index to vary the fastest**.  Let's see an example:"
   ]
  },
  {
   "cell_type": "code",
   "execution_count": 175,
   "metadata": {
    "collapsed": false
   },
   "outputs": [
    {
     "name": "stdout",
     "output_type": "stream",
     "text": [
      "[0 1 2 3 4 5 6 7 8]\n",
      "[[0 1 2]\n",
      " [3 4 5]\n",
      " [6 7 8]]\n",
      "[0 1 2 3 4 5 6 7 8]\n"
     ]
    }
   ],
   "source": [
    "test = np.arange(9)\n",
    "print(test)\n",
    "print(test.reshape(3,3))\n",
    "print(test.reshape(3,3).reshape(9,))"
   ]
  },
  {
   "cell_type": "markdown",
   "metadata": {},
   "source": [
    "So as you can see, the `reshape` method (or corresponding function) will either take items from the first row of a matrix, then the second, and so on.  Or, conversely, if reshaping a vector to a matrix it will fill the first row first, the second row second, and etc.\n",
    "\n",
    "Looking back to `kp`, the reshape is just taking the rows of the `coeff` matrix and stacking them end-to-end to make a long vector.  This is exactly what we want.\n",
    "\n",
    "The next important point here is the calculation of the integrals.  You'll notice that we construct the `rhs` matrix, which is $I \\times (L-1)I$.  We need to take the dot product of the first row of $\\Pi$ with the first $L-1$ columns of `rhs`, the second with the second, and so forth. This presents a very odd computational challenge, but here is my solution:\n",
    "\n",
    "We can transform the `rhs` matrix up into a block diagonal matrix, where each block corresponds to $L-1$ columns from the original matrix.  This matrix will we $I^2\\times (L-1)I$.  We can then reshape the $\\Pi$ matrix into a vector.  If we use the reshape method, this will stack the rows end to end.  Finally, taking the dot product of these two should give us the desired result!\n",
    "\n",
    "That's carried out in these lines, where we first create a list of arrays, then pass them to `scipy.linalg.block_diag` as a star-args argument (allowing you to pass a dynamic number of matrices), and finally reshaping and taking the dot product:"
   ]
  },
  {
   "cell_type": "code",
   "execution_count": 180,
   "metadata": {
    "collapsed": false
   },
   "outputs": [],
   "source": [
    "#Generate a block diagonal matrix for the expectation\n",
    "mats = [rhs[:, i*M*(L - 1): (i+1)*M*(L - 1)] for i in range(0, I)]\n",
    "temp1 = scipy.linalg.block_diag(*mats)\n",
    "temp2 = PIE.reshape(I*I)\n",
    "sum1 = np.dot(temp2, temp1)"
   ]
  },
  {
   "cell_type": "markdown",
   "metadata": {},
   "source": [
    "The last point to make is that we need to fill only a subset of the rows of `RES`.  In two lines we would like to fill first the rows that aren't on the upper bound of capital, and on the next those that aren't on the lower bound of capital.  This present a need for some truly fancy slicing.\n",
    "\n",
    "First, notice that in the first case we want the numbers zero through $L-2$, $L$ through $2L-1$, and so on.  Put a different way, we want all of the indices, less those corresponding to $l = L - 1$.  We can do this with a fancy slice and using `range`.  Check it out:"
   ]
  },
  {
   "cell_type": "code",
   "execution_count": 208,
   "metadata": {
    "collapsed": false
   },
   "outputs": [
    {
     "name": "stdout",
     "output_type": "stream",
     "text": [
      "[0, 1, 2, 3, 4, 5, 6, 7, 8, 9, 10, 11, 12, 13, 14, 15, 16, 17, 18, 19, 20, 21, 22, 23, 24, 25, 26, 27, 28, 29, 30, 31, 32, 33, 34, 35, 36, 37, 38, 39, 40, 41, 42, 43, 44, 45, 46, 47, 48, 49, 50, 51, 52, 53, 54]\n",
      "[10, 55, 11]\n",
      "[0, 1, 2, 3, 4, 5, 6, 7, 8, 9, 11, 12, 13, 14, 15, 16, 17, 18, 19, 20, 22, 23, 24, 25, 26, 27, 28, 29, 30, 31, 33, 34, 35, 36, 37, 38, 39, 40, 41, 42, 44, 45, 46, 47, 48, 49, 50, 51, 52, 53]\n",
      "[1, 2, 3, 4, 5, 6, 7, 8, 9, 10, 12, 13, 14, 15, 16, 17, 18, 19, 20, 21, 23, 24, 25, 26, 27, 28, 29, 30, 31, 32, 34, 35, 36, 37, 38, 39, 40, 41, 42, 43, 45, 46, 47, 48, 49, 50, 51, 52, 53, 54]\n"
     ]
    }
   ],
   "source": [
    "#Here are all the indices\n",
    "print([i for i in range(0, I*L)])\n",
    "\n",
    "#Here are all the indices we dont want\n",
    "#NOTE: The third argument is the step size\n",
    "print([L-1, I*L, L])\n",
    "\n",
    "#Here are all the indices we do want!\n",
    "print([i for i in range(0, I*L) if i not in range((L - 1),I*L,L)])\n",
    "\n",
    "#And, on the second line, we want all of these indices\n",
    "print([i for i in range(0, I*L) if i not in range(0, I*L - 1, L)])"
   ]
  },
  {
   "cell_type": "markdown",
   "metadata": {},
   "source": [
    "Thus, we can reshape the `res` object and fill the corresponding rows of `RES` using a dot product:"
   ]
  },
  {
   "cell_type": "code",
   "execution_count": 210,
   "metadata": {
    "collapsed": true
   },
   "outputs": [],
   "source": [
    "res = (beta*sum1 - c**(-gamma))*u\n",
    "res = res.reshape((H, M))\n",
    "RES[[i for i in range(0, I*L) if i not in range((L - 1),I*L,L)]] += np.dot(res, Bs1)\n",
    "RES[[i for i in range(0, I*L) if i not in range(0, I*L - 1, L)]] += np.dot(res, Bs2)"
   ]
  },
  {
   "cell_type": "markdown",
   "metadata": {},
   "source": [
    "Here is the full function with a comparison to the original:"
   ]
  },
  {
   "cell_type": "code",
   "execution_count": 1,
   "metadata": {
    "collapsed": true
   },
   "outputs": [],
   "source": [
    "def mcgratten_weighted_residual_vec(coeff):\n",
    "    \"\"\"\n",
    "    A vectorized function of the McGratten problem.\n",
    "\n",
    "    Variables:\n",
    "        coeff   :   ndarray; a vector of coefficients for the parameterized\n",
    "                    policy function\n",
    "    Returns:\n",
    "        ndarray containing the residuals.\n",
    "\n",
    "    \"\"\"\n",
    "    #Unpack the arguments\n",
    "    alpha, delta, I, L, k, abcissas, M, a, PIE = args\n",
    "\n",
    "    #Reshape coefficients in case they are vector\n",
    "    coeff = coeff.reshape(I, L)\n",
    "\n",
    "    #Initialize the residuals\n",
    "    RES = np.zeros((I*L))\n",
    "\n",
    "    #For readability define the number of rows\n",
    "    H = I*(L - 1)\n",
    "\n",
    "    #Construct the vector of residual funcitons\n",
    "    #Vectorize all loops\n",
    "    #Scale and calculate capital\n",
    "    x = np.kron(np.ones(H), abcissas)\n",
    "    kt = scalup(x, np.kron(k[1:], np.ones(I*M)), np.kron(k[:-1], np.ones(I*M)))\n",
    "    u = np.kron(np.ones(H), weights)\n",
    "    bs1 = 0.5*(1 - x)\n",
    "    bs2 = 0.5*(1 + x)\n",
    "    #NOTE: bs is constant across elements, so simplify calculations later\n",
    "    Bs1 = 0.5*(1 - abcissas)\n",
    "    Bs2 = 0.5*(1 + abcissas)\n",
    "\n",
    "    #Compute capital next period by projection\n",
    "    kp = np.kron(coeff[:, :-1].reshape(H,), np.ones((M)))*bs1\\\n",
    "        + np.kron(coeff[:, 1:].reshape(H,), np.ones((M,)))*bs2\n",
    "\n",
    "    #Compute consumption\n",
    "    y = np.kron(a, np.ones((L - 1)*M))*kt**alpha\n",
    "    c = y + (1 - delta)*kt - kp\n",
    "\n",
    "    #Find indices for next periods element bounds\n",
    "    ii = np.array([np.where(point >= np.append([0], k[:-1]))[0][-1]\n",
    "                   for point in kp])\n",
    "    ii[ii > 0] -= 1\n",
    "\n",
    "    #Define element bounds for next period\n",
    "    k1p = k[ii]\n",
    "    k2p = k[ii + 1]\n",
    "\n",
    "    #Calculate policy next period\n",
    "    x = scaldwn(kp, k2p, k1p)\n",
    "    bs1p = 0.5*(1 - x)\n",
    "    bs2p = 0.5*(1 + x)\n",
    "\n",
    "    #Initialize the summation\n",
    "    sum1 = np.zeros((H*M))\n",
    "\n",
    "    #Compute the sums\n",
    "    #Calculate next period's policy, output, and consumption\n",
    "    kpp = coeff[:, ii]*bs1p + coeff[:, ii+1]*bs2p\n",
    "    yp = np.outer(a, kp**alpha)\n",
    "    cp = yp + (1 - delta)*np.outer(np.ones(I), kp) - kpp\n",
    "\n",
    "    #Calculate marginal product of capital and marginal utility\n",
    "    dudcp = cp**(-gamma)\n",
    "    dydkp = np.outer(a, kp**(alpha - 1))*alpha\n",
    "    rhs = dudcp*(dydkp + 1 - delta)\n",
    "\n",
    "    #Generate a block diagonal matrix for the expectation\n",
    "    mats = [rhs[:, i*M*(L - 1): (i+1)*M*(L - 1)] for i in range(0, I)]\n",
    "    temp1 = scipy.linalg.block_diag(*mats)\n",
    "    temp2 = PIE.reshape(I*I)\n",
    "    sum1 = np.dot(temp2, temp1)\n",
    "\n",
    "    #Calculate the residual functions\n",
    "    res = (beta*sum1 - c**(-gamma))*u\n",
    "    res = res.reshape((H, M))\n",
    "    RES[[i for i in range(0, I*L) if i not in\n",
    "        range((L - 1), I*L, L)]] += np.dot(res, Bs1)\n",
    "    RES[[i for i in range(0, I*L) if i not in\n",
    "        range(0, I*L - 1, L)]] += np.dot(res, Bs2)\n",
    "\n",
    "    return RES\n"
   ]
  },
  {
   "cell_type": "code",
   "execution_count": 9,
   "metadata": {
    "collapsed": false
   },
   "outputs": [
    {
     "name": "stdout",
     "output_type": "stream",
     "text": [
      "0:  |F(x)| = 65.3091; step 1; tol 0.164013\n",
      "1:  |F(x)| = 21.2687; step 1; tol 0.0954504\n",
      "2:  |F(x)| = 3.31136; step 1; tol 0.0218159\n",
      "3:  |F(x)| = 0.119142; step 1; tol 0.00116509\n",
      "4:  |F(x)| = 0.000200299; step 1; tol 2.54373e-06\n",
      "5:  |F(x)| = 7.06869e-10; step 1; tol 1.12089e-11\n",
      "0.6985089778900146\n",
      "0:  |F(x)| = 65.8238; step 1; tol 0.167192\n",
      "1:  |F(x)| = 21.1904; step 1; tol 0.0932732\n",
      "2:  |F(x)| = 2.56984; step 1; tol 0.0132365\n",
      "3:  |F(x)| = 0.0737766; step 1; tol 0.00074177\n",
      "4:  |F(x)| = 4.05189e-05; step 1; tol 2.71468e-07\n",
      "5:  |F(x)| = 3.6113e-11; step 1; tol 7.14917e-13\n",
      "0.43918347358703613\n",
      "0.250583369082\n"
     ]
    }
   ],
   "source": [
    "time0 = time.time()\n",
    "res = scipy.optimize.newton_krylov(mcgratten_weighted_residual, coeff0,\n",
    "                                   method='lgmres', verbose=True, maxiter=1000,\n",
    "                                   line_search='armijo')\n",
    "print(time.time() - time0)\n",
    "\n",
    "time0 = time.time()\n",
    "res_vec = scipy.optimize.newton_krylov(mcgratten_weighted_residual_vec, coeff0,\n",
    "                                       method='lgmres', verbose=True,\n",
    "                                       maxiter=1000, line_search='armijo')\n",
    "print(time.time() - time0)\n",
    "print(np.linalg.norm(res - res_vec))\n"
   ]
  },
  {
   "cell_type": "markdown",
   "metadata": {},
   "source": [
    "You'll notice that the norm is non-zero... ahhhhh!!!!  That is your homework: figure out where the mistake is and fix it!"
   ]
  }
 ],
 "metadata": {
  "kernelspec": {
   "display_name": "Python 3",
   "language": "python",
   "name": "python3"
  },
  "language_info": {
   "codemirror_mode": {
    "name": "ipython",
    "version": 3
   },
   "file_extension": ".py",
   "mimetype": "text/x-python",
   "name": "python",
   "nbconvert_exporter": "python",
   "pygments_lexer": "ipython3",
   "version": "3.3.5"
  }
 },
 "nbformat": 4,
 "nbformat_minor": 0
}
