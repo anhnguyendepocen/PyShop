{
 "cells": [
  {
   "cell_type": "markdown",
   "metadata": {},
   "source": [
    "# PyShop Session 2\n",
    "## Exercises\n",
    "***\n",
    "\n",
    "Given the complexity of the course on NumPy/SciPy, I encourage you to spend most of your homework time trying to under stand what we did in class.  Once you are done there, here are some exercises.\n",
    "\n",
    "As an example we'll consider a deterministic economy.  This will keep the functions you must write simple and concise, as well as ensure convergence.  However, it will make the solution quite boring.\n",
    "\n",
    "The questions are in increasing difficulty, where the first question should take you less than a minute and the last one you might not be able to figure out.  Good luck!\n",
    "\n",
    "**Note:** I appologize for the solutions and questions not being next to each other, but there is a numbering issue in the Markdown that generates this text.  Sorry, but it is a known bug that has yet to be fixed!"
   ]
  },
  {
   "cell_type": "markdown",
   "metadata": {},
   "source": [
    "### Simple Example For Practicing Vectorization\n",
    "Consider an economy with $N$ who live for two periods.  Agents preferences are CRRA.  Agents are heterogeneous in their preference parameter, $\\gamma_i$, which is drawn from a distribution at time $t=1$ (NOTE: You can choose the distribution to be discrete and the values to be only whole numbers to make your life much easier.  This is what I did in the solutions, but it is solvable over a continuous distribution.).  Agents are fully rational and aware of all other agents' preferences (to avoid any sort of information problems).  They discount at a rate $\\beta$.\n",
    "\n",
    "All agents are endowed with one unit of the consumption good: $e_0 = 1$.\n",
    "\n",
    "Agents are also endowed with an asset, $e_a$, that pays one unit of consumption next period.  This they can freely trade at a price $p$. Agents thus solve\n",
    "\n",
    "$$\n",
    "\\begin{equation*}\n",
    "\\begin{aligned}\n",
    "& \\underset{\\{ c_i,c_i', a_i \\}}{\\text{max}}\t\n",
    "& & \\frac{c_i^{1-\\gamma_i}}{1-\\gamma_i} + \\beta \\frac{c_i'^{1-\\gamma_i}}{1-\\gamma_i} \\\\\n",
    "& \\text{s.t.}\n",
    "& & c_i  + pa_i \\leq e_0 + pe_a \\\\\n",
    "& & & c_i' \\leq a\\\\\n",
    "\\end{aligned}\n",
    "\\end{equation*}\n",
    "$$\n",
    "\n",
    "Market clearing implies $\\sum c_i = N e_0$ and $\\sum a_i = N e_a$.\n",
    "\n",
    "Assuming the budget constraints bind and substituting for consumption in the maximization, we get a series of $N$ first order conditions for a maximum:\n",
    "\n",
    "$$\n",
    "\\begin{align*}\n",
    "a_i = \\frac{e_0 + pe_a}{\\left ( \\frac{p}{\\beta}\\right )^{-\\frac{1}{\\gamma_i}} + p}\n",
    "\\end{align*}\n",
    "$$\n",
    "\n",
    "substituting into a market clearing condition in asset markets (zero net supply) such that $\\sum_i a_i = Ne_a$, we get a single equation in a single unknown:\n",
    "\n",
    "$$\n",
    "\\begin{align*}\n",
    "\\sum_i\\frac{e_0 + pe_a}{\\left ( \\frac{p}{\\beta}\\right )^{-\\frac{1}{\\gamma_i}} + p} = Ne_a\n",
    "\\end{align*}\n",
    "$$\n",
    "\n",
    "1. Devise a scheme for estimating the value of $p$.\n",
    "\n",
    "2. Write a function using loops to build a vector for the market clearing condition.\n",
    "\n",
    "3. Use a numerical solver to solve the model problem for the asset price.  Try different algorithm choices and see if they all converge.  The price should be $\\beta$, as markets are complete and the asset is risk free.\n",
    "\n",
    "4. Use the definition of asset holdings to define functions for calculating agents' choices.\n",
    "\n",
    "4. Plot the results for assets, consumption, and consumption next period as a function of $\\gamma$.  Note that your choice of the distribution has no effect on this result and the graphs are very boring.\n",
    "\n",
    "5. Re-write your function in a vectorized form.\n",
    "\n",
    "6. Use the `time` module to test the speed up of your function.\n",
    "\n",
    "7. If you finished that and thought, \"Oh man, so easy!\", try solving my problem with the final loop from class, or try adding an autoregressive risk process to the McGratten model."
   ]
  }
 ],
 "metadata": {
  "kernelspec": {
   "display_name": "Python 3",
   "language": "python",
   "name": "python3"
  },
  "language_info": {
   "codemirror_mode": {
    "name": "ipython",
    "version": 3
   },
   "file_extension": ".py",
   "mimetype": "text/x-python",
   "name": "python",
   "nbconvert_exporter": "python",
   "pygments_lexer": "ipython3",
   "version": "3.4.3"
  }
 },
 "nbformat": 4,
 "nbformat_minor": 0
}
