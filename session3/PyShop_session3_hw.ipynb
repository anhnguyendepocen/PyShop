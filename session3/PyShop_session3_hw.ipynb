{
 "cells": [
  {
   "cell_type": "markdown",
   "metadata": {},
   "source": [
    "# PyShop Session 3\n",
    "***\n",
    "Homework to do to review this week:\n",
    "\n",
    "1. Do the exercises in `PyShop_session3_exercises.ipynb` to review todays course.\n",
    "\n",
    "2. Read the notes in 'Pyshop_session3_notes.ipynb'.\n",
    "\n",
    "3. Review the notes on <a href=\"http://www.scipy-lectures.org/advanced/mathematical_optimization/\" target=\"_blank\">Mathematical Optimization</a> from SciPy Lecture Notes.\n",
    "\n",
    "3. Do the lesson on <a href=\"http://quant-econ.net/py/dp_intro.html\" target=\"_blank\">Infinite Horizon Dynamic Programming</a> from Tom Sargent's Quant Econ.\n",
    "\n",
    "\n",
    "Homework to do for next week.\n",
    "\n",
    "1. **Find your `matplotlibrc` file.** <a href=\"http://matplotlib.org/users/customizing.html\" target=\"_blank\">Here's</a> some information on what that it.\n",
    "\n",
    "2. Read the documentation in the<a href=\"http://matplotlib.org/1.4.3/users/beginner.html\" target=\"_blank\">matplotlib Beginner's Guide</a> and in the <a href=\"http://pandas.pydata.org/pandas-docs/stable/10min.html\" target=\"_blank\">10 Minutes to Pandas</a> lesson for next week.\n",
    "\n",
    "3. Check out the lessons for<a href=\"http://quant-econ.net/py/matplotlib.html\" target=\"_blank\">matplotlib</a> and <a href=\"http://quant-econ.net/py/pandas.html\" target=\"_blank\">Pandas</a> from Tom Sargent's course."
   ]
  }
 ],
 "metadata": {
  "colabVersion": "0.1",
  "kernelspec": {
   "display_name": "Python 3",
   "language": "python",
   "name": "python3"
  },
  "language_info": {
   "codemirror_mode": {
    "name": "ipython",
    "version": 3
   },
   "file_extension": ".py",
   "mimetype": "text/x-python",
   "name": "python",
   "nbconvert_exporter": "python",
   "pygments_lexer": "ipython3",
   "version": "3.4.3"
  }
 },
 "nbformat": 4,
 "nbformat_minor": 0
}
