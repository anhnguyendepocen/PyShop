{
 "cells": [
  {
   "cell_type": "markdown",
   "metadata": {},
   "source": [
    "# PyShop Session 2\n",
    "***\n",
    "Homework to do to review this week:\n",
    "\n",
    "1. Do the exercises in `PyShop_session2_exercises.ipynb` to review todays course.\n",
    "\n",
    "2. Read the notes in 'Pyshop_session2_notes.ipynb'.\n",
    "\n",
    "3. Do the <a href=\"http://learnpythonthehardway.org/book/ex19.html\" target=\"_blank\">Functions and Variables</a>, <a href=\"http://learnpythonthehardway.org/book/ex20.html\" target=\"_blank\">Functions and Files</a>, <a href=\"http://learnpythonthehardway.org/book/ex21.html\" target=\"_blank\">Functions Can Return Something</a>, <a href=\"http://learnpythonthehardway.org/book/ex29.html\" target=\"_blank\">What If</a>, <a href=\"http://learnpythonthehardway.org/book/ex30.html\" target=\"_blank\">Else and If</a>, <a href=\"http://learnpythonthehardway.org/book/ex32.html\" target=\"_blank\">Loops and Lists</a>, <a href=\"http://learnpythonthehardway.org/book/ex39.html\" target=\"_blank\">Dictionaries, Oh Lovely Dictionaries</a>, <a href=\"http://learnpythonthehardway.org/book/ex40.html\" target=\"_blank\">Modules, Classes and Lists</a> lessons from Learning Python the Hard Way.\n",
    "\n",
    "\n",
    "Homework to do for next week.\n",
    "\n",
    "1. Read the documentation in the <a href=\"http://docs.scipy.org/doc/numpy/user/index.html\" target=\"_blank\">NumPy Tutorial</a>, in the <a href=\"http://docs.scipy.org/doc/numpy/reference/index.html\" target=\"_blank\">NumPy Reference</a>, and in the <a href=\"http://docs.scipy.org/doc/scipy/reference/\" target=\"_blank\">SciPy Reference</a> for next week.\n",
    "\n",
    "2. Check out the lessons for <a href=\"http://quant-econ.net/py/numpy.html\" target=\"_blank\">NumPy</a> and <a href=\"http://quant-econ.net/py/scipy.html\" target=\"_blank\">SciPy</a> from Tom Sargent's course.\n",
    "\n",
    "3. If you want a head start, read about <a href=\"https://ideas.repec.org/p/fip/fedmsr/164.html\" target=\"_blank\">Finite Elements</a>. "
   ]
  }
 ],
 "metadata": {
  "colabVersion": "0.1",
  "kernelspec": {
   "display_name": "Python 3",
   "language": "python",
   "name": "python3"
  },
  "language_info": {
   "codemirror_mode": {
    "name": "ipython",
    "version": 3
   },
   "file_extension": ".py",
   "mimetype": "text/x-python",
   "name": "python",
   "nbconvert_exporter": "python",
   "pygments_lexer": "ipython3",
   "version": "3.4.3"
  }
 },
 "nbformat": 4,
 "nbformat_minor": 0
}
