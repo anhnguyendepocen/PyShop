{
 "cells": [
  {
   "cell_type": "markdown",
   "metadata": {},
   "source": [
    "# PyShop\n",
    "## Session 2: Examples\n",
    "### Creating NumPy Arrays"
   ]
  },
  {
   "cell_type": "code",
   "execution_count": 1,
   "metadata": {
    "collapsed": false
   },
   "outputs": [
    {
     "name": "stdout",
     "output_type": "stream",
     "text": [
      "[1 2 3]\n",
      "[[ 0.  0.]\n",
      " [ 0.  0.]]\n",
      "[[ 1.  1.]\n",
      " [ 1.  1.]]\n",
      "[[ 1.  0.]\n",
      " [ 0.  1.]]\n"
     ]
    }
   ],
   "source": [
    "import numpy as np\n",
    "\n",
    "x = np.array([1, 2, 3])\n",
    "y = np.zeros((2, 2))\n",
    "z = np.ones((2, 2))\n",
    "a = np.eye((2))\n",
    "\n",
    "print(x)\n",
    "print(y)\n",
    "print(z)\n",
    "print(a)"
   ]
  },
  {
   "cell_type": "code",
   "execution_count": 2,
   "metadata": {
    "collapsed": false
   },
   "outputs": [
    {
     "data": {
      "text/plain": [
       "array([ 1.,  1.])"
      ]
     },
     "execution_count": 2,
     "metadata": {},
     "output_type": "execute_result"
    }
   ],
   "source": [
    "# Be aware of data type.  Numpy only allows one type.\n",
    "np.array([1.0, 1])"
   ]
  },
  {
   "cell_type": "code",
   "execution_count": 3,
   "metadata": {
    "collapsed": false
   },
   "outputs": [
    {
     "name": "stdout",
     "output_type": "stream",
     "text": [
      "14 44 40\n",
      "128 100\n",
      "88 100\n",
      "88 100\n"
     ]
    }
   ],
   "source": [
    "import sys\n",
    "# How big are these things?\n",
    "n = 10\n",
    "print(sys.getsizeof(int(1)), sys.getsizeof(np.array(1)), sys.getsizeof([1]))\n",
    "print(sys.getsizeof(np.ones((n))),\n",
    "      sys.getsizeof([1. for i in range(0, n)]))\n",
    "print(sys.getsizeof(np.ones((n), dtype = np.float32)),\n",
    "      sys.getsizeof([1. for i in range(0, n)]))\n",
    "print(sys.getsizeof(np.ones((n), dtype = np.float32)/2),\n",
    "      sys.getsizeof([1./2 for i in range(0, n)]))"
   ]
  },
  {
   "cell_type": "code",
   "execution_count": null,
   "metadata": {
    "collapsed": true
   },
   "outputs": [],
   "source": [
    "print(sys.getsizeof(np.ones((n), dtype = np.float32)/2),\n",
    "      sys.getsizeof([1./2 for i in range(0, n)]))"
   ]
  },
  {
   "cell_type": "markdown",
   "metadata": {},
   "source": [
    "#### Looks like Python 3 solved the problem I had of variable size list objects!!  Hooray!"
   ]
  },
  {
   "cell_type": "code",
   "execution_count": 5,
   "metadata": {
    "collapsed": false
   },
   "outputs": [
    {
     "name": "stdout",
     "output_type": "stream",
     "text": [
      "800080\n"
     ]
    }
   ],
   "source": [
    "# Dimensions are important!  Be careful how big the arrays get\n",
    "dims = 5\n",
    "D = 10.\n",
    "print(sys.getsizeof(np.ones(([D for i in range(0, dims)]))))"
   ]
  },
  {
   "cell_type": "markdown",
   "metadata": {},
   "source": [
    "### Indexing NumPy Arrays"
   ]
  },
  {
   "cell_type": "code",
   "execution_count": 6,
   "metadata": {
    "collapsed": false
   },
   "outputs": [
    {
     "name": "stdout",
     "output_type": "stream",
     "text": [
      "[[ 1.  0.]\n",
      " [ 0.  1.]]\n"
     ]
    }
   ],
   "source": [
    "a = np.eye(2)\n",
    "print(a)"
   ]
  },
  {
   "cell_type": "code",
   "execution_count": 7,
   "metadata": {
    "collapsed": false
   },
   "outputs": [
    {
     "data": {
      "text/plain": [
       "1.0"
      ]
     },
     "execution_count": 7,
     "metadata": {},
     "output_type": "execute_result"
    }
   ],
   "source": [
    "# Referencing a single entry\n",
    "a[0, 0]"
   ]
  },
  {
   "cell_type": "code",
   "execution_count": 8,
   "metadata": {
    "collapsed": false
   },
   "outputs": [
    {
     "name": "stdout",
     "output_type": "stream",
     "text": [
      "[[ 2.  0.]\n",
      " [ 0.  1.]]\n"
     ]
    }
   ],
   "source": [
    "# Assignment\n",
    "a[0, 0] = 2\n",
    "print(a)"
   ]
  },
  {
   "cell_type": "code",
   "execution_count": 9,
   "metadata": {
    "collapsed": false
   },
   "outputs": [
    {
     "name": "stdout",
     "output_type": "stream",
     "text": [
      "[ 2.  0.]\n",
      "[ 0.  1.]\n"
     ]
    }
   ],
   "source": [
    "# Also supports slicing\n",
    "print(a[0, :])\n",
    "print(a[1, :])"
   ]
  },
  {
   "cell_type": "markdown",
   "metadata": {},
   "source": [
    "### Pointers and Copies"
   ]
  },
  {
   "cell_type": "code",
   "execution_count": 10,
   "metadata": {
    "collapsed": false
   },
   "outputs": [
    {
     "name": "stdout",
     "output_type": "stream",
     "text": [
      "[[ 1.  0.]\n",
      " [ 0.  1.]]\n",
      "[[ 1.  0.]\n",
      " [ 0.  1.]]\n"
     ]
    }
   ],
   "source": [
    "# Equality creates a view\n",
    "a = np.eye(2)\n",
    "b = a\n",
    "print(a)\n",
    "print(b)"
   ]
  },
  {
   "cell_type": "code",
   "execution_count": 11,
   "metadata": {
    "collapsed": false
   },
   "outputs": [
    {
     "name": "stdout",
     "output_type": "stream",
     "text": [
      "[[ 0.  0.]\n",
      " [ 0.  1.]]\n",
      "[[ 0.  0.]\n",
      " [ 0.  1.]]\n"
     ]
    }
   ],
   "source": [
    "# Assigning then changes original.  View references this\n",
    "a[0, 0] = 0\n",
    "print(a)\n",
    "print(b)"
   ]
  },
  {
   "cell_type": "code",
   "execution_count": 12,
   "metadata": {
    "collapsed": false
   },
   "outputs": [
    {
     "name": "stdout",
     "output_type": "stream",
     "text": [
      "[[ 1.  0.]\n",
      " [ 0.  1.]]\n",
      "[[ 1.  0.]\n",
      " [ 0.  1.]]\n",
      "[[ 1.  0.]\n",
      " [ 0.  1.]]\n"
     ]
    }
   ],
   "source": [
    "# If you need a copy, be explicit\n",
    "a = np.eye(2)\n",
    "b[:] = a\n",
    "c = a.copy()\n",
    "print(a)\n",
    "print(b)\n",
    "print(c)"
   ]
  },
  {
   "cell_type": "code",
   "execution_count": 13,
   "metadata": {
    "collapsed": false
   },
   "outputs": [
    {
     "name": "stdout",
     "output_type": "stream",
     "text": [
      "[[ 0.  0.]\n",
      " [ 0.  1.]]\n",
      "[[ 1.  0.]\n",
      " [ 0.  1.]]\n",
      "[[ 1.  0.]\n",
      " [ 0.  1.]]\n"
     ]
    }
   ],
   "source": [
    "a[0, 0] = 0\n",
    "print(a)\n",
    "print(b)\n",
    "print(c)"
   ]
  },
  {
   "cell_type": "markdown",
   "metadata": {},
   "source": [
    "### Broadcasting and Array Operations"
   ]
  },
  {
   "cell_type": "code",
   "execution_count": 14,
   "metadata": {
    "collapsed": false
   },
   "outputs": [
    {
     "name": "stdout",
     "output_type": "stream",
     "text": [
      "[[ 1.  0.]\n",
      " [ 0.  1.]]\n"
     ]
    }
   ],
   "source": [
    "a = np.eye(2)\n",
    "b = np.eye(2)\n",
    "c = 2\n",
    "\n",
    "#Multiplicaiton is done elementwise\n",
    "print(a * b)"
   ]
  },
  {
   "cell_type": "code",
   "execution_count": 15,
   "metadata": {
    "collapsed": false
   },
   "outputs": [
    {
     "name": "stdout",
     "output_type": "stream",
     "text": [
      "[[ 2.  0.]\n",
      " [ 0.  2.]]\n"
     ]
    }
   ],
   "source": [
    "#Scalar multiplcation is broadcast\n",
    "print(a * c)"
   ]
  },
  {
   "cell_type": "code",
   "execution_count": 16,
   "metadata": {
    "collapsed": false
   },
   "outputs": [
    {
     "name": "stdout",
     "output_type": "stream",
     "text": [
      "[[ 3.  2.]\n",
      " [ 2.  3.]]\n"
     ]
    }
   ],
   "source": [
    "# Scalar addition is broadcast in the same way\n",
    "print(a + c)"
   ]
  },
  {
   "cell_type": "code",
   "execution_count": 19,
   "metadata": {
    "collapsed": true
   },
   "outputs": [],
   "source": [
    "# Some arrays to broadcast\n",
    "d = np.array([1, 2])\n",
    "e = np.vstack((a, np.zeros(2)))\n",
    "f = np.array([[1, 2], [3, 4]])"
   ]
  },
  {
   "cell_type": "code",
   "execution_count": 20,
   "metadata": {
    "collapsed": false
   },
   "outputs": [
    {
     "name": "stdout",
     "output_type": "stream",
     "text": [
      "[1 2] [[ 1.  0.]\n",
      " [ 0.  1.]\n",
      " [ 0.  0.]] [[1 2]\n",
      " [3 4]]\n"
     ]
    }
   ],
   "source": [
    "print(d,e,f)"
   ]
  },
  {
   "cell_type": "code",
   "execution_count": 21,
   "metadata": {
    "collapsed": false
   },
   "outputs": [
    {
     "name": "stdout",
     "output_type": "stream",
     "text": [
      "(3, 2)\n",
      "[[ 1.  0.]\n",
      " [ 0.  1.]\n",
      " [ 0.  0.]]\n",
      "(2,)\n",
      "[1 2]\n",
      "[[ 2.  2.]\n",
      " [ 1.  3.]\n",
      " [ 1.  2.]]\n"
     ]
    },
    {
     "ename": "ValueError",
     "evalue": "operands could not be broadcast together with shapes (3,2) (2,2) ",
     "output_type": "error",
     "traceback": [
      "\u001b[1;31m---------------------------------------------------------------------------\u001b[0m",
      "\u001b[1;31mValueError\u001b[0m                                Traceback (most recent call last)",
      "\u001b[1;32m<ipython-input-21-e6a26d87f6ae>\u001b[0m in \u001b[0;36m<module>\u001b[1;34m()\u001b[0m\n\u001b[0;32m      5\u001b[0m \u001b[0mprint\u001b[0m\u001b[1;33m(\u001b[0m\u001b[0md\u001b[0m\u001b[1;33m)\u001b[0m\u001b[1;33m\u001b[0m\u001b[0m\n\u001b[0;32m      6\u001b[0m \u001b[0mprint\u001b[0m\u001b[1;33m(\u001b[0m\u001b[0md\u001b[0m \u001b[1;33m+\u001b[0m \u001b[0me\u001b[0m\u001b[1;33m)\u001b[0m\u001b[1;33m\u001b[0m\u001b[0m\n\u001b[1;32m----> 7\u001b[1;33m \u001b[0mprint\u001b[0m\u001b[1;33m(\u001b[0m\u001b[0me\u001b[0m \u001b[1;33m+\u001b[0m \u001b[0ma\u001b[0m\u001b[1;33m)\u001b[0m\u001b[1;33m\u001b[0m\u001b[0m\n\u001b[0m",
      "\u001b[1;31mValueError\u001b[0m: operands could not be broadcast together with shapes (3,2) (2,2) "
     ]
    }
   ],
   "source": [
    "# Required that all of the dimensions either match or equal one\n",
    "print(e.shape)\n",
    "print(e)\n",
    "print(d.shape)\n",
    "print(d)\n",
    "print(d + e)\n",
    "print(e + a)"
   ]
  },
  {
   "cell_type": "code",
   "execution_count": 22,
   "metadata": {
    "collapsed": false
   },
   "outputs": [
    {
     "name": "stdout",
     "output_type": "stream",
     "text": [
      "[1 2]\n",
      "[[ 1.  0.]\n",
      " [ 0.  1.]\n",
      " [ 0.  0.]]\n",
      "[[ 2.  2.]\n",
      " [ 1.  3.]\n",
      " [ 1.  2.]]\n"
     ]
    }
   ],
   "source": [
    "# Notice the duplication along the smallest axis\n",
    "print(d)\n",
    "print(e)\n",
    "print(d + e)"
   ]
  },
  {
   "cell_type": "code",
   "execution_count": 23,
   "metadata": {
    "collapsed": false
   },
   "outputs": [
    {
     "name": "stdout",
     "output_type": "stream",
     "text": [
      "(2,)\n",
      "[ True  True]\n"
     ]
    }
   ],
   "source": [
    "# A one d array is neither column nor row\n",
    "# This means the broadcasting rule seems ambiguous\n",
    "print(d.shape)\n",
    "print(d == d.T)"
   ]
  },
  {
   "cell_type": "code",
   "execution_count": 25,
   "metadata": {
    "collapsed": false
   },
   "outputs": [
    {
     "name": "stdout",
     "output_type": "stream",
     "text": [
      "[[ 2.  1.]\n",
      " [ 1.  2.]]\n"
     ]
    }
   ],
   "source": [
    "d = np.array([1., 1.])\n",
    "print(a + d)"
   ]
  },
  {
   "cell_type": "code",
   "execution_count": 26,
   "metadata": {
    "collapsed": false
   },
   "outputs": [
    {
     "name": "stdout",
     "output_type": "stream",
     "text": [
      "(2, 2)\n",
      "[[1 2]\n",
      " [3 4]]\n",
      "(2,)\n",
      "[ 1.  1.]\n",
      "[[ 2.  3.]\n",
      " [ 4.  5.]]\n",
      "[[ 2.  3.]\n",
      " [ 4.  5.]]\n"
     ]
    }
   ],
   "source": [
    "# Broadcasting rules move along the first matching axis FROM THE RIGHT\n",
    "print(f.shape)\n",
    "print(f)\n",
    "print(d.shape)\n",
    "print(d)\n",
    "print(f + d)\n",
    "print(f + d.T)"
   ]
  },
  {
   "cell_type": "code",
   "execution_count": 27,
   "metadata": {
    "collapsed": false
   },
   "outputs": [
    {
     "name": "stdout",
     "output_type": "stream",
     "text": [
      "(2, 1)\n",
      "[[ 2.  3.]\n",
      " [ 4.  5.]]\n"
     ]
    }
   ],
   "source": [
    "# You can change this by adding a new axis\n",
    "# This helps to be specific about shape\n",
    "print(d[:, np.newaxis].shape)\n",
    "print(f + d[:, np.newaxis])"
   ]
  },
  {
   "cell_type": "markdown",
   "metadata": {},
   "source": [
    "### Why do I care?"
   ]
  },
  {
   "cell_type": "code",
   "execution_count": 36,
   "metadata": {
    "collapsed": false
   },
   "outputs": [
    {
     "name": "stdout",
     "output_type": "stream",
     "text": [
      "Process executed in : 0.0020112991333007812 : seconds.\n"
     ]
    }
   ],
   "source": [
    "import time\n",
    "\n",
    "length = 10\n",
    "\n",
    "a = [i for i in range(0, length)]\n",
    "b = [i for i in range(0, length)]\n",
    "c = []\n",
    "\n",
    "t0 = time.time()\n",
    "\n",
    "for i in range(len(a)):\n",
    "  c.append(a[i]*b[i])\n",
    "\n",
    "t1 = time.time()\n",
    "print(\"Process executed in : %s : seconds.\" %(t1 - t0))"
   ]
  },
  {
   "cell_type": "code",
   "execution_count": 37,
   "metadata": {
    "collapsed": false
   },
   "outputs": [
    {
     "data": {
      "text/plain": [
       "[0, 1, 2, 3, 4, 5, 6, 7, 8, 9]"
      ]
     },
     "execution_count": 37,
     "metadata": {},
     "output_type": "execute_result"
    }
   ],
   "source": [
    "a"
   ]
  },
  {
   "cell_type": "code",
   "execution_count": 43,
   "metadata": {
    "collapsed": false
   },
   "outputs": [
    {
     "name": "stdout",
     "output_type": "stream",
     "text": [
      "Process executed in : 0.0015246868133544922 : seconds.\n"
     ]
    }
   ],
   "source": [
    "a = np.arange(0, length).reshape(10,1)\n",
    "b = np.arange(0, length)\n",
    "\n",
    "t0 = time.time()\n",
    "\n",
    "C = a * b\n",
    "\n",
    "t1 = time.time()\n",
    "print(\"Process executed in : %s : seconds.\" %(t1 - t0))"
   ]
  },
  {
   "cell_type": "code",
   "execution_count": 44,
   "metadata": {
    "collapsed": false
   },
   "outputs": [
    {
     "data": {
      "text/plain": [
       "array([[0],\n",
       "       [1],\n",
       "       [2],\n",
       "       [3],\n",
       "       [4],\n",
       "       [5],\n",
       "       [6],\n",
       "       [7],\n",
       "       [8],\n",
       "       [9]])"
      ]
     },
     "execution_count": 44,
     "metadata": {},
     "output_type": "execute_result"
    }
   ],
   "source": [
    "a"
   ]
  },
  {
   "cell_type": "code",
   "execution_count": 42,
   "metadata": {
    "collapsed": false
   },
   "outputs": [
    {
     "data": {
      "text/plain": [
       "(10, 1)"
      ]
     },
     "execution_count": 42,
     "metadata": {},
     "output_type": "execute_result"
    }
   ],
   "source": [
    "a[:, np.newaxis].shape"
   ]
  },
  {
   "cell_type": "markdown",
   "metadata": {},
   "source": [
    "### Integration\n",
    "\n",
    "Example:\n",
    "\n",
    "$$\n",
    "\\int_{0}^{\\infty} ke^{-kx}dx\n",
    "$$"
   ]
  },
  {
   "cell_type": "code",
   "execution_count": 45,
   "metadata": {
    "collapsed": false
   },
   "outputs": [
    {
     "data": {
      "text/plain": [
       "(1.0000000000000002, 5.842606742906004e-11)"
      ]
     },
     "execution_count": 45,
     "metadata": {},
     "output_type": "execute_result"
    }
   ],
   "source": [
    "import scipy.integrate\n",
    "\n",
    "def integrand(x, k):\n",
    "    return k*np.exp(-k*x)\n",
    "\n",
    "k = 1.0\n",
    "scipy.integrate.quad(integrand, 0, np.inf, args = (k))"
   ]
  },
  {
   "cell_type": "code",
   "execution_count": 46,
   "metadata": {
    "collapsed": false
   },
   "outputs": [
    {
     "data": {
      "text/plain": [
       "(1.0000000000000002, 5.842606742906004e-11)"
      ]
     },
     "execution_count": 46,
     "metadata": {},
     "output_type": "execute_result"
    }
   ],
   "source": [
    "# Note: it is unclear what quadrature rule is used here\n",
    "scipy.integrate.quad(lambda x: k*np.exp(-k*x), 0, np.inf)"
   ]
  },
  {
   "cell_type": "markdown",
   "metadata": {},
   "source": [
    "### Unconstrained Optimization\n",
    "\n",
    "Methods:\n",
    "\n",
    "1. \"Downhill simplex method\".  Generates a simplex of dimension n+1 and then uses a simple algorithm (similar to a bisection algorithm) to find local optima.\n",
    "\n",
    "2. \"Broyden-Fletcher-Goldfarb-Shanno Algorithm\".  Considered a \"quasi-newton\" method.  A newton step would calculate the hessian directly, where quasi-newton methods approximate it in some way.  \n",
    "\n",
    "3. \"Powell's Conjugate Direction Method\". A sort of combination of steps in the taxi-cab method.  Instead of searching only along a single vecor, take a linear combination of the gradients.\n",
    "\n",
    "4. \"Conjugate Gradient Method\".  Most useful for sparse, linear systems.  You'll notice here it is unsuccessful."
   ]
  },
  {
   "cell_type": "code",
   "execution_count": 47,
   "metadata": {
    "collapsed": false
   },
   "outputs": [
    {
     "name": "stdout",
     "output_type": "stream",
     "text": [
      "\n",
      "Process executed in : 0.04545426368713379 : seconds.\n",
      "\n",
      "       x: array([ 0.99998529,  0.99997065])\n",
      " message: 'Optimization terminated successfully.'\n",
      "    nfev: 158\n",
      "  status: 0\n",
      "     nit: 84\n",
      "     fun: 2.1717765323851955e-10\n",
      " success: True\n",
      "\n",
      "Process executed in : 0.046898841857910156 : seconds.\n",
      "\n",
      "        x: array([ 0.9999955,  0.999991 ])\n",
      "     njev: 29\n",
      "      jac: array([  1.47687684e-06,  -7.56666863e-07])\n",
      "     nfev: 116\n",
      "   status: 0\n",
      "      fun: 2.022655100500386e-11\n",
      "      nit: 21\n",
      "  success: True\n",
      "  message: 'Optimization terminated successfully.'\n",
      " hess_inv: array([[ 0.49587577,  0.99095821],\n",
      "       [ 0.99095821,  1.98516622]])\n",
      "\n",
      "Process executed in : 0.09585809707641602 : seconds. \n",
      "\n",
      "       x: array([ 1.,  1.])\n",
      "    nfev: 564\n",
      "  status: 0\n",
      "     nit: 20\n",
      " success: True\n",
      " message: 'Optimization terminated successfully.'\n",
      "     fun: 3.0798904676865048e-26\n",
      "   direc: array([[ -4.93584446e-02,  -9.77519184e-02],\n",
      "       [  1.40763803e-07,   3.48461380e-07]])\n",
      "\n",
      "Process executed in : 0.01332998275756836 : seconds. \n",
      "\n",
      "       x: array([ 1.66917239,  3.08250065])\n",
      "    njev: 7\n",
      "     jac: array([-196.53479326,   59.27283466])\n",
      "    nfev: 40\n",
      "  status: 2\n",
      "     nit: 1\n",
      " success: False\n",
      " message: 'Desired error not necessarily achieved due to precision loss.'\n",
      "     fun: 9.230963535642681\n"
     ]
    }
   ],
   "source": [
    "import scipy.optimize\n",
    "import time\n",
    "\n",
    "def rosenbrock(x, a, b):\n",
    "    return (a - x[0])**2 + b*(x[1] - x[0]**2)**2\n",
    "\n",
    "a = 1.\n",
    "b = 100.\n",
    "\n",
    "x0 = np.array([2., 3.])\n",
    "\n",
    "t0 = time.time()\n",
    "res = scipy.optimize.minimize(rosenbrock, x0, args=(a, b), method='Nelder-Mead')\n",
    "t1 = time.time()\n",
    "print(\"\\nProcess executed in : %s : seconds.\\n\" %(t1 - t0))\n",
    "print(res)\n",
    "\n",
    "t0 = time.time()\n",
    "res = scipy.optimize.minimize(rosenbrock, x0, args=(a, b), method='BFGS')\n",
    "t1 = time.time()\n",
    "print(\"\\nProcess executed in : %s : seconds.\\n\" %(t1 - t0))\n",
    "print(res)\n",
    "\n",
    "t0 = time.time()\n",
    "res = scipy.optimize.minimize(rosenbrock, x0, args=(a, b), method='Powell')\n",
    "t1 = time.time()\n",
    "print(\"\\nProcess executed in : %s : seconds. \\n\" %(t1 - t0))\n",
    "print(res)\n",
    "\n",
    "t0 = time.time()\n",
    "res = scipy.optimize.minimize(rosenbrock, x0, args=(a, b), method='CG')\n",
    "t1 = time.time()\n",
    "print(\"\\nProcess executed in : %s : seconds. \\n\" %(t1 - t0))\n",
    "print(res)"
   ]
  },
  {
   "cell_type": "markdown",
   "metadata": {},
   "source": [
    "### Root Finding\n",
    "\n",
    "Methods:\n",
    "\n",
    "1. \"Hybrid\".  From MINPACK, essentially a modified Powell method.\n",
    "\n",
    "2. \"Broyden's Method\".  A quasi-newton method for multidimensional root finding.  Calculate the jacobian only once, then do an update each iteration.\n",
    "\n",
    "3. \"Anderson Mixing\".  A quasi-newton method.  Approximate the jacobian by the \"best\" solution in the space spanned by the last M vectors... whatever that means!\n",
    "\n",
    "4. \"Linear Mixing\".  Similar to Anderson method.\n",
    "\n",
    "5. \"Krylov Methods\".  Approximate the jacobian by a spanning basis of the krylov space.  Very neat."
   ]
  },
  {
   "cell_type": "code",
   "execution_count": 48,
   "metadata": {
    "collapsed": false
   },
   "outputs": [
    {
     "name": "stdout",
     "output_type": "stream",
     "text": [
      "\n",
      "Process executed in : 0.00789642333984375 : seconds. \n",
      "\n",
      "       x: array([ 1.,  1.])\n",
      "     qtf: array([  4.43734258e-29,  -2.81227533e-33])\n",
      "    nfev: 90\n",
      "  status: 1\n",
      "     fun: array([  0.00000000e+00,   1.10933565e-29])\n",
      " success: True\n",
      "       r: array([  1.57784785e+04,  -2.68667616e-13,   1.00571850e-17])\n",
      " message: 'The solution converged.'\n",
      "    fjac: array([[ -6.33774668e-05,   9.99999998e-01],\n",
      "       [ -9.99999998e-01,  -6.33774668e-05]])\n",
      "\n",
      "Process executed in : 1.042186975479126 : seconds. \n",
      "\n",
      "       x: array([  9.90012725,  98.01898469])\n",
      " message: 'The maximum number of iterations allowed has been reached.'\n",
      "     fun: array([ -8.90012725e+00,   4.17982042e-03])\n",
      "     nit: 300\n",
      "  status: 2\n",
      " success: False\n",
      "\n",
      "Process executed in : 1.451967477798462 : seconds. \n",
      "\n",
      "       x: array([  -289.79875445,  83985.3460786 ])\n",
      " message: 'The maximum number of iterations allowed has been reached.'\n",
      "     fun: array([ 290.79875445,  411.27841135])\n",
      "     nit: 300\n",
      "  status: 2\n",
      " success: False\n",
      "\n",
      "Process executed in : 0.6577284336090088 : seconds. \n",
      "\n",
      "       x: array([  9.98567635,  93.96805614])\n",
      " message: 'The maximum number of iterations allowed has been reached.'\n",
      "     fun: array([   -8.98567635,  3301.2793653 ])\n",
      "     nit: 300\n",
      "  status: 2\n",
      " success: False\n",
      "\n",
      "Process executed in : 2.3061702251434326 : seconds. \n",
      "\n",
      "       x: array([  9.99907396,  99.78412761])\n",
      " message: 'The maximum number of iterations allowed has been reached.'\n",
      "     fun: array([-8.99907396,  3.89479981])\n",
      "     nit: 300\n",
      "  status: 2\n",
      " success: False\n"
     ]
    }
   ],
   "source": [
    "def f(x, a, b):\n",
    "    return np.array([a*(1 - x[0]), b*(x[1] - x[0]**2)**2])\n",
    "\n",
    "a = 1.\n",
    "b = 100.\n",
    "x0 = np.array([10., 2.])\n",
    "\n",
    "t0 = time.time()\n",
    "sol = scipy.optimize.root(f, x0, args=(a, b), method='hybr')\n",
    "t1 = time.time()\n",
    "print(\"\\nProcess executed in : %s : seconds. \\n\" %(t1 - t0))\n",
    "print(sol)\n",
    "\n",
    "t0 = time.time()\n",
    "sol = scipy.optimize.root(f, x0, args=(a, b), method='broyden1')\n",
    "t1 = time.time()\n",
    "print(\"\\nProcess executed in : %s : seconds. \\n\" %(t1 - t0))\n",
    "print(sol)\n",
    "\n",
    "t0 = time.time()\n",
    "sol = scipy.optimize.root(f, x0, args=(a, b), method='anderson')\n",
    "t1 = time.time()\n",
    "print(\"\\nProcess executed in : %s : seconds. \\n\" %(t1 - t0))\n",
    "print(sol)\n",
    "\n",
    "t0 = time.time()\n",
    "sol = scipy.optimize.root(f, x0, args=(a, b), method='linearmixing')\n",
    "t1 = time.time()\n",
    "print(\"\\nProcess executed in : %s : seconds. \\n\" %(t1 - t0))\n",
    "print(sol)\n",
    "\n",
    "t0 = time.time()\n",
    "sol = scipy.optimize.root(f, x0, args=(a, b), method='krylov')\n",
    "t1 = time.time()\n",
    "print(\"\\nProcess executed in : %s : seconds. \\n\" %(t1 - t0))\n",
    "print(sol)"
   ]
  },
  {
   "cell_type": "markdown",
   "metadata": {},
   "source": [
    "### Simple Plotting"
   ]
  },
  {
   "cell_type": "code",
   "execution_count": 49,
   "metadata": {
    "collapsed": false
   },
   "outputs": [
    {
     "name": "stderr",
     "output_type": "stream",
     "text": [
      "/home/pi/env/lib/python3.4/site-packages/IPython/kernel/__init__.py:13: ShimWarning: The `IPython.kernel` package has been deprecated. You should import from ipykernel or jupyter_client instead.\n",
      "  \"You should import from ipykernel or jupyter_client instead.\", ShimWarning)\n"
     ]
    },
    {
     "data": {
      "image/png": "[encoded data removed]",
      "text/plain": [
       "<matplotlib.figure.Figure at 0x70af2970>"
      ]
     },
     "metadata": {},
     "output_type": "display_data"
    }
   ],
   "source": [
    "import matplotlib.pyplot as plt\n",
    "%matplotlib inline\n",
    "\n",
    "x = np.arange(0, np.pi, 0.01)\n",
    "y = np.cos(x)\n",
    "plt.plot(x, y)\n",
    "plt.show()"
   ]
  },
  {
   "cell_type": "markdown",
   "metadata": {},
   "source": [
    "### Modifying Plot Attributes"
   ]
  },
  {
   "cell_type": "code",
   "execution_count": 55,
   "metadata": {
    "collapsed": false
   },
   "outputs": [
    {
     "data": {
      "image/png": "[encoded data removed]",
      "text/plain": [
       "<matplotlib.figure.Figure at 0x6f875250>"
      ]
     },
     "metadata": {},
     "output_type": "display_data"
    }
   ],
   "source": [
    "x = np.arange(0, np.pi, 0.01)\n",
    "y = np.cos(x)\n",
    "plt.plot(x, y)\n",
    "\n",
    "#Add axis labels\n",
    "plt.xlabel('Lunch Seminars Per Week')\n",
    "plt.ylabel('Marginal Productivity of Doctoral Students')\n",
    "\n",
    "#Add title\n",
    "plt.title(\"Marginal Productivity of Doctoral\\n\"\n",
    "          + \"Students as a Function\\n\"\n",
    "          + \" of Lunch Seminars Per Week\")\n",
    "\n",
    "#Add emphasis to important points\n",
    "points = np.array([1.0, 2.5])\n",
    "plt.plot(points, np.cos(points), 'ro')\n",
    "\n",
    "#Add a label and legend to the points\n",
    "plt.plot(points, np.cos(points), 'o', label='Nap Thresholds')\n",
    "#plt.legend()\n",
    "\n",
    "#But the legend is poorly placed, so move it to a better spot\n",
    "plt.legend(loc=2)\n",
    "\n",
    "plt.show()"
   ]
  },
  {
   "cell_type": "markdown",
   "metadata": {},
   "source": [
    "### Subplot Objects"
   ]
  },
  {
   "cell_type": "code",
   "execution_count": 56,
   "metadata": {
    "collapsed": false
   },
   "outputs": [
    {
     "data": {
      "image/png": "[encoded data removed]",
      "text/plain": [
       "<matplotlib.figure.Figure at 0x6f8bc650>"
      ]
     },
     "metadata": {},
     "output_type": "display_data"
    }
   ],
   "source": [
    "x = np.arange(0, 10, 0.1)\n",
    "f = lambda x: np.cos(x)\n",
    "g = lambda x: np.sin(x)\n",
    "h = lambda x: x**2\n",
    "i = lambda x: np.log(x + 0.00001)\n",
    "\n",
    "#Create the figure and axes objects. sharex and sharey allow them to share axes\n",
    "fig, ((ax1, ax2), (ax3, ax4)) = plt.subplots(2, 2)\n",
    "\n",
    "#Plot on the first axes object. Notice, you can plot several times on the same object\n",
    "ax1.plot(x, f(x))\n",
    "ax1.plot(x, g(x))\n",
    "\n",
    "#Plot on the second axes object\n",
    "ax2.plot(x, f(x)*g(x))\n",
    "\n",
    "#Plot on the second axes object\n",
    "ax3.plot(x, h(x))\n",
    "\n",
    "#Plot on the second axes object\n",
    "ax4.plot(x, i(x))\n",
    "\n",
    "plt.show()"
   ]
  },
  {
   "cell_type": "markdown",
   "metadata": {},
   "source": [
    "### 3D Plotting"
   ]
  },
  {
   "cell_type": "code",
   "execution_count": null,
   "metadata": {
    "collapsed": false
   },
   "outputs": [],
   "source": [
    "%matplotlib qt"
   ]
  },
  {
   "cell_type": "code",
   "execution_count": null,
   "metadata": {
    "collapsed": true
   },
   "outputs": [],
   "source": [
    "%matplotlib inline"
   ]
  },
  {
   "cell_type": "code",
   "execution_count": 57,
   "metadata": {
    "collapsed": false
   },
   "outputs": [
    {
     "name": "stderr",
     "output_type": "stream",
     "text": [
      "/home/pi/env/lib/python3.4/site-packages/matplotlib/collections.py:590: FutureWarning: elementwise comparison failed; returning scalar instead, but in the future will perform elementwise comparison\n",
      "  if self._edgecolors == str('face'):\n",
      "/home/pi/env/lib/python3.4/site-packages/matplotlib/collections.py:650: FutureWarning: elementwise comparison failed; returning scalar instead, but in the future will perform elementwise comparison\n",
      "  if self._edgecolors_original != str('face'):\n"
     ]
    },
    {
     "data": {
      "image/png": "[encoded data removed]",
      "text/plain": [
       "<matplotlib.figure.Figure at 0x6fa32cd0>"
      ]
     },
     "metadata": {},
     "output_type": "display_data"
    }
   ],
   "source": [
    "from mpl_toolkits.mplot3d import Axes3D\n",
    "\n",
    "def U(c1, c2, beta, gamma):\n",
    "    return c1**(1 - gamma)/(1 - gamma) + beta*c2**(1 - gamma)/(1 - gamma)\n",
    "\n",
    "beta = 0.98\n",
    "gamma = 2.0\n",
    "\n",
    "fig = plt.figure()\n",
    "ax = fig.gca(projection=\"3d\")\n",
    "\n",
    "low = 1.0\n",
    "high = 10.0\n",
    "\n",
    "c1, c2 = np.arange(low, high, 0.1), np.arange(low, high, 0.1)\n",
    "#c2 = np.arange(low, high, 0.1)\n",
    "\n",
    "C1, C2 = np.meshgrid(c1, c2)\n",
    "\n",
    "utils = U(C1, C2, beta, gamma)\n",
    "\n",
    "ax.plot_surface(C1, C2, utils, alpha=0.3)\n",
    "cset = ax.contour(C1, C2, utils, zdir='z', offset=-2.0)\n",
    "#cset = ax.contour(C1, C2, utils, zdir='y', offset=10.0)\n",
    "#cset = ax.contour(C1, C2, utils, zdir='x', offset=1.0)\n",
    "\n",
    "plt.show()"
   ]
  },
  {
   "cell_type": "markdown",
   "metadata": {},
   "source": [
    "### DataFrames"
   ]
  },
  {
   "cell_type": "code",
   "execution_count": 60,
   "metadata": {
    "collapsed": false
   },
   "outputs": [],
   "source": [
    "import pandas as pd\n",
    "\n",
    "DF = pd.read_csv('http://people.stern.nyu.edu/wgreene/Econometrics/gasoline.csv')"
   ]
  },
  {
   "cell_type": "code",
   "execution_count": 61,
   "metadata": {
    "collapsed": false
   },
   "outputs": [
    {
     "name": "stdout",
     "output_type": "stream",
     "text": [
      "   YEAR  GASEXP    GASQ    GASP  GASCPIU  PCINCOME   PNC   PUC   PPT    PD  \\\n",
      "0  1953     7.4  25.415  16.668     21.2      8802  47.2  26.7  16.8  37.7   \n",
      "1  1954     7.8  26.223  17.029     21.8      8757  46.5  22.7  18.0  36.8   \n",
      "2  1955     8.6  28.505  17.210     22.1      9177  44.8  21.5  18.5  36.1   \n",
      "3  1956     9.4  30.229  17.729     22.8      9450  46.1  20.7  19.2  36.1   \n",
      "4  1957    10.2  31.393  18.497     23.8      9508  48.5  23.2  19.9  37.2   \n",
      "\n",
      "     PN    PS     POP         G        PG         Y  \n",
      "0  29.7  19.4  159565  2.768058  2.813491  9.082734  \n",
      "1  29.7  20.0  162391  2.781800  2.834918  9.077609  \n",
      "2  29.5  20.4  165275  2.847639  2.845491  9.124456  \n",
      "3  29.9  20.9  168221  2.888693  2.875202  9.153770  \n",
      "4  30.9  21.8  171274  2.908491  2.917609  9.159889  \n"
     ]
    },
    {
     "data": {
      "text/html": [
       "<div>\n",
       "<table border=\"1\" class=\"dataframe\">\n",
       "  <thead>\n",
       "    <tr style=\"text-align: right;\">\n",
       "      <th></th>\n",
       "      <th>YEAR</th>\n",
       "      <th>GASEXP</th>\n",
       "      <th>GASQ</th>\n",
       "      <th>GASP</th>\n",
       "      <th>GASCPIU</th>\n",
       "      <th>PCINCOME</th>\n",
       "      <th>PNC</th>\n",
       "      <th>PUC</th>\n",
       "      <th>PPT</th>\n",
       "      <th>PD</th>\n",
       "      <th>PN</th>\n",
       "      <th>PS</th>\n",
       "      <th>POP</th>\n",
       "      <th>G</th>\n",
       "      <th>PG</th>\n",
       "      <th>Y</th>\n",
       "    </tr>\n",
       "  </thead>\n",
       "  <tbody>\n",
       "    <tr>\n",
       "      <th>0</th>\n",
       "      <td>1953</td>\n",
       "      <td>7.4</td>\n",
       "      <td>25.415</td>\n",
       "      <td>16.668</td>\n",
       "      <td>21.2</td>\n",
       "      <td>8802</td>\n",
       "      <td>47.2</td>\n",
       "      <td>26.7</td>\n",
       "      <td>16.8</td>\n",
       "      <td>37.7</td>\n",
       "      <td>29.7</td>\n",
       "      <td>19.4</td>\n",
       "      <td>159565</td>\n",
       "      <td>2.768058</td>\n",
       "      <td>2.813491</td>\n",
       "      <td>9.082734</td>\n",
       "    </tr>\n",
       "    <tr>\n",
       "      <th>1</th>\n",
       "      <td>1954</td>\n",
       "      <td>7.8</td>\n",
       "      <td>26.223</td>\n",
       "      <td>17.029</td>\n",
       "      <td>21.8</td>\n",
       "      <td>8757</td>\n",
       "      <td>46.5</td>\n",
       "      <td>22.7</td>\n",
       "      <td>18.0</td>\n",
       "      <td>36.8</td>\n",
       "      <td>29.7</td>\n",
       "      <td>20.0</td>\n",
       "      <td>162391</td>\n",
       "      <td>2.781800</td>\n",
       "      <td>2.834918</td>\n",
       "      <td>9.077609</td>\n",
       "    </tr>\n",
       "    <tr>\n",
       "      <th>2</th>\n",
       "      <td>1955</td>\n",
       "      <td>8.6</td>\n",
       "      <td>28.505</td>\n",
       "      <td>17.210</td>\n",
       "      <td>22.1</td>\n",
       "      <td>9177</td>\n",
       "      <td>44.8</td>\n",
       "      <td>21.5</td>\n",
       "      <td>18.5</td>\n",
       "      <td>36.1</td>\n",
       "      <td>29.5</td>\n",
       "      <td>20.4</td>\n",
       "      <td>165275</td>\n",
       "      <td>2.847639</td>\n",
       "      <td>2.845491</td>\n",
       "      <td>9.124456</td>\n",
       "    </tr>\n",
       "    <tr>\n",
       "      <th>3</th>\n",
       "      <td>1956</td>\n",
       "      <td>9.4</td>\n",
       "      <td>30.229</td>\n",
       "      <td>17.729</td>\n",
       "      <td>22.8</td>\n",
       "      <td>9450</td>\n",
       "      <td>46.1</td>\n",
       "      <td>20.7</td>\n",
       "      <td>19.2</td>\n",
       "      <td>36.1</td>\n",
       "      <td>29.9</td>\n",
       "      <td>20.9</td>\n",
       "      <td>168221</td>\n",
       "      <td>2.888693</td>\n",
       "      <td>2.875202</td>\n",
       "      <td>9.153770</td>\n",
       "    </tr>\n",
       "    <tr>\n",
       "      <th>4</th>\n",
       "      <td>1957</td>\n",
       "      <td>10.2</td>\n",
       "      <td>31.393</td>\n",
       "      <td>18.497</td>\n",
       "      <td>23.8</td>\n",
       "      <td>9508</td>\n",
       "      <td>48.5</td>\n",
       "      <td>23.2</td>\n",
       "      <td>19.9</td>\n",
       "      <td>37.2</td>\n",
       "      <td>30.9</td>\n",
       "      <td>21.8</td>\n",
       "      <td>171274</td>\n",
       "      <td>2.908491</td>\n",
       "      <td>2.917609</td>\n",
       "      <td>9.159889</td>\n",
       "    </tr>\n",
       "  </tbody>\n",
       "</table>\n",
       "</div>"
      ],
      "text/plain": [
       "   YEAR  GASEXP    GASQ    GASP  GASCPIU  PCINCOME   PNC   PUC   PPT    PD  \\\n",
       "0  1953     7.4  25.415  16.668     21.2      8802  47.2  26.7  16.8  37.7   \n",
       "1  1954     7.8  26.223  17.029     21.8      8757  46.5  22.7  18.0  36.8   \n",
       "2  1955     8.6  28.505  17.210     22.1      9177  44.8  21.5  18.5  36.1   \n",
       "3  1956     9.4  30.229  17.729     22.8      9450  46.1  20.7  19.2  36.1   \n",
       "4  1957    10.2  31.393  18.497     23.8      9508  48.5  23.2  19.9  37.2   \n",
       "\n",
       "     PN    PS     POP         G        PG         Y  \n",
       "0  29.7  19.4  159565  2.768058  2.813491  9.082734  \n",
       "1  29.7  20.0  162391  2.781800  2.834918  9.077609  \n",
       "2  29.5  20.4  165275  2.847639  2.845491  9.124456  \n",
       "3  29.9  20.9  168221  2.888693  2.875202  9.153770  \n",
       "4  30.9  21.8  171274  2.908491  2.917609  9.159889  "
      ]
     },
     "execution_count": 61,
     "metadata": {},
     "output_type": "execute_result"
    }
   ],
   "source": [
    "print(DF.head())\n",
    "DF.head()"
   ]
  },
  {
   "cell_type": "code",
   "execution_count": 62,
   "metadata": {
    "collapsed": false
   },
   "outputs": [
    {
     "data": {
      "text/plain": [
       "(52, 16)"
      ]
     },
     "execution_count": 62,
     "metadata": {},
     "output_type": "execute_result"
    }
   ],
   "source": [
    "DF.shape"
   ]
  },
  {
   "cell_type": "code",
   "execution_count": 65,
   "metadata": {
    "collapsed": false
   },
   "outputs": [
    {
     "data": {
      "text/html": [
       "<div>\n",
       "<table border=\"1\" class=\"dataframe\">\n",
       "  <thead>\n",
       "    <tr style=\"text-align: right;\">\n",
       "      <th></th>\n",
       "      <th>YEAR</th>\n",
       "      <th>GASEXP</th>\n",
       "      <th>GASQ</th>\n",
       "      <th>GASP</th>\n",
       "      <th>GASCPIU</th>\n",
       "      <th>PCINCOME</th>\n",
       "      <th>PNC</th>\n",
       "      <th>PUC</th>\n",
       "      <th>PPT</th>\n",
       "      <th>PD</th>\n",
       "      <th>PN</th>\n",
       "      <th>PS</th>\n",
       "      <th>POP</th>\n",
       "      <th>G</th>\n",
       "      <th>PG</th>\n",
       "      <th>Y</th>\n",
       "    </tr>\n",
       "  </thead>\n",
       "  <tbody>\n",
       "    <tr>\n",
       "      <th>count</th>\n",
       "      <td>52.000000</td>\n",
       "      <td>52.000000</td>\n",
       "      <td>52.000000</td>\n",
       "      <td>52.000000</td>\n",
       "      <td>52.000000</td>\n",
       "      <td>52.000000</td>\n",
       "      <td>52.000000</td>\n",
       "      <td>52.000000</td>\n",
       "      <td>52.000000</td>\n",
       "      <td>52.000000</td>\n",
       "      <td>52.000000</td>\n",
       "      <td>52.000000</td>\n",
       "      <td>52.000000</td>\n",
       "      <td>52.000000</td>\n",
       "      <td>52.000000</td>\n",
       "      <td>52.000000</td>\n",
       "    </tr>\n",
       "    <tr>\n",
       "      <th>mean</th>\n",
       "      <td>1978.500000</td>\n",
       "      <td>70.101923</td>\n",
       "      <td>65.446212</td>\n",
       "      <td>51.342962</td>\n",
       "      <td>65.882692</td>\n",
       "      <td>16851.461538</td>\n",
       "      <td>87.567308</td>\n",
       "      <td>77.800000</td>\n",
       "      <td>89.390385</td>\n",
       "      <td>78.269231</td>\n",
       "      <td>83.598077</td>\n",
       "      <td>89.776923</td>\n",
       "      <td>225373.750000</td>\n",
       "      <td>3.309784</td>\n",
       "      <td>3.729303</td>\n",
       "      <td>9.674873</td>\n",
       "    </tr>\n",
       "    <tr>\n",
       "      <th>std</th>\n",
       "      <td>15.154757</td>\n",
       "      <td>57.514661</td>\n",
       "      <td>23.327505</td>\n",
       "      <td>30.827411</td>\n",
       "      <td>39.708668</td>\n",
       "      <td>5566.950633</td>\n",
       "      <td>37.087415</td>\n",
       "      <td>51.068186</td>\n",
       "      <td>69.190151</td>\n",
       "      <td>36.782725</td>\n",
       "      <td>48.664649</td>\n",
       "      <td>66.911322</td>\n",
       "      <td>38077.423097</td>\n",
       "      <td>0.238492</td>\n",
       "      <td>0.678991</td>\n",
       "      <td>0.348767</td>\n",
       "    </tr>\n",
       "    <tr>\n",
       "      <th>min</th>\n",
       "      <td>1953.000000</td>\n",
       "      <td>7.400000</td>\n",
       "      <td>25.415000</td>\n",
       "      <td>16.668000</td>\n",
       "      <td>21.200000</td>\n",
       "      <td>8757.000000</td>\n",
       "      <td>44.800000</td>\n",
       "      <td>20.700000</td>\n",
       "      <td>16.800000</td>\n",
       "      <td>36.100000</td>\n",
       "      <td>29.500000</td>\n",
       "      <td>19.400000</td>\n",
       "      <td>159565.000000</td>\n",
       "      <td>2.768058</td>\n",
       "      <td>2.813491</td>\n",
       "      <td>9.077609</td>\n",
       "    </tr>\n",
       "    <tr>\n",
       "      <th>25%</th>\n",
       "      <td>1965.750000</td>\n",
       "      <td>15.700000</td>\n",
       "      <td>44.880250</td>\n",
       "      <td>19.925250</td>\n",
       "      <td>25.475000</td>\n",
       "      <td>11947.250000</td>\n",
       "      <td>51.450000</td>\n",
       "      <td>29.875000</td>\n",
       "      <td>25.875000</td>\n",
       "      <td>38.975000</td>\n",
       "      <td>34.775000</td>\n",
       "      <td>27.350000</td>\n",
       "      <td>196036.000000</td>\n",
       "      <td>3.130542</td>\n",
       "      <td>2.991939</td>\n",
       "      <td>9.388109</td>\n",
       "    </tr>\n",
       "    <tr>\n",
       "      <th>50%</th>\n",
       "      <td>1978.500000</td>\n",
       "      <td>58.150000</td>\n",
       "      <td>66.904500</td>\n",
       "      <td>47.501500</td>\n",
       "      <td>61.000000</td>\n",
       "      <td>16817.500000</td>\n",
       "      <td>78.800000</td>\n",
       "      <td>58.000000</td>\n",
       "      <td>53.200000</td>\n",
       "      <td>72.000000</td>\n",
       "      <td>72.900000</td>\n",
       "      <td>64.150000</td>\n",
       "      <td>223867.500000</td>\n",
       "      <td>3.394976</td>\n",
       "      <td>3.850084</td>\n",
       "      <td>9.730152</td>\n",
       "    </tr>\n",
       "    <tr>\n",
       "      <th>75%</th>\n",
       "      <td>1991.250000</td>\n",
       "      <td>111.500000</td>\n",
       "      <td>81.909500</td>\n",
       "      <td>77.204500</td>\n",
       "      <td>99.250000</td>\n",
       "      <td>21334.000000</td>\n",
       "      <td>126.075000</td>\n",
       "      <td>121.100000</td>\n",
       "      <td>149.525000</td>\n",
       "      <td>115.100000</td>\n",
       "      <td>130.925000</td>\n",
       "      <td>147.725000</td>\n",
       "      <td>254378.000000</td>\n",
       "      <td>3.484597</td>\n",
       "      <td>4.346457</td>\n",
       "      <td>9.968048</td>\n",
       "    </tr>\n",
       "    <tr>\n",
       "      <th>max</th>\n",
       "      <td>2004.000000</td>\n",
       "      <td>224.500000</td>\n",
       "      <td>103.587000</td>\n",
       "      <td>123.901000</td>\n",
       "      <td>159.700000</td>\n",
       "      <td>27208.000000</td>\n",
       "      <td>141.700000</td>\n",
       "      <td>158.700000</td>\n",
       "      <td>210.600000</td>\n",
       "      <td>129.400000</td>\n",
       "      <td>172.200000</td>\n",
       "      <td>222.800000</td>\n",
       "      <td>293951.000000</td>\n",
       "      <td>3.581457</td>\n",
       "      <td>4.819483</td>\n",
       "      <td>10.211266</td>\n",
       "    </tr>\n",
       "  </tbody>\n",
       "</table>\n",
       "</div>"
      ],
      "text/plain": [
       "              YEAR      GASEXP        GASQ        GASP     GASCPIU  \\\n",
       "count    52.000000   52.000000   52.000000   52.000000   52.000000   \n",
       "mean   1978.500000   70.101923   65.446212   51.342962   65.882692   \n",
       "std      15.154757   57.514661   23.327505   30.827411   39.708668   \n",
       "min    1953.000000    7.400000   25.415000   16.668000   21.200000   \n",
       "25%    1965.750000   15.700000   44.880250   19.925250   25.475000   \n",
       "50%    1978.500000   58.150000   66.904500   47.501500   61.000000   \n",
       "75%    1991.250000  111.500000   81.909500   77.204500   99.250000   \n",
       "max    2004.000000  224.500000  103.587000  123.901000  159.700000   \n",
       "\n",
       "           PCINCOME         PNC         PUC         PPT          PD  \\\n",
       "count     52.000000   52.000000   52.000000   52.000000   52.000000   \n",
       "mean   16851.461538   87.567308   77.800000   89.390385   78.269231   \n",
       "std     5566.950633   37.087415   51.068186   69.190151   36.782725   \n",
       "min     8757.000000   44.800000   20.700000   16.800000   36.100000   \n",
       "25%    11947.250000   51.450000   29.875000   25.875000   38.975000   \n",
       "50%    16817.500000   78.800000   58.000000   53.200000   72.000000   \n",
       "75%    21334.000000  126.075000  121.100000  149.525000  115.100000   \n",
       "max    27208.000000  141.700000  158.700000  210.600000  129.400000   \n",
       "\n",
       "               PN          PS            POP          G         PG          Y  \n",
       "count   52.000000   52.000000      52.000000  52.000000  52.000000  52.000000  \n",
       "mean    83.598077   89.776923  225373.750000   3.309784   3.729303   9.674873  \n",
       "std     48.664649   66.911322   38077.423097   0.238492   0.678991   0.348767  \n",
       "min     29.500000   19.400000  159565.000000   2.768058   2.813491   9.077609  \n",
       "25%     34.775000   27.350000  196036.000000   3.130542   2.991939   9.388109  \n",
       "50%     72.900000   64.150000  223867.500000   3.394976   3.850084   9.730152  \n",
       "75%    130.925000  147.725000  254378.000000   3.484597   4.346457   9.968048  \n",
       "max    172.200000  222.800000  293951.000000   3.581457   4.819483  10.211266  "
      ]
     },
     "execution_count": 65,
     "metadata": {},
     "output_type": "execute_result"
    }
   ],
   "source": [
    "DF.describe()"
   ]
  },
  {
   "cell_type": "code",
   "execution_count": 66,
   "metadata": {
    "collapsed": false
   },
   "outputs": [
    {
     "data": {
      "text/plain": [
       "Index(['YEAR', 'GASEXP', 'GASQ', 'GASP', 'GASCPIU', 'PCINCOME', 'PNC', 'PUC',\n",
       "       'PPT', 'PD', 'PN', 'PS', 'POP', 'G', 'PG', 'Y'],\n",
       "      dtype='object')"
      ]
     },
     "execution_count": 66,
     "metadata": {},
     "output_type": "execute_result"
    }
   ],
   "source": [
    "DF.columns"
   ]
  },
  {
   "cell_type": "code",
   "execution_count": 70,
   "metadata": {
    "collapsed": false
   },
   "outputs": [
    {
     "data": {
      "text/plain": [
       "<matplotlib.axes._subplots.AxesSubplot at 0x6f79c9d0>"
      ]
     },
     "execution_count": 70,
     "metadata": {},
     "output_type": "execute_result"
    },
    {
     "data": {
      "image/png": "[encoded data removed]",
      "text/plain": [
       "<matplotlib.figure.Figure at 0x6f867970>"
      ]
     },
     "metadata": {},
     "output_type": "display_data"
    }
   ],
   "source": [
    "DF.Y.plot()"
   ]
  },
  {
   "cell_type": "code",
   "execution_count": 67,
   "metadata": {
    "collapsed": false
   },
   "outputs": [
    {
     "data": {
      "text/plain": [
       "<matplotlib.axes._subplots.AxesSubplot at 0x6f8236b0>"
      ]
     },
     "execution_count": 67,
     "metadata": {},
     "output_type": "execute_result"
    },
    {
     "data": {
      "image/png": "[encoded data removed]",
      "text/plain": [
       "<matplotlib.figure.Figure at 0x6f87e770>"
      ]
     },
     "metadata": {},
     "output_type": "display_data"
    }
   ],
   "source": [
    "DF['Y'].plot()"
   ]
  },
  {
   "cell_type": "code",
   "execution_count": 71,
   "metadata": {
    "collapsed": false
   },
   "outputs": [
    {
     "name": "stdout",
     "output_type": "stream",
     "text": [
      "Index(['year', 'gasexp', 'gasq', 'gasp', 'gascpiu', 'pcincome', 'pnc', 'puc',\n",
      "       'ppt', 'pd', 'pn', 'ps', 'pop', 'g', 'pg', 'y'],\n",
      "      dtype='object')\n"
     ]
    }
   ],
   "source": [
    "DF.columns = map(str.lower, DF.columns)\n",
    "print(DF.columns)"
   ]
  },
  {
   "cell_type": "code",
   "execution_count": 72,
   "metadata": {
    "collapsed": false
   },
   "outputs": [
    {
     "data": {
      "text/html": [
       "<div>\n",
       "<table border=\"1\" class=\"dataframe\">\n",
       "  <thead>\n",
       "    <tr style=\"text-align: right;\">\n",
       "      <th></th>\n",
       "      <th>gasexp</th>\n",
       "      <th>gasq</th>\n",
       "      <th>gasp</th>\n",
       "      <th>gascpiu</th>\n",
       "      <th>pcincome</th>\n",
       "      <th>pnc</th>\n",
       "      <th>puc</th>\n",
       "      <th>ppt</th>\n",
       "      <th>pd</th>\n",
       "      <th>pn</th>\n",
       "      <th>ps</th>\n",
       "      <th>pop</th>\n",
       "      <th>g</th>\n",
       "      <th>pg</th>\n",
       "      <th>y</th>\n",
       "    </tr>\n",
       "    <tr>\n",
       "      <th>year</th>\n",
       "      <th></th>\n",
       "      <th></th>\n",
       "      <th></th>\n",
       "      <th></th>\n",
       "      <th></th>\n",
       "      <th></th>\n",
       "      <th></th>\n",
       "      <th></th>\n",
       "      <th></th>\n",
       "      <th></th>\n",
       "      <th></th>\n",
       "      <th></th>\n",
       "      <th></th>\n",
       "      <th></th>\n",
       "      <th></th>\n",
       "    </tr>\n",
       "  </thead>\n",
       "  <tbody>\n",
       "    <tr>\n",
       "      <th>1953</th>\n",
       "      <td>7.4</td>\n",
       "      <td>25.415</td>\n",
       "      <td>16.668</td>\n",
       "      <td>21.2</td>\n",
       "      <td>8802</td>\n",
       "      <td>47.2</td>\n",
       "      <td>26.7</td>\n",
       "      <td>16.8</td>\n",
       "      <td>37.7</td>\n",
       "      <td>29.7</td>\n",
       "      <td>19.4</td>\n",
       "      <td>159565</td>\n",
       "      <td>2.768058</td>\n",
       "      <td>2.813491</td>\n",
       "      <td>9.082734</td>\n",
       "    </tr>\n",
       "    <tr>\n",
       "      <th>1954</th>\n",
       "      <td>7.8</td>\n",
       "      <td>26.223</td>\n",
       "      <td>17.029</td>\n",
       "      <td>21.8</td>\n",
       "      <td>8757</td>\n",
       "      <td>46.5</td>\n",
       "      <td>22.7</td>\n",
       "      <td>18.0</td>\n",
       "      <td>36.8</td>\n",
       "      <td>29.7</td>\n",
       "      <td>20.0</td>\n",
       "      <td>162391</td>\n",
       "      <td>2.781800</td>\n",
       "      <td>2.834918</td>\n",
       "      <td>9.077609</td>\n",
       "    </tr>\n",
       "    <tr>\n",
       "      <th>1955</th>\n",
       "      <td>8.6</td>\n",
       "      <td>28.505</td>\n",
       "      <td>17.210</td>\n",
       "      <td>22.1</td>\n",
       "      <td>9177</td>\n",
       "      <td>44.8</td>\n",
       "      <td>21.5</td>\n",
       "      <td>18.5</td>\n",
       "      <td>36.1</td>\n",
       "      <td>29.5</td>\n",
       "      <td>20.4</td>\n",
       "      <td>165275</td>\n",
       "      <td>2.847639</td>\n",
       "      <td>2.845491</td>\n",
       "      <td>9.124456</td>\n",
       "    </tr>\n",
       "    <tr>\n",
       "      <th>1956</th>\n",
       "      <td>9.4</td>\n",
       "      <td>30.229</td>\n",
       "      <td>17.729</td>\n",
       "      <td>22.8</td>\n",
       "      <td>9450</td>\n",
       "      <td>46.1</td>\n",
       "      <td>20.7</td>\n",
       "      <td>19.2</td>\n",
       "      <td>36.1</td>\n",
       "      <td>29.9</td>\n",
       "      <td>20.9</td>\n",
       "      <td>168221</td>\n",
       "      <td>2.888693</td>\n",
       "      <td>2.875202</td>\n",
       "      <td>9.153770</td>\n",
       "    </tr>\n",
       "    <tr>\n",
       "      <th>1957</th>\n",
       "      <td>10.2</td>\n",
       "      <td>31.393</td>\n",
       "      <td>18.497</td>\n",
       "      <td>23.8</td>\n",
       "      <td>9508</td>\n",
       "      <td>48.5</td>\n",
       "      <td>23.2</td>\n",
       "      <td>19.9</td>\n",
       "      <td>37.2</td>\n",
       "      <td>30.9</td>\n",
       "      <td>21.8</td>\n",
       "      <td>171274</td>\n",
       "      <td>2.908491</td>\n",
       "      <td>2.917609</td>\n",
       "      <td>9.159889</td>\n",
       "    </tr>\n",
       "  </tbody>\n",
       "</table>\n",
       "</div>"
      ],
      "text/plain": [
       "      gasexp    gasq    gasp  gascpiu  pcincome   pnc   puc   ppt    pd    pn  \\\n",
       "year                                                                            \n",
       "1953     7.4  25.415  16.668     21.2      8802  47.2  26.7  16.8  37.7  29.7   \n",
       "1954     7.8  26.223  17.029     21.8      8757  46.5  22.7  18.0  36.8  29.7   \n",
       "1955     8.6  28.505  17.210     22.1      9177  44.8  21.5  18.5  36.1  29.5   \n",
       "1956     9.4  30.229  17.729     22.8      9450  46.1  20.7  19.2  36.1  29.9   \n",
       "1957    10.2  31.393  18.497     23.8      9508  48.5  23.2  19.9  37.2  30.9   \n",
       "\n",
       "        ps     pop         g        pg         y  \n",
       "year                                              \n",
       "1953  19.4  159565  2.768058  2.813491  9.082734  \n",
       "1954  20.0  162391  2.781800  2.834918  9.077609  \n",
       "1955  20.4  165275  2.847639  2.845491  9.124456  \n",
       "1956  20.9  168221  2.888693  2.875202  9.153770  \n",
       "1957  21.8  171274  2.908491  2.917609  9.159889  "
      ]
     },
     "execution_count": 72,
     "metadata": {},
     "output_type": "execute_result"
    }
   ],
   "source": [
    "DF2 = DF.set_index('year')\n",
    "DF2.head()"
   ]
  },
  {
   "cell_type": "code",
   "execution_count": 73,
   "metadata": {
    "collapsed": false
   },
   "outputs": [
    {
     "name": "stdout",
     "output_type": "stream",
     "text": [
      "gasexp           7.400000\n",
      "gasq            25.415000\n",
      "gasp            16.668000\n",
      "gascpiu         21.200000\n",
      "pcincome      8802.000000\n",
      "pnc             47.200000\n",
      "puc             26.700000\n",
      "ppt             16.800000\n",
      "pd              37.700000\n",
      "pn              29.700000\n",
      "ps              19.400000\n",
      "pop         159565.000000\n",
      "g                2.768058\n",
      "pg               2.813491\n",
      "y                9.082734\n",
      "Name: 1953, dtype: float64\n"
     ]
    }
   ],
   "source": [
    "print(DF2.loc[1953])"
   ]
  },
  {
   "cell_type": "code",
   "execution_count": null,
   "metadata": {
    "collapsed": true
   },
   "outputs": [],
   "source": []
  }
 ],
 "metadata": {
  "kernelspec": {
   "display_name": "Python 3",
   "language": "python",
   "name": "python3"
  },
  "language_info": {
   "codemirror_mode": {
    "name": "ipython",
    "version": 3
   },
   "file_extension": ".py",
   "mimetype": "text/x-python",
   "name": "python",
   "nbconvert_exporter": "python",
   "pygments_lexer": "ipython3",
   "version": "3.4.3"
  },
  "name": "PyShop_session2_examples.ipynb"
 },
 "nbformat": 4,
 "nbformat_minor": 0
}
