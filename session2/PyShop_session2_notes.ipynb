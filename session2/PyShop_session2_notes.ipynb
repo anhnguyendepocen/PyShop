{
 "cells": [
  {
   "cell_type": "markdown",
   "metadata": {},
   "source": [
    "# PyShop Session 2\n",
    "***\n",
    "This session focuses on some of the most useful modules, including NumPy, SciPy, Matplotlib, and Pandas.  All of the features discussed will be introduced using basic examples.  The main topics covered will be the following:\n",
    "\n",
    "  * NumPy arrays and their syntax.\n",
    "  * Integration.\n",
    "  * Root finding.\n",
    "  * DataFrames.\n",
    "  * Simple plots.\n",
    "  * Other topics to be added later.\n",
    "\n",
    "This session is simply meant to introduce the main features of the big four modules and give students time to become more familar with simple Python programs.  By the end of this session you should be comfortable enough with the basic Python interface to know what modules you need to import to do basic calculation, data entry, and data visualization."
   ]
  },
  {
   "cell_type": "markdown",
   "metadata": {},
   "source": [
    "## Why Packages?\n",
    "Python is built to be a modular programming environment.  When you load the Python interpreter, you load the basic functionality to run programs and work with the native data types.  You can easily import more functionality from modules and packages.  This makes running Python light compared to other mathematical software, such as MatLab.  Additionally, anyone can develop and publish packages through the Python Package Index (PyPI).  Although there are thousands of packages listed, you will find yourself returning to a reliable set for your own work.  Of these faithful companions, everyone will at some point need to work with NumPy, SciPy, MatPlotLib, and Pandas.  It is because of this that we'll spend a session working on just these packages and introducing their basic functionality.\n",
    "\n",
    "## NumPy\n",
    "NumPy is, above all, a wrapper for the ndarray object.  This type of object has several nice features.  First, because all of the elements of an array must be of the same type, the size of the array is predictable.  Second, NumPy comes with pre-compiled C code to run vectorized functions that speed up your code.  Third, the indexing syntax for an array is concise and clear.  Similarly, NumPy can handle arrays of different dimensions through its native broadcasting, making code easier to read and write.  Let's look at each of these points individually through some examples.\n",
    "\n",
    "### Creating Arrays\n",
    "Creating arrays in NumPy is easy.  You can create an array from other data types, or through built in functions:"
   ]
  },
  {
   "cell_type": "code",
   "execution_count": null,
   "metadata": {
    "collapsed": false
   },
   "outputs": [],
   "source": [
    "import numpy as np  #This is the traditional way to import NumPy\n",
    "\n",
    "a = np.array([[1.,0],[0,1]])  #Create an identity matrix by hand NOTE: What are the data types of entries?\n",
    "b = np.eye(2)  # Creat an identity matrix using built in funciton\n",
    "\n",
    "print(a)\n",
    "print(b)"
   ]
  },
  {
   "cell_type": "markdown",
   "metadata": {},
   "source": [
    "Notice in the above code that `a` was given both float and integer information, but the resulting array was filled with only floats.  This can be overridden by specifying the data type as `object`, but is not recommended since NumPy plays best with homogeneous arrays:"
   ]
  },
  {
   "cell_type": "code",
   "execution_count": null,
   "metadata": {
    "collapsed": false
   },
   "outputs": [],
   "source": [
    "c = np.array([[1.,0],[0,1]]).astype(object)\n",
    "c[0, 0] = int(1)\n",
    "print(c)"
   ]
  },
  {
   "cell_type": "markdown",
   "metadata": {},
   "source": [
    "It is possible to create arrays of very high dimension.  However, you should be careful of memory usage.  An array is stored in memory as a continuous block and the elements take up as much memory as they would have alone.  So, for example, a float element is around 8 bytes.  For an array of 3 dimensions with 1000 points in each direction, that is 1000^3*8 / 10^9 = 8 gigabytes of ram just to store the thing!\n",
    "\n",
    "### Array Indexing\n",
    "Array indexing is done similarly to lists.  Indices begin at zero.  However, the syntax is slightly different and a little less cumbersome when using arrays:"
   ]
  },
  {
   "cell_type": "code",
   "execution_count": null,
   "metadata": {
    "collapsed": false,
    "scrolled": true
   },
   "outputs": [],
   "source": [
    "a = np.random.rand(50, 50)  #Generate a 50x50 array of random numbers from uni[0,1]\n",
    "print(a.shape)\n",
    "\n",
    "#You can reference single entries in an array\n",
    "print(a[0, 0])\n",
    "\n",
    "#It is also possible to slice arrays as with lists\n",
    "print(a[:, 0])\n",
    "\n",
    "#Assignment to an array entry is the same\n",
    "a[0, 0] = 0.0\n",
    "print(a[0, 0])"
   ]
  },
  {
   "cell_type": "markdown",
   "metadata": {},
   "source": [
    "It is important to be careful when trying to create a copy of an array.  When you simply assign to an array using `=`, you create what is called a \"view\" of the array.  A view is simply a pointer to the same block of memory.  This reduces the amount of memory you use, but the two names now point to the same object in memory, so changing one changes the other.  If you really need a copy, you should explicitly creat one by either slicing or using the `.copy()` method:"
   ]
  },
  {
   "cell_type": "code",
   "execution_count": null,
   "metadata": {
    "collapsed": false
   },
   "outputs": [],
   "source": [
    "a = np.eye(2)\n",
    "b = a\n",
    "print(a)\n",
    "print(b)\n",
    "print(\"\\n\")\n",
    "\n",
    "a[0, 0] = 0\n",
    "print(a)\n",
    "print(b)\n",
    "print(\"\\n\")\n",
    "\n",
    "a = np.eye(2)\n",
    "b[:] = a\n",
    "c = a.copy()\n",
    "print(a)\n",
    "print(b)\n",
    "print(c)\n",
    "print(\"\\n\")\n",
    "\n",
    "a[0, 0] = 0\n",
    "print(a)\n",
    "print(b)\n",
    "print(c)\n",
    "print(\"\\n\")"
   ]
  },
  {
   "cell_type": "markdown",
   "metadata": {},
   "source": [
    "### Broadcasting\n",
    "When you give NumPy an operation to do over two arrays that do not have matching dimensions, NumPy automatically \"broadcasts\" the operation.  This action allows you to carry out scalar multiplication, kronecker products, and more complex matrix and array arithmetic quickly and with simple syntax.  We'll cover this in more detail next week, but for now we can look at some examples:"
   ]
  },
  {
   "cell_type": "code",
   "execution_count": null,
   "metadata": {
    "collapsed": false
   },
   "outputs": [],
   "source": [
    "a = np.eye(2)\n",
    "b = np.eye(2)\n",
    "c = 2\n",
    "\n",
    "#Multiplicaiton is done elementwise\n",
    "print(a * b)"
   ]
  },
  {
   "cell_type": "code",
   "execution_count": null,
   "metadata": {
    "collapsed": false
   },
   "outputs": [],
   "source": [
    "#Scalar multiplcation is broadcast\n",
    "print(a * c)"
   ]
  },
  {
   "cell_type": "code",
   "execution_count": null,
   "metadata": {
    "collapsed": false
   },
   "outputs": [],
   "source": [
    "#So are addition, both vector and scalar\n",
    "d = np.array([1., 1.])\n",
    "print(a + d)\n",
    "print(a + c)"
   ]
  },
  {
   "cell_type": "code",
   "execution_count": null,
   "metadata": {
    "collapsed": false
   },
   "outputs": [],
   "source": [
    "# Some arrays to broadcast\n",
    "d = np.array([1, 2])\n",
    "e = np.vstack((a, np.zeros(2)))\n",
    "f = np.array([[1, 2], [3, 4]])"
   ]
  },
  {
   "cell_type": "code",
   "execution_count": null,
   "metadata": {
    "collapsed": false
   },
   "outputs": [],
   "source": [
    "# Required that all of the dimensions either match or equal one\n",
    "print(e.shape)\n",
    "print(e)\n",
    "print(d.shape)\n",
    "print(d)\n",
    "print(d + e)\n",
    "print(e + a)"
   ]
  },
  {
   "cell_type": "code",
   "execution_count": null,
   "metadata": {
    "collapsed": false
   },
   "outputs": [],
   "source": [
    "# A one d array is neither column nor row\n",
    "print(d.shape)\n",
    "print(d == d.T)"
   ]
  },
  {
   "cell_type": "code",
   "execution_count": null,
   "metadata": {
    "collapsed": false
   },
   "outputs": [],
   "source": [
    "# This means the broadcasting rule seems ambiguous\n",
    "print(a + d)"
   ]
  },
  {
   "cell_type": "code",
   "execution_count": null,
   "metadata": {
    "collapsed": false
   },
   "outputs": [],
   "source": [
    "# Broadcasting rules move along the first matching axis FROM THE RIGHT\n",
    "print(f.shape)\n",
    "print(f)\n",
    "print(d.shape)\n",
    "print(d)\n",
    "print(f + d)\n",
    "print(f + d.T)"
   ]
  },
  {
   "cell_type": "code",
   "execution_count": null,
   "metadata": {
    "collapsed": false
   },
   "outputs": [],
   "source": [
    "# You can change this by adding a new axis\n",
    "# This helps to be specific about shape\n",
    "print(d[:, np.newaxis].shape)\n",
    "print(f + d[:, np.newaxis])"
   ]
  },
  {
   "cell_type": "markdown",
   "metadata": {},
   "source": [
    "These ideas apply in higher dimension and with all types of arithmetic operations, as well as some built in functions."
   ]
  },
  {
   "cell_type": "markdown",
   "metadata": {},
   "source": [
    "### Why do I care?\n",
    "NumPy is much faster than the native Python data types.  Because Python is an interpreted language, the programs must be parsed every time they are run.  Because of this, it does not benefit from the speed of being a compiled language.  NumPy gets around this by having pre-compiled functionality.  Let's see how much faster it is with an example:"
   ]
  },
  {
   "cell_type": "code",
   "execution_count": null,
   "metadata": {
    "collapsed": false
   },
   "outputs": [],
   "source": [
    "import time\n",
    "\n",
    "length = 10\n",
    "\n",
    "a = [i for i in range(0, length)]\n",
    "b = [i for i in range(0, length)]\n",
    "c = []\n",
    "\n",
    "t0 = time.time()\n",
    "\n",
    "for i in range(len(a)):\n",
    "  c.append(a[i]*b[i])\n",
    "\n",
    "t1 = time.time()\n",
    "print(\"Process executed in : %s : seconds.\" %(t1 - t0))"
   ]
  },
  {
   "cell_type": "code",
   "execution_count": null,
   "metadata": {
    "collapsed": false
   },
   "outputs": [],
   "source": [
    "a = np.arange(0, length)\n",
    "b = np.arange(0, length)\n",
    "\n",
    "t0 = time.time()\n",
    "\n",
    "C = a * b\n",
    "\n",
    "t1 = time.time()\n",
    "print(\"Process executed in : %s : seconds.\" %(t1 - t0))"
   ]
  },
  {
   "cell_type": "markdown",
   "metadata": {},
   "source": [
    "I encourage you to change the number of elements in the two calculations to see the difference!"
   ]
  },
  {
   "cell_type": "markdown",
   "metadata": {},
   "source": [
    "### Is that it?!\n",
    "No.  Calm down.  We've got a long ways to go and next week we'll see more of NumPy.  If you can't wait, though, check out the <a href=\"http://docs.scipy.org/doc/numpy/reference/index.html\" target=\"_blank\">documentaiton</a>.  In particular you might find interesting the linear algebra, matlib, random numbers, sorting, or fourier transform libraries!  Ok, maybe not the last one, but we can always hope..."
   ]
  },
  {
   "cell_type": "markdown",
   "metadata": {},
   "source": [
    "## SciPy\n",
    "SciPy is a bundle of open source software for Python, while the SciPy library is a fundamental set of numerical algorithms.  It's only thanks to this library that Python is able to compete against MatLab or R.  However, most of its functionality will go completely unnoticed to you.  When you use statistical packages or plotting or many other packages, they will call SciPy to do the heavy lifting.  For economists (as best as I can tell) the most used subpackages will be `integrate`, `interpolate`, `optimize`, `sparse`, and `stats`.  These packages cover a massive amount of very comlex algorithms, so we'll only cover a tiny fraction of it today and a little more next week.\n",
    "\n",
    "### Integration\n",
    "A typical problem in continuous time economics and, more generally, in econometrics is to solve an integral.  SciPy provides a package called `scipy.integrate`.  You should check out the <a href=\"http://docs.scipy.org/doc/scipy/reference/integrate.html#module-scipy.integrate\" target=\"_blank\">documentation</a> for more details.\n",
    "\n",
    "For general integration, use the `quad` function.  It's quite opaque what quadrature this method is using as its standard, but the precision is good.  The function is slow, but precise.  Here's an example:"
   ]
  },
  {
   "cell_type": "code",
   "execution_count": null,
   "metadata": {
    "collapsed": false
   },
   "outputs": [],
   "source": [
    "import scipy.integrate\n",
    "\n",
    "scipy.integrate.quad(lambda x: x**2, 0.0, 10.0)"
   ]
  },
  {
   "cell_type": "markdown",
   "metadata": {},
   "source": [
    "The output of `quad` is a tuple containing the numerical solution and the upper bound on the error.  We know the exact solution to this problem, so we can compare the two:\n",
    "\n",
    "$$\\int_0^{10} x^2 dx = \\left[ \\frac{1}{3} x^3 \\right]_0^{10} = \\frac{1000}{3}$$\n",
    "\n",
    "Indeed, given the smoothness of the problem the error estimate is quite close to the true error.\n",
    "\n",
    "If you'd like to do higher order integration, SciPy offers `dblquad`, `tplquad`, or `nquad`.  Using these functions you can integrate up to an arbitrary number of dimensions, but you'll have to dig into that on your own if you need these functions.  Alongside these quadrature rules, there are also `numpy.trapz` and `scipy.integrate.simps` for trapezoid rule and simpson's rule integration.\n",
    "\n",
    "Finally, SciPy has an ODE solver called `odeint`.  This can integrate first order vector differential equations.  Since differential equation problems are quite general and involved, it suffices to say that since this is a vector solver, it is possible to solve higher order ODE's using this function.  If you are interested, check out <a href=\"http://docs.scipy.org/doc/scipy/reference/tutorial/integrate.html#ordinary-differential-equations-odeint\" target=\"_blank\">the docs</a>."
   ]
  },
  {
   "cell_type": "markdown",
   "metadata": {},
   "source": [
    "### Optimization\n",
    "(Note: this is just a reproduction of the lecture)\n",
    "SciPy offers several algorithms for optimization.  Since this is not a course on numerical methods, I'll just list a few here and we can look at the soluitons they give.\n",
    "\n",
    "Methods:\n",
    "\n",
    "1. \"Downhill simplex method\".  Generates a simplex of dimension n+1 and then uses a simple algorithm (similar to a bisection algorithm) to find local optima.\n",
    "\n",
    "2. \"Broyden-Fletcher-Goldfarb-Shanno Algorithm\".  Considered a \"quasi-newton\" method.  A newton step would calculate the hessian directly, where quasi-newton methods approximate it in some way.  \n",
    "\n",
    "3. \"Powell's Conjugate Direction Method\". A sort of combination of steps in the taxi-cab method.  Instead of searching only along a single vecor, take a linear combination of the gradients.\n",
    "\n",
    "4. \"Conjugate Gradient Method\".  Most useful for sparse, linear systems.  You'll notice here it is unsuccessful.\n",
    "\n",
    "We'll study the rosenbrock banana function, a typical problem used for timing/testing a numerical method.  It is very flat in part of the domain and very steep in others.  Additionally its minimum is known.\n",
    "\n",
    "$$\n",
    "f(x, y) = (a - x)^2 + b(y - x)^2\n",
    "$$\n",
    "\n",
    "whose minimum is achieved at $(x, y) = (a, a^2)$."
   ]
  },
  {
   "cell_type": "code",
   "execution_count": null,
   "metadata": {
    "collapsed": false
   },
   "outputs": [],
   "source": [
    "import scipy.optimize\n",
    "\n",
    "def rosenbrock(x, a, b):\n",
    "    return (a - x[0])**2 + b*(x[1] - x[0]**2)**2\n",
    "\n",
    "a = 1.\n",
    "b = 100.\n",
    "\n",
    "x0 = np.array([2., 3.])\n",
    "\n",
    "t0 = time.time()\n",
    "res = scipy.optimize.minimize(rosenbrock, x0, args=(a, b), method='Nelder-Mead')\n",
    "t1 = time.time()\n",
    "print(\"\\nProcess executed in : %s : seconds.\\n\" %(t1 - t0))\n",
    "print(res)\n",
    "\n",
    "t0 = time.time()\n",
    "res = scipy.optimize.minimize(rosenbrock, x0, args=(a, b), method='BFGS')\n",
    "t1 = time.time()\n",
    "print(\"\\nProcess executed in : %s : seconds.\\n\" %(t1 - t0))\n",
    "print(res)\n",
    "\n",
    "t0 = time.time()\n",
    "res = scipy.optimize.minimize(rosenbrock, x0, args=(a, b), method='Powell')\n",
    "t1 = time.time()\n",
    "print(\"\\nProcess executed in : %s : seconds. \\n\" %(t1 - t0))\n",
    "print(res)\n",
    "\n",
    "t0 = time.time()\n",
    "res = scipy.optimize.minimize(rosenbrock, x0, args=(a, b), method='CG')\n",
    "t1 = time.time()\n",
    "print(\"\\nProcess executed in : %s : seconds. \\n\" %(t1 - t0))\n",
    "print(res)"
   ]
  },
  {
   "cell_type": "markdown",
   "metadata": {},
   "source": [
    "These different methods give the same result, except the conjugate gradient method which fails given the flat region of the banana funciton. "
   ]
  },
  {
   "cell_type": "markdown",
   "metadata": {},
   "source": [
    "### Root Finding\n",
    "(Note: this is simply a reproduction from the course)\n",
    "Similar to minimization, SciPy offers several methods for root finding.  Again, I simply list several here:\n",
    "\n",
    "Methods:\n",
    "\n",
    "1. \"Hybrid\".  From MINPACK, essentially a modified Powell method.\n",
    "\n",
    "2. \"Broyden's Method\".  A quasi-newton method for multidimensional root finding.  Calculate the jacobian only once, then do an update each iteration.\n",
    "\n",
    "3. \"Anderson Mixing\".  A quasi-newton method.  Approximate the jacobian by the \"best\" solution in the space spanned by the last M vectors... whatever that means!\n",
    "\n",
    "4. \"Linear Mixing\".  Similar to Anderson method.\n",
    "\n",
    "5. \"Krylov Methods\".  Approximate the jacobian by a spanning basis of the krylov space.  Very neat.\n",
    "\n",
    "Each of these methods has its advantages.  To look at multidimensional root finding, we'll treat the banana functions two terms as seperate functions and see if we get the same soluiton."
   ]
  },
  {
   "cell_type": "code",
   "execution_count": null,
   "metadata": {
    "collapsed": false
   },
   "outputs": [],
   "source": [
    "def f(x, a, b):\n",
    "    return np.array([a*(1 - x[0]), b*(x[1] - x[0]**2)**2])\n",
    "\n",
    "a = 1.\n",
    "b = 100.\n",
    "x0 = np.array([10., 2.])\n",
    "\n",
    "t0 = time.time()\n",
    "sol = scipy.optimize.root(f, x0, args=(a, b), method='hybr')\n",
    "t1 = time.time()\n",
    "print(\"\\nProcess executed in : %s : seconds. \\n\" %(t1 - t0))\n",
    "print(sol)\n",
    "\n",
    "t0 = time.time()\n",
    "sol = scipy.optimize.root(f, x0, args=(a, b), method='broyden1')\n",
    "t1 = time.time()\n",
    "print(\"\\nProcess executed in : %s : seconds. \\n\" %(t1 - t0))\n",
    "print(sol)\n",
    "\n",
    "t0 = time.time()\n",
    "sol = scipy.optimize.root(f, x0, args=(a, b), method='anderson')\n",
    "t1 = time.time()\n",
    "print(\"\\nProcess executed in : %s : seconds. \\n\" %(t1 - t0))\n",
    "print(sol)\n",
    "\n",
    "t0 = time.time()\n",
    "sol = scipy.optimize.root(f, x0, args=(a, b), method='linearmixing')\n",
    "t1 = time.time()\n",
    "print(\"\\nProcess executed in : %s : seconds. \\n\" %(t1 - t0))\n",
    "print(sol)\n",
    "\n",
    "t0 = time.time()\n",
    "sol = scipy.optimize.root(f, x0, args=(a, b), method='krylov')\n",
    "t1 = time.time()\n",
    "print(\"\\nProcess executed in : %s : seconds. \\n\" %(t1 - t0))\n",
    "print(sol)"
   ]
  },
  {
   "cell_type": "markdown",
   "metadata": {},
   "source": [
    "Notice that only the hybrid method converged and indeed to the same solution.  This is because of the flattness of the function and the fact that the rest of the methods are based strongly on the jacobian or its approximation."
   ]
  },
  {
   "cell_type": "markdown",
   "metadata": {},
   "source": [
    "\n",
    "## MatPlotLib\n",
    "Orinially based on MATLAB, the matplotlib is a 2D python plotting library.  However, beyond its MATLAB origins, matplotlib is very object oriented and allows one to fully customize the plotting experience.  Matplotlib is made up of three parts: the Pylab Interfacce, the matplotlib frontend, and the backend.  The Pylab Interface is how the user inputs information into matplotlib and works much the same as MATLAB.  The frontend does all of the heavy lifting, generating the plot data.  Finally, the backend renders that data as a plot.\n",
    "\n",
    "### Basic 2D Plotting\n",
    "Given $(x, y)$ coordinates, you can create a plot in a snap:"
   ]
  },
  {
   "cell_type": "code",
   "execution_count": null,
   "metadata": {
    "collapsed": false
   },
   "outputs": [],
   "source": [
    "import matplotlib.pyplot as plt\n",
    "%matplotlib inline\n",
    "\n",
    "x = np.arange(0, 1, 0.01)\n",
    "y = x**2*(1 - x)\n",
    "plt.plot(x, y)\n",
    "plt.show()"
   ]
  },
  {
   "cell_type": "markdown",
   "metadata": {},
   "source": [
    "Now that you have a sweet plot, how do you change its characteristics.  Setting aside style for now, you can change labels, titles, etc. with some simple commands:"
   ]
  },
  {
   "cell_type": "code",
   "execution_count": null,
   "metadata": {
    "collapsed": false
   },
   "outputs": [],
   "source": [
    "x = np.arange(0, 1, 0.01)\n",
    "f = lambda x: x**2*(1 - x)\n",
    "y = f(x)\n",
    "plt.plot(x, y)\n",
    "\n",
    "#Add axis labels\n",
    "plt.xlabel('Candy (in kg)')\n",
    "plt.ylabel('Happiness')\n",
    "\n",
    "#Add title\n",
    "plt.title(\"Happiness of Children as a Function\\n\"\n",
    "          + \" of Halloween Candy Consumed\")\n",
    "\n",
    "#Add emphasis to important points\n",
    "points = np.array([0.1, 0.5, 0.7])\n",
    "plt.plot(points, f(points), 'ro')\n",
    "\n",
    "#Add a label and legend to the points\n",
    "plt.plot(points, f(points), 'o', label='Fights With Sister Observed')\n",
    "plt.legend()\n",
    "\n",
    "#But the legend is poorly placed, so move it to a better spot\n",
    "plt.legend(loc=0)\n",
    "\n",
    "plt.show()"
   ]
  },
  {
   "cell_type": "markdown",
   "metadata": {},
   "source": [
    "The different line styles, marker styles, color pallettes, etc., are all highly customizable. In a couple of weeks we'll go over how you can set up matplotlib to load with the style you prefer, but for now we'll just stick with the standard.\n",
    "\n",
    "One of the great things about matplotlib is object oriented programming.  By that I mean that you can create objects, like arrays or lists, that contain figures and plots.  The way of doing this is to define a **figure** object and an **axes** object.  In fact, `pylot` does this automatically so that you don't have to worry about it.  In order to get used to this idea, I encourage you to avoid using `pyplot`, but instead to define your own objects using `subplots`.\n",
    "\n",
    "A figure object describes the plot window and all of its properties.  An axes object is contained within the figure and describes a single plot.  So, if you would like a figure with three subplots you would have one figure object and three axes objects.  We'll see how this works in more detail later, but to get an idea, here's a subplot:"
   ]
  },
  {
   "cell_type": "code",
   "execution_count": null,
   "metadata": {
    "collapsed": false
   },
   "outputs": [],
   "source": [
    "x = np.arange(0, 10, 0.1)\n",
    "f = lambda x: np.cos(x)\n",
    "g = lambda x: np.sin(x)\n",
    "\n",
    "#Create the figure and axes objects. sharex and sharey allow them to share axes\n",
    "fig, (ax1, ax2) = plt.subplots(2, sharex=True, sharey=True)\n",
    "\n",
    "#Plot on the first axes object. Notice, you can plot several times on the same object\n",
    "ax1.plot(x, f(x))\n",
    "ax1.plot(x, g(x))\n",
    "\n",
    "#Plot on the second axes object\n",
    "ax2.plot(x, f(x)*g(x))\n",
    "\n",
    "plt.show()"
   ]
  },
  {
   "cell_type": "markdown",
   "metadata": {},
   "source": [
    "Finally, you can easily create 3D plots using an Axes3D object.  Let's plot a CRRA utility function over some positive consumption bundles for periods 1 and 2:\n",
    "\n",
    "$$U(c_1, c_2) = \\frac{c_1^{1-\\gamma}}{1-\\gamma} + \\beta \\frac{c_2^{1-\\gamma}}{1-\\gamma}$$\n"
   ]
  },
  {
   "cell_type": "code",
   "execution_count": null,
   "metadata": {
    "collapsed": false
   },
   "outputs": [],
   "source": [
    "from mpl_toolkits.mplot3d import Axes3D\n",
    "\n",
    "def U(c1, c2, beta, gamma):\n",
    "    return c1**(1 - gamma)/(1 - gamma) + beta*c2**(1 - gamma)/(1 - gamma)\n",
    "\n",
    "beta = 0.98\n",
    "gamma = 2.0\n",
    "\n",
    "fig = plt.figure()\n",
    "ax = fig.gca(projection=\"3d\")\n",
    "\n",
    "low = 1.0\n",
    "high = 10.0\n",
    "\n",
    "c1 = np.arange(low, high, 0.1)\n",
    "c2 = np.arange(low, high, 0.1)\n",
    "\n",
    "C1, C2 = np.meshgrid(c1, c2)\n",
    "\n",
    "utils = U(C1, C2, beta, gamma)\n",
    "\n",
    "ax.plot_surface(C1, C2, utils, alpha=0.3)\n",
    "cset = ax.contour(C1, C2, utils, zdir='z', offset=-2.0)\n",
    "#cset = ax.contour(C1, C2, utils, zdir='y', offset=10.0)\n",
    "#cset = ax.contour(C1, C2, utils, zdir='x', offset=1.0)\n",
    "\n",
    "plt.show()"
   ]
  },
  {
   "cell_type": "markdown",
   "metadata": {},
   "source": [
    "**NOTE:** If you would like to interact with any of the graphs, you can run the following command to turn off inlline plotting.  If you would like to turn inline back on, run the command at the top of these notes."
   ]
  },
  {
   "cell_type": "code",
   "execution_count": null,
   "metadata": {
    "collapsed": false
   },
   "outputs": [],
   "source": [
    "# NOTE: This fails on my computer because of faulty build\n",
    "%matplotlib qt"
   ]
  },
  {
   "cell_type": "markdown",
   "metadata": {},
   "source": [
    "There are other, newer Python plotting packages, like Plotly (https://plot.ly/python/) or Seaborn (http://stanford.edu/~mwaskom/software/seaborn/), both of which produce really slick graphics.  However, if you are just looking for simple plots to visualize your graphics, I would start with matplotlib."
   ]
  },
  {
   "cell_type": "markdown",
   "metadata": {},
   "source": [
    "## Pandas\n",
    "The last of the big packages that we'll cover is the Pandas package, which is used for data analysis.  The package contains data types for time series, panels, sets, but Pandas' most important feature is the DataFrame.  DataFrames allow you to handle data in a matrix form, but allowing columns to be of heterogeneous types.  Additionally, the DataFrame contains an index, which may or may not be heirarchical, allowing you to control your data over multiple indices.\n",
    "\n",
    "Let's load some data into a DataFrame from the internet:"
   ]
  },
  {
   "cell_type": "code",
   "execution_count": 7,
   "metadata": {
    "collapsed": false
   },
   "outputs": [],
   "source": [
    "import pandas as pd\n",
    "\n",
    "DF = pd.read_csv('http://people.stern.nyu.edu/wgreene/Econometrics/grunfeld.csv')"
   ]
  },
  {
   "cell_type": "code",
   "execution_count": 2,
   "metadata": {
    "collapsed": false
   },
   "outputs": [
    {
     "data": {
      "text/html": [
       "<div>\n",
       "<table border=\"1\" class=\"dataframe\">\n",
       "  <thead>\n",
       "    <tr style=\"text-align: right;\">\n",
       "      <th></th>\n",
       "      <th>FIRM</th>\n",
       "      <th>YEAR</th>\n",
       "      <th>I</th>\n",
       "      <th>F</th>\n",
       "      <th>C</th>\n",
       "    </tr>\n",
       "  </thead>\n",
       "  <tbody>\n",
       "    <tr>\n",
       "      <th>0</th>\n",
       "      <td>1</td>\n",
       "      <td>1935</td>\n",
       "      <td>317.6</td>\n",
       "      <td>3078.5</td>\n",
       "      <td>2.8</td>\n",
       "    </tr>\n",
       "    <tr>\n",
       "      <th>1</th>\n",
       "      <td>1</td>\n",
       "      <td>1936</td>\n",
       "      <td>391.8</td>\n",
       "      <td>4661.7</td>\n",
       "      <td>52.6</td>\n",
       "    </tr>\n",
       "    <tr>\n",
       "      <th>2</th>\n",
       "      <td>1</td>\n",
       "      <td>1937</td>\n",
       "      <td>410.6</td>\n",
       "      <td>5387.1</td>\n",
       "      <td>156.9</td>\n",
       "    </tr>\n",
       "    <tr>\n",
       "      <th>3</th>\n",
       "      <td>1</td>\n",
       "      <td>1938</td>\n",
       "      <td>257.7</td>\n",
       "      <td>2792.2</td>\n",
       "      <td>209.2</td>\n",
       "    </tr>\n",
       "    <tr>\n",
       "      <th>4</th>\n",
       "      <td>1</td>\n",
       "      <td>1939</td>\n",
       "      <td>330.8</td>\n",
       "      <td>4313.2</td>\n",
       "      <td>203.4</td>\n",
       "    </tr>\n",
       "  </tbody>\n",
       "</table>\n",
       "</div>"
      ],
      "text/plain": [
       "   FIRM  YEAR      I       F     C \n",
       "0     1  1935  317.6  3078.5    2.8\n",
       "1     1  1936  391.8  4661.7   52.6\n",
       "2     1  1937  410.6  5387.1  156.9\n",
       "3     1  1938  257.7  2792.2  209.2\n",
       "4     1  1939  330.8  4313.2  203.4"
      ]
     },
     "execution_count": 2,
     "metadata": {},
     "output_type": "execute_result"
    }
   ],
   "source": [
    "#Print the first few rows of the dataset\n",
    "DF.head()"
   ]
  },
  {
   "cell_type": "markdown",
   "metadata": {},
   "source": [
    "There are many other data I/O commands (http://pandas.pydata.org/pandas-docs/stable/io.html) that you should check out.  There are also packages to read old ASCII files floating about, but this doesn't seem to be high on anyone's priority list.\n",
    "\n",
    "Once you have your data frame, you can do some work to analyze its shape and calculate some descriptive statistics:"
   ]
  },
  {
   "cell_type": "code",
   "execution_count": null,
   "metadata": {
    "collapsed": false
   },
   "outputs": [],
   "source": [
    "DF.shape"
   ]
  },
  {
   "cell_type": "code",
   "execution_count": null,
   "metadata": {
    "collapsed": false
   },
   "outputs": [],
   "source": [
    "DF.describe()"
   ]
  },
  {
   "cell_type": "markdown",
   "metadata": {},
   "source": [
    "Selecting a column in a DF is done by referencing the column 'key', similar to a dictionary."
   ]
  },
  {
   "cell_type": "code",
   "execution_count": 8,
   "metadata": {
    "collapsed": false
   },
   "outputs": [
    {
     "name": "stdout",
     "output_type": "stream",
     "text": [
      "Index(['firm', 'year', 'i', 'f', 'c '], dtype='object')\n",
      "Index(['firm', 'year', 'i', 'f', 'c'], dtype='object')\n"
     ]
    },
    {
     "data": {
      "text/plain": [
       "0       1\n",
       "1       1\n",
       "2       1\n",
       "3       1\n",
       "4       1\n",
       "5       1\n",
       "6       1\n",
       "7       1\n",
       "8       1\n",
       "9       1\n",
       "10      1\n",
       "11      1\n",
       "12      1\n",
       "13      1\n",
       "14      1\n",
       "15      1\n",
       "16      1\n",
       "17      1\n",
       "18      1\n",
       "19      1\n",
       "20      2\n",
       "21      2\n",
       "22      2\n",
       "23      2\n",
       "24      2\n",
       "25      2\n",
       "26      2\n",
       "27      2\n",
       "28      2\n",
       "29      2\n",
       "       ..\n",
       "170     9\n",
       "171     9\n",
       "172     9\n",
       "173     9\n",
       "174     9\n",
       "175     9\n",
       "176     9\n",
       "177     9\n",
       "178     9\n",
       "179     9\n",
       "180    10\n",
       "181    10\n",
       "182    10\n",
       "183    10\n",
       "184    10\n",
       "185    10\n",
       "186    10\n",
       "187    10\n",
       "188    10\n",
       "189    10\n",
       "190    10\n",
       "191    10\n",
       "192    10\n",
       "193    10\n",
       "194    10\n",
       "195    10\n",
       "196    10\n",
       "197    10\n",
       "198    10\n",
       "199    10\n",
       "Name: firm, dtype: int64"
      ]
     },
     "execution_count": 8,
     "metadata": {},
     "output_type": "execute_result"
    }
   ],
   "source": [
    "#Personally, I dislike capital letters in the column names, but it's easy to fix!\n",
    "DF.columns = DF.columns.str.lower()\n",
    "\n",
    "#Fun fact: There happens to be a mistake in the column names in this file:\n",
    "print(DF.columns)\n",
    "\n",
    "#Notice the extra space after 'c'.  We can remove this.\n",
    "DF = DF.rename(columns = {DF.columns[-1]:DF.columns[-1][:-1]})\n",
    "print(DF.columns)\n",
    "\n",
    "DF['firm']"
   ]
  },
  {
   "cell_type": "markdown",
   "metadata": {},
   "source": [
    "The column attribute stores a list of column names.  It is possible to redefine one or all of the column names by referencing this list.  However, it is an `Index`, so Pandas won't be happy if you try to rename it directly.  To do this, use the `.rename` method.\n",
    "\n",
    "It's also very easy to plot a column."
   ]
  },
  {
   "cell_type": "code",
   "execution_count": 9,
   "metadata": {
    "collapsed": false
   },
   "outputs": [
    {
     "data": {
      "text/plain": [
       "<matplotlib.axes._subplots.AxesSubplot at 0x6fd22950>"
      ]
     },
     "execution_count": 9,
     "metadata": {},
     "output_type": "execute_result"
    },
    {
     "data": {
      "image/png": "[encoded data removed]",
      "text/plain": [
       "<matplotlib.figure.Figure at 0x6fd0dbb0>"
      ]
     },
     "metadata": {},
     "output_type": "display_data"
    }
   ],
   "source": [
    "%matplotlib inline\n",
    "DF['c'].plot()"
   ]
  },
  {
   "cell_type": "markdown",
   "metadata": {},
   "source": [
    "However, this plot is for all of our data.  Since this is a panel, we get all of the firms plotted on the same line.  To get around this we need to specify the indices.  To do that, we will use what's called a \"heirarchical index\".  We will index our data first by firm and then by year.  Let's see how that's done:"
   ]
  },
  {
   "cell_type": "code",
   "execution_count": 10,
   "metadata": {
    "collapsed": false
   },
   "outputs": [
    {
     "data": {
      "text/html": [
       "<div>\n",
       "<table border=\"1\" class=\"dataframe\">\n",
       "  <thead>\n",
       "    <tr style=\"text-align: right;\">\n",
       "      <th></th>\n",
       "      <th>firm</th>\n",
       "      <th>i</th>\n",
       "      <th>f</th>\n",
       "      <th>c</th>\n",
       "    </tr>\n",
       "    <tr>\n",
       "      <th>year</th>\n",
       "      <th></th>\n",
       "      <th></th>\n",
       "      <th></th>\n",
       "      <th></th>\n",
       "    </tr>\n",
       "  </thead>\n",
       "  <tbody>\n",
       "    <tr>\n",
       "      <th>1935</th>\n",
       "      <td>1</td>\n",
       "      <td>317.6</td>\n",
       "      <td>3078.5</td>\n",
       "      <td>2.8</td>\n",
       "    </tr>\n",
       "    <tr>\n",
       "      <th>1936</th>\n",
       "      <td>1</td>\n",
       "      <td>391.8</td>\n",
       "      <td>4661.7</td>\n",
       "      <td>52.6</td>\n",
       "    </tr>\n",
       "    <tr>\n",
       "      <th>1937</th>\n",
       "      <td>1</td>\n",
       "      <td>410.6</td>\n",
       "      <td>5387.1</td>\n",
       "      <td>156.9</td>\n",
       "    </tr>\n",
       "    <tr>\n",
       "      <th>1938</th>\n",
       "      <td>1</td>\n",
       "      <td>257.7</td>\n",
       "      <td>2792.2</td>\n",
       "      <td>209.2</td>\n",
       "    </tr>\n",
       "    <tr>\n",
       "      <th>1939</th>\n",
       "      <td>1</td>\n",
       "      <td>330.8</td>\n",
       "      <td>4313.2</td>\n",
       "      <td>203.4</td>\n",
       "    </tr>\n",
       "  </tbody>\n",
       "</table>\n",
       "</div>"
      ],
      "text/plain": [
       "      firm      i       f      c\n",
       "year                            \n",
       "1935     1  317.6  3078.5    2.8\n",
       "1936     1  391.8  4661.7   52.6\n",
       "1937     1  410.6  5387.1  156.9\n",
       "1938     1  257.7  2792.2  209.2\n",
       "1939     1  330.8  4313.2  203.4"
      ]
     },
     "execution_count": 10,
     "metadata": {},
     "output_type": "execute_result"
    }
   ],
   "source": [
    "#Just as an example, let's create a data frame with a single index\n",
    "DF_test = DF.set_index('year')\n",
    "DF_test.head()"
   ]
  },
  {
   "cell_type": "markdown",
   "metadata": {},
   "source": [
    "You'll notice that the year has been moved to the left side of the table.  It now acts as the index for referencing data in the rows."
   ]
  },
  {
   "cell_type": "code",
   "execution_count": 5,
   "metadata": {
    "collapsed": false
   },
   "outputs": [
    {
     "data": {
      "text/html": [
       "<div>\n",
       "<table border=\"1\" class=\"dataframe\">\n",
       "  <thead>\n",
       "    <tr style=\"text-align: right;\">\n",
       "      <th></th>\n",
       "      <th>firm</th>\n",
       "      <th>i</th>\n",
       "      <th>f</th>\n",
       "      <th>c</th>\n",
       "    </tr>\n",
       "    <tr>\n",
       "      <th>year</th>\n",
       "      <th></th>\n",
       "      <th></th>\n",
       "      <th></th>\n",
       "      <th></th>\n",
       "    </tr>\n",
       "  </thead>\n",
       "  <tbody>\n",
       "    <tr>\n",
       "      <th>1935</th>\n",
       "      <td>1</td>\n",
       "      <td>317.60</td>\n",
       "      <td>3078.50</td>\n",
       "      <td>2.8</td>\n",
       "    </tr>\n",
       "    <tr>\n",
       "      <th>1935</th>\n",
       "      <td>2</td>\n",
       "      <td>209.90</td>\n",
       "      <td>1362.40</td>\n",
       "      <td>53.8</td>\n",
       "    </tr>\n",
       "    <tr>\n",
       "      <th>1935</th>\n",
       "      <td>3</td>\n",
       "      <td>33.10</td>\n",
       "      <td>1170.60</td>\n",
       "      <td>97.8</td>\n",
       "    </tr>\n",
       "    <tr>\n",
       "      <th>1935</th>\n",
       "      <td>4</td>\n",
       "      <td>40.29</td>\n",
       "      <td>417.50</td>\n",
       "      <td>10.5</td>\n",
       "    </tr>\n",
       "    <tr>\n",
       "      <th>1935</th>\n",
       "      <td>5</td>\n",
       "      <td>39.68</td>\n",
       "      <td>157.70</td>\n",
       "      <td>183.2</td>\n",
       "    </tr>\n",
       "    <tr>\n",
       "      <th>1935</th>\n",
       "      <td>6</td>\n",
       "      <td>20.36</td>\n",
       "      <td>197.00</td>\n",
       "      <td>6.5</td>\n",
       "    </tr>\n",
       "    <tr>\n",
       "      <th>1935</th>\n",
       "      <td>7</td>\n",
       "      <td>24.43</td>\n",
       "      <td>138.00</td>\n",
       "      <td>100.2</td>\n",
       "    </tr>\n",
       "    <tr>\n",
       "      <th>1935</th>\n",
       "      <td>8</td>\n",
       "      <td>12.93</td>\n",
       "      <td>191.50</td>\n",
       "      <td>1.8</td>\n",
       "    </tr>\n",
       "    <tr>\n",
       "      <th>1935</th>\n",
       "      <td>9</td>\n",
       "      <td>26.63</td>\n",
       "      <td>290.60</td>\n",
       "      <td>162.0</td>\n",
       "    </tr>\n",
       "    <tr>\n",
       "      <th>1935</th>\n",
       "      <td>10</td>\n",
       "      <td>2.54</td>\n",
       "      <td>70.91</td>\n",
       "      <td>4.5</td>\n",
       "    </tr>\n",
       "  </tbody>\n",
       "</table>\n",
       "</div>"
      ],
      "text/plain": [
       "      firm       i        f      c\n",
       "year                              \n",
       "1935     1  317.60  3078.50    2.8\n",
       "1935     2  209.90  1362.40   53.8\n",
       "1935     3   33.10  1170.60   97.8\n",
       "1935     4   40.29   417.50   10.5\n",
       "1935     5   39.68   157.70  183.2\n",
       "1935     6   20.36   197.00    6.5\n",
       "1935     7   24.43   138.00  100.2\n",
       "1935     8   12.93   191.50    1.8\n",
       "1935     9   26.63   290.60  162.0\n",
       "1935    10    2.54    70.91    4.5"
      ]
     },
     "execution_count": 5,
     "metadata": {},
     "output_type": "execute_result"
    }
   ],
   "source": [
    "DF_test.loc[1935]"
   ]
  },
  {
   "cell_type": "code",
   "execution_count": 6,
   "metadata": {
    "collapsed": false
   },
   "outputs": [
    {
     "name": "stderr",
     "output_type": "stream",
     "text": [
      "/home/pi/env/lib/python3.4/site-packages/IPython/kernel/__init__.py:13: ShimWarning: The `IPython.kernel` package has been deprecated. You should import from ipykernel or jupyter_client instead.\n",
      "  \"You should import from ipykernel or jupyter_client instead.\", ShimWarning)\n"
     ]
    },
    {
     "data": {
      "text/plain": [
       "<matplotlib.axes._subplots.AxesSubplot at 0x6fd36a70>"
      ]
     },
     "execution_count": 6,
     "metadata": {},
     "output_type": "execute_result"
    }
   ],
   "source": [
    "DF.c.plot()"
   ]
  },
  {
   "cell_type": "markdown",
   "metadata": {},
   "source": [
    "But you'll also notice that there are 10 firms for every year.  This is not data but another index, so we could use this as part of our heirarchical index.  It's as easy as supplying a list instead of a single string to the `.set_index` method."
   ]
  },
  {
   "cell_type": "code",
   "execution_count": 11,
   "metadata": {
    "collapsed": false
   },
   "outputs": [
    {
     "data": {
      "text/html": [
       "<div>\n",
       "<table border=\"1\" class=\"dataframe\">\n",
       "  <thead>\n",
       "    <tr style=\"text-align: right;\">\n",
       "      <th></th>\n",
       "      <th></th>\n",
       "      <th>i</th>\n",
       "      <th>f</th>\n",
       "      <th>c</th>\n",
       "    </tr>\n",
       "    <tr>\n",
       "      <th>year</th>\n",
       "      <th>firm</th>\n",
       "      <th></th>\n",
       "      <th></th>\n",
       "      <th></th>\n",
       "    </tr>\n",
       "  </thead>\n",
       "  <tbody>\n",
       "    <tr>\n",
       "      <th>1935</th>\n",
       "      <th>1</th>\n",
       "      <td>317.6</td>\n",
       "      <td>3078.5</td>\n",
       "      <td>2.8</td>\n",
       "    </tr>\n",
       "    <tr>\n",
       "      <th>1936</th>\n",
       "      <th>1</th>\n",
       "      <td>391.8</td>\n",
       "      <td>4661.7</td>\n",
       "      <td>52.6</td>\n",
       "    </tr>\n",
       "    <tr>\n",
       "      <th>1937</th>\n",
       "      <th>1</th>\n",
       "      <td>410.6</td>\n",
       "      <td>5387.1</td>\n",
       "      <td>156.9</td>\n",
       "    </tr>\n",
       "    <tr>\n",
       "      <th>1938</th>\n",
       "      <th>1</th>\n",
       "      <td>257.7</td>\n",
       "      <td>2792.2</td>\n",
       "      <td>209.2</td>\n",
       "    </tr>\n",
       "    <tr>\n",
       "      <th>1939</th>\n",
       "      <th>1</th>\n",
       "      <td>330.8</td>\n",
       "      <td>4313.2</td>\n",
       "      <td>203.4</td>\n",
       "    </tr>\n",
       "  </tbody>\n",
       "</table>\n",
       "</div>"
      ],
      "text/plain": [
       "               i       f      c\n",
       "year firm                      \n",
       "1935 1     317.6  3078.5    2.8\n",
       "1936 1     391.8  4661.7   52.6\n",
       "1937 1     410.6  5387.1  156.9\n",
       "1938 1     257.7  2792.2  209.2\n",
       "1939 1     330.8  4313.2  203.4"
      ]
     },
     "execution_count": 11,
     "metadata": {},
     "output_type": "execute_result"
    }
   ],
   "source": [
    "DF_heir = DF.set_index(['year', 'firm'])\n",
    "DF_heir.head()"
   ]
  },
  {
   "cell_type": "markdown",
   "metadata": {},
   "source": [
    "Now you can reference data by firm and by year."
   ]
  },
  {
   "cell_type": "code",
   "execution_count": 12,
   "metadata": {
    "collapsed": false
   },
   "outputs": [
    {
     "data": {
      "text/plain": [
       "i     317.6\n",
       "f    3078.5\n",
       "c       2.8\n",
       "Name: 1, dtype: float64"
      ]
     },
     "execution_count": 12,
     "metadata": {},
     "output_type": "execute_result"
    }
   ],
   "source": [
    "DF_heir.loc[1935].loc[1]"
   ]
  },
  {
   "cell_type": "markdown",
   "metadata": {},
   "source": [
    "A useful method with DataFrames is `.groupby`.  This will allow you to group the DataFrame by any column or index you'd like.  It generates a groupby object, over which you can iterate.  It even makes plotting by group a breeze.  Check it out!"
   ]
  },
  {
   "cell_type": "code",
   "execution_count": null,
   "metadata": {
    "collapsed": false
   },
   "outputs": [],
   "source": [
    "fig, ax = plt.subplots(1, figsize=(10, 7))\n",
    "years = list(DF_heir.index.levels[0])\n",
    "DF_heir['c'].groupby(level=1).plot(ax=ax)\n",
    "ax.set_xticklabels(years)\n",
    "ax.set_title('Candy Purchases by Firm')\n",
    "ax.set_xlabel('Year')"
   ]
  },
  {
   "cell_type": "markdown",
   "metadata": {},
   "source": [
    "Easy peazy, right?! Just you wait, Henry Higgins.  "
   ]
  },
  {
   "cell_type": "markdown",
   "metadata": {},
   "source": [
    "Lastly, Pandas comes with a pivot table function, which can automate most of this for you.  Let's try and create the same `DF_heir` using a pivot table."
   ]
  },
  {
   "cell_type": "code",
   "execution_count": null,
   "metadata": {
    "collapsed": false
   },
   "outputs": [],
   "source": [
    "pivot = pd.pivot_table(DF, index=['year', 'firm'])\n",
    "pivot.head()"
   ]
  },
  {
   "cell_type": "markdown",
   "metadata": {},
   "source": [
    "Indeed, we get the same thing, just as a different data type."
   ]
  },
  {
   "cell_type": "markdown",
   "metadata": {},
   "source": [
    "## Conclusion\n",
    "In these notes we've looked at some basic functionality of NumPy, SciPy, matplotlib, and Pandas.  We've seen how to create and reference arrays, a tiny bit of integration and optimization, how to create and edit simple 2D plots, and how to use DataFrames to manage data and do a bit of analysis.  This is the end of our basic introduction to Python and I hope you've learned a lot.  In the next three sessions we will dive more deeply into the things we've already seen and work on some more complex problems."
   ]
  }
 ],
 "metadata": {
  "colabVersion": "0.1",
  "kernelspec": {
   "display_name": "Python 3",
   "language": "python",
   "name": "python3"
  },
  "language_info": {
   "codemirror_mode": {
    "name": "ipython",
    "version": 3
   },
   "file_extension": ".py",
   "mimetype": "text/x-python",
   "name": "python",
   "nbconvert_exporter": "python",
   "pygments_lexer": "ipython3",
   "version": "3.4.3"
  }
 },
 "nbformat": 4,
 "nbformat_minor": 0
}
