{
 "cells": [
  {
   "cell_type": "markdown",
   "metadata": {},
   "source": [
    "\n",
    "# PyShop Session 4\n",
    "***\n",
    "##Advanced Topics in Statistics and Data Visualization\n",
    "\n",
    "## Outline\n",
    "\n",
    "1.  Posting forms using requests\n",
    "2.  Downloading a single PSID file\n",
    "3.  Reading in the sas (hand waving!)  Just use PSIDpy\n",
    "4.  Loading the fam_vars file and the ind_vars file\n",
    "5.  Cleaning up the data a bit\n",
    "6.  Merge, concatenate, join, groupby, etc.\n",
    "7.  Indices, heirarchical indices, loc, idx, etc.  How to find data in your dataframe\n",
    "8.  Descriptive statistics and plotting\n",
    "9.  OLS with StatsModels\n",
    "10.  Plotting with SeaBorn\n",
    "11.  Adjusting your matplotlibrc file"
   ]
  },
  {
   "cell_type": "markdown",
   "metadata": {},
   "source": [
    "## Posting Forms Using Requests\n",
    "\n",
    "* #### Requests makes http possible\n",
    "* #### A request returns a \"response\" object\n",
    "* #### What's in a respons?  Let's check it out!\n"
   ]
  },
  {
   "cell_type": "code",
   "execution_count": null,
   "metadata": {
    "collapsed": false
   },
   "outputs": [],
   "source": [
    "#Just to avoid problems later, import everything now\n",
    "import zipfile\n",
    "import tempfile\n",
    "import os\n",
    "import requests\n",
    "import shutil\n",
    "import getpass\n",
    "#import seaborn.apionly\n",
    "import seaborn as sns\n",
    "import matplotlib.pyplot as plt\n",
    "\n",
    "import statsmodels.api as sm\n",
    "from scipy import stats\n",
    "from bs4 import BeautifulSoup\n",
    "import pandas as pd\n",
    "import numpy as np\n",
    "from psid_py import read_sas\n",
    "from io import BytesIO\n",
    "\n",
    "%matplotlib inline"
   ]
  },
  {
   "cell_type": "code",
   "execution_count": null,
   "metadata": {
    "collapsed": true
   },
   "outputs": [],
   "source": [
    "#Create a requests session object, which will do all the HTTP for you\n",
    "c = requests.Session()\n",
    "\n",
    "#Define the URL of the login page\n",
    "URL = 'http://simba.isr.umich.edu/u/login.aspx'\n",
    "\n",
    "#Call the login page to \"get\" its raw HTML data\n",
    "page = c.get(URL)"
   ]
  },
  {
   "cell_type": "code",
   "execution_count": null,
   "metadata": {
    "collapsed": false
   },
   "outputs": [],
   "source": [
    "# Return the content in unicode (string)\n",
    "page.text"
   ]
  },
  {
   "cell_type": "code",
   "execution_count": null,
   "metadata": {
    "collapsed": false
   },
   "outputs": [],
   "source": [
    "# Return the content in bytes\n",
    "page.content"
   ]
  },
  {
   "cell_type": "code",
   "execution_count": null,
   "metadata": {
    "collapsed": false
   },
   "outputs": [],
   "source": [
    "# Retrieve json... if any!\n",
    "page.json()"
   ]
  },
  {
   "cell_type": "code",
   "execution_count": null,
   "metadata": {
    "collapsed": false
   },
   "outputs": [],
   "source": [
    "# Retrieve the cookie jar\n",
    "page.cookies"
   ]
  },
  {
   "cell_type": "code",
   "execution_count": null,
   "metadata": {
    "collapsed": false
   },
   "outputs": [],
   "source": [
    "# Retrieve the headers\n",
    "page.headers"
   ]
  },
  {
   "cell_type": "code",
   "execution_count": null,
   "metadata": {
    "collapsed": false
   },
   "outputs": [],
   "source": [
    "# Return the links in the header\n",
    "page.links"
   ]
  },
  {
   "cell_type": "code",
   "execution_count": null,
   "metadata": {
    "collapsed": false
   },
   "outputs": [],
   "source": [
    "# Return the url\n",
    "page.url"
   ]
  },
  {
   "cell_type": "markdown",
   "metadata": {},
   "source": [
    "###What do we need this object for?\n",
    "* #### To post forms, you need form variables\n",
    "* #### We will scrape the html for the variables we want"
   ]
  },
  {
   "cell_type": "markdown",
   "metadata": {},
   "source": [
    "1. Navigate to the login page, right-click on the login window, and click \"Inspect Element\".  This will open a side bar showing the html and some other stuff.  \n",
    "\n",
    "2. At the top, there will be several tabs; select the 'Network' tab.  \n",
    "\n",
    "3. Now, click the 'Clear' button, right next to the red dot at the top.  \n",
    "\n",
    "4. Now login.  At this point you'll see a bunch of things show up in the table.  \n",
    "\n",
    "5. Find anything related to login.  For the PSID website this is 'Login.aspx'.  Click this and select the 'Headers' tab on the lower part of the side bar.\n",
    "\n",
    "6. Now scroll down to the 'Form Data' section.\n",
    "\n",
    "All of the variables listed here will be submitted to the form.  We are going to need to scrape the html for the values and submit them with our login information.\n",
    "\n",
    "Here's how we'll scrape the page using Beautiful Soup:"
   ]
  },
  {
   "cell_type": "code",
   "execution_count": null,
   "metadata": {
    "collapsed": true
   },
   "outputs": [],
   "source": [
    "soup = BeautifulSoup(page.content)\n",
    "viewstate = soup.findAll(\"input\", {\"type\": \"hidden\",\n",
    "                         \"name\": \"__VIEWSTATE\"})\n",
    "radscript = soup.findAll(\"input\", {\"type\": \"hidden\",\n",
    "                         \"name\": \"RadScriptManager1_TSM\"})\n",
    "eventtarget = soup.findAll(\"input\", {\"type\": \"hidden\",\n",
    "                           \"name\": \"__EVENTTARGET\"})\n",
    "eventargument = soup.findAll(\"input\", {\"type\": \"hidden\",\n",
    "                             \"name\": \" __EVENTARGUMENT\"})\n",
    "viewstategenerator = soup.findAll(\"input\", {\"type\": \"hidden\",\n",
    "                                  \"name\": \"__VIEWSTATEGENERATOR\"})\n",
    "eventvalidation = soup.findAll(\"input\", {\"type\": \"hidden\",\n",
    "                               \"name\": \"__EVENTVALIDATION\"})\n",
    "radscript = soup.findAll(\"input\", {\"type\": \"hidden\", \"name\":\n",
    "                         \"RadScriptManager1_TSM\"})\n"
   ]
  },
  {
   "cell_type": "markdown",
   "metadata": {},
   "source": [
    "###What is beautiful soup doing!?\n",
    "* #### When you 'make the soup', BS4 converts the html into a tree of objects using an html parser\n",
    "* #### 4 types of objects in the soup you might deal with:\n",
    "    1. tag: this corresponds to the tag in the original html file (usually marked by 'class')\n",
    "    2. NavigableString: text found within the tag, eg. link text\n",
    "    3. BeautifulSoup: the document itself\n",
    "    4. Comments: exactly what it sounds like! introduced by '%' in html\n",
    "* #### BS4 offers many options for navigating the tree, but for our purpuses 'findAll' will suffice\n",
    "* #### In our example, we are looking for 'input' tag with the attributed in the dictionary"
   ]
  },
  {
   "cell_type": "code",
   "execution_count": null,
   "metadata": {
    "collapsed": false
   },
   "outputs": [],
   "source": [
    "print(viewstate)\n",
    "print(eventtarget)"
   ]
  },
  {
   "cell_type": "code",
   "execution_count": null,
   "metadata": {
    "collapsed": false
   },
   "outputs": [],
   "source": [
    "#First, define a username and password\n",
    "#NOTE: Please don't abuse my account... I don't want to be barred from the PSID!\n",
    "#USERNAME = input(\"Please enter your PSID username: \")\n",
    "#PASSWORD = getpass.getpass(\"Please enter your PSID\"\n",
    "#                                       + \" password: \")\n",
    "\n",
    "USERNAME = \"tyler.abbot@sciencespo.fr\"\n",
    "PASSWORD = \"tyler.abbot\""
   ]
  },
  {
   "cell_type": "code",
   "execution_count": null,
   "metadata": {
    "collapsed": true
   },
   "outputs": [],
   "source": [
    "#Gather form data into a single dictionary\n",
    "params = {'RadScriptManager1_TSM': radscript[0]['value'],\n",
    "          '__EVENTTARGET': '',\n",
    "          ' __EVENTARGUMENT': '',\n",
    "          '__VIEWSTATE': viewstate[0]['value'],\n",
    "          '__VIEWSTATEGENERATOR': viewstategenerator[0]['value'],\n",
    "          '__EVENTVALIDATION': eventvalidation[0]['value'],\n",
    "          'ctl00$ContentPlaceHolder1$Login1$UserName': USERNAME,\n",
    "          'ctl00$ContentPlaceHolder1$Login1$Password': PASSWORD,\n",
    "          'ctl00$ContentPlaceHolder1$Login1$LoginButton': 'Log In',\n",
    "          'ctl00_RadWindowManager1_ClientState': ''}\n"
   ]
  },
  {
   "cell_type": "code",
   "execution_count": null,
   "metadata": {
    "collapsed": false
   },
   "outputs": [],
   "source": [
    "#Post the login form.  NOTE: Response code 200 implies OK\n",
    "c.post('http://simba.isr.umich.edu/u/Login.aspx', data=params,\n",
    "       headers={\"Referer\": \"http://psidonline.isr.umich.edu/\"})"
   ]
  },
  {
   "cell_type": "markdown",
   "metadata": {},
   "source": [
    "###Note the 'post' and 'headers'.  Need to tell the site where we are coming from."
   ]
  },
  {
   "cell_type": "code",
   "execution_count": null,
   "metadata": {
    "collapsed": false
   },
   "outputs": [],
   "source": [
    "#Create a temporary directory to store unzipped files\n",
    "#temp_dir = tempfile.mkdtemp() + os.sep\n",
    "\n",
    "#File names in the psid are numbered\n",
    "file = \"1056\"\n",
    "url = 'http://simba.isr.umich.edu/Zips/GetFile.aspx?file=' + file\n",
    "data1 = c.get(url, allow_redirects=False)\n",
    "\n",
    "#Download a second file\n",
    "file = \"1058\"\n",
    "url = 'http://simba.isr.umich.edu/Zips/GetFile.aspx?file=' + file\n",
    "data2 = c.get(url, allow_redirects=False)"
   ]
  },
  {
   "cell_type": "code",
   "execution_count": null,
   "metadata": {
    "collapsed": false
   },
   "outputs": [],
   "source": [
    "data1.content"
   ]
  },
  {
   "cell_type": "markdown",
   "metadata": {},
   "source": [
    "### To extract the sas data, we'll use the 'psid_py' package (because SAS is not supported by Pandas)"
   ]
  },
  {
   "cell_type": "code",
   "execution_count": null,
   "metadata": {
    "collapsed": false
   },
   "outputs": [],
   "source": [
    "#Create a temporary directory to store unzipped files\n",
    "temp_dir = tempfile.mkdtemp() + os.sep\n",
    "\n",
    "x = pd.DataFrame()\n",
    "y = pd.DataFrame()\n",
    "frames = [x, y]\n",
    "\n",
    "for i, data in enumerate([data1, data2]):\n",
    "    #Extract the zipped files\n",
    "    zipped = zipfile.ZipFile(BytesIO(data.content))\n",
    "    files_to_unzip = (x for x in zipped.namelist() if \n",
    "                      any(['.sas' in x, '.txt' in x]))\n",
    "\n",
    "    for NAME in files_to_unzip:\n",
    "        temp_name = zipped.extract(NAME, temp_dir)\n",
    "        #Test if you have just found the dictionary\n",
    "        if temp_name.find('.sas') >= 0:\n",
    "            dict_file = str(temp_name)\n",
    "        #If not, you have found the data\n",
    "        else:\n",
    "            data_file = str(temp_name)\n",
    "\n",
    "    #Use psidPy to read the sas file in\n",
    "    frames[i] = pd.concat([frames[i],\n",
    "                           read_sas.read_sas(data_file, dict_file)])\n",
    "\n",
    "#Remove the temporary directory\n",
    "shutil.rmtree(temp_dir)"
   ]
  },
  {
   "cell_type": "markdown",
   "metadata": {
    "collapsed": true
   },
   "source": [
    "###We now have two data frames containing our psid data"
   ]
  },
  {
   "cell_type": "code",
   "execution_count": null,
   "metadata": {
    "collapsed": false
   },
   "outputs": [],
   "source": [
    "x = pd.DataFrame(frames[0])\n",
    "y = pd.DataFrame(frames[1])\n",
    "print(x.shape)\n",
    "print(y.shape)"
   ]
  },
  {
   "cell_type": "markdown",
   "metadata": {},
   "source": [
    "Here is a list of the variables we are going to pull out and their corresponding code in each year:\n",
    "\n",
    "\n",
    "| Variable               | 1968 | 1969  |\n",
    "|------------------------|------|-------|\n",
    "| Family Number          | V3   | V442  |\n",
    "| Total Food Consumption | V334 | V863  |\n",
    "| Head Hourly Earn       | V337 | V871  |\n",
    "| Head Education         | V313 | V794  |\n",
    "| Wifes Education        | V246 | NA    |\n",
    "\n",
    "###So, to start we'll just drop all of the unnecessary columns.\n"
   ]
  },
  {
   "cell_type": "code",
   "execution_count": null,
   "metadata": {
    "collapsed": false
   },
   "outputs": [],
   "source": [
    "vars68 = ['V3',\n",
    "          'V334',\n",
    "          'V337',\n",
    "          'V313',\n",
    "          'V246']\n",
    "\n",
    "vars69 = ['V442',\n",
    "          'V863',\n",
    "          'V871',\n",
    "          'V794']\n",
    "\n",
    "frame68 = x[vars68].copy()\n",
    "frame69 = y[vars69].copy()\n",
    "\n",
    "frame68.head()"
   ]
  },
  {
   "cell_type": "markdown",
   "metadata": {},
   "source": [
    "###Notice here that I explicitly created a copy.  \n",
    "###Change the column names to be something a bit more recognizable."
   ]
  },
  {
   "cell_type": "code",
   "execution_count": null,
   "metadata": {
    "collapsed": false
   },
   "outputs": [],
   "source": [
    "frame68.columns = ['fam_id',\n",
    "                   'foodc',\n",
    "                   'head_hourly_wage',\n",
    "                   'head_educ',\n",
    "                   'wife_educ']\n",
    "\n",
    "frame69.columns = ['fam_id',\n",
    "                   'foodc',\n",
    "                   'head_hourly_wage',\n",
    "                   'head_educ']"
   ]
  },
  {
   "cell_type": "code",
   "execution_count": null,
   "metadata": {
    "collapsed": false
   },
   "outputs": [],
   "source": [
    "frame68['year'] = 1968\n",
    "frame69['year'] = 1969"
   ]
  },
  {
   "cell_type": "code",
   "execution_count": null,
   "metadata": {
    "collapsed": false
   },
   "outputs": [],
   "source": [
    "frame69.head()"
   ]
  },
  {
   "cell_type": "markdown",
   "metadata": {},
   "source": [
    "##Concatenate, Join, and Merge\n",
    "\n",
    "* ### There are two functions you can use to do this sort of merge: `join` and `merge`.\n",
    "* ### Pandas expects you to be specific about exactly what type of merge operation you would like to do.\n",
    "* ### Be aware of duplicates in your data.\n",
    "\n",
    "### Concatenate - pooling the two data frames into one."
   ]
  },
  {
   "cell_type": "code",
   "execution_count": null,
   "metadata": {
    "collapsed": false
   },
   "outputs": [],
   "source": [
    "# Concatenating the rows together\n",
    "concat_rows = pd.concat([frame68, frame69])\n",
    "print(frame68.shape, frame69.shape, concat_rows.shape)"
   ]
  },
  {
   "cell_type": "code",
   "execution_count": null,
   "metadata": {
    "collapsed": false
   },
   "outputs": [],
   "source": [
    "# Why is there a new columns?\n",
    "concat_rows"
   ]
  },
  {
   "cell_type": "code",
   "execution_count": null,
   "metadata": {
    "collapsed": true
   },
   "outputs": [],
   "source": [
    "# Simply append\n",
    "concat_rows = frame68.append(frame69)"
   ]
  },
  {
   "cell_type": "code",
   "execution_count": null,
   "metadata": {
    "collapsed": false
   },
   "outputs": [],
   "source": [
    "# Fixing the index\n",
    "concat_rows = pd.concat([frame68, frame69], ignore_index=True)\n",
    "concat_rows"
   ]
  },
  {
   "cell_type": "code",
   "execution_count": null,
   "metadata": {
    "collapsed": false
   },
   "outputs": [],
   "source": [
    "# Concatenate columns NOTE: Watch out for the index!\n",
    "temp68 = frame68.set_index('fam_id')\n",
    "temp69 = frame69.set_index('fam_id')\n",
    "concat_cols = pd.concat([temp68, temp69], axis=1)\n",
    "concat_cols.head()"
   ]
  },
  {
   "cell_type": "code",
   "execution_count": null,
   "metadata": {
    "collapsed": false
   },
   "outputs": [],
   "source": [
    "#Fixing column names\n",
    "concat_cols.columns = ['foodc68',\n",
    "                       'head_hourly_wage68',\n",
    "                       'head_educ68',\n",
    "                       'wife_educ68',\n",
    "                       'year68',\n",
    "                       'foodc69',\n",
    "                       'head_hourly_wage69',\n",
    "                       'head_educ69', \n",
    "                       'year69']\n",
    "concat_cols.tail()"
   ]
  },
  {
   "cell_type": "markdown",
   "metadata": {},
   "source": [
    "### Join and Merge\n",
    "\n",
    "* **one-to-one** - Refers to merging two data frames by finding exact matches of the key columns.\n",
    "* **many-to-one** - When the key on one object could contain repetitions.  For instance, a column of group means being joined to a DataFrame containing individual observations.\n",
    "* **many-to-many** - This is the case when you would like to merge several columns on several keys.  In this case, there could even be repition in some of the keys, in which case the merge method will determine which indices to repeat.\n",
    "\n",
    "Methods:\n",
    "\n",
    "* **left** - Use key from left frame.\n",
    "* **right** - Use key from right frame.\n",
    "* **inner** - Keep only the intersection of keys.\n",
    "* **outer** - Keep the union of keys.\n"
   ]
  },
  {
   "cell_type": "code",
   "execution_count": null,
   "metadata": {
    "collapsed": false
   },
   "outputs": [],
   "source": [
    "# A simple example of left, right, inner, and outer\n",
    "a = pd.DataFrame({'A': [1, 2], 'B': [3, 4]})\n",
    "b = pd.DataFrame({'C': [1]})"
   ]
  },
  {
   "cell_type": "code",
   "execution_count": null,
   "metadata": {
    "collapsed": false
   },
   "outputs": [],
   "source": [
    "a"
   ]
  },
  {
   "cell_type": "code",
   "execution_count": null,
   "metadata": {
    "collapsed": false
   },
   "outputs": [],
   "source": [
    "b"
   ]
  },
  {
   "cell_type": "code",
   "execution_count": null,
   "metadata": {
    "collapsed": false
   },
   "outputs": [],
   "source": [
    "# left join\n",
    "a.join(b, how='left')"
   ]
  },
  {
   "cell_type": "code",
   "execution_count": null,
   "metadata": {
    "collapsed": false
   },
   "outputs": [],
   "source": [
    "# right join\n",
    "a.join(b, how='right')"
   ]
  },
  {
   "cell_type": "code",
   "execution_count": null,
   "metadata": {
    "collapsed": false
   },
   "outputs": [],
   "source": [
    "#To make this more interesting...\n",
    "#b['D'] = 2\n",
    "#b = b.set_index(b['D'])\n",
    "# inner join\n",
    "a.join(b, how='inner')"
   ]
  },
  {
   "cell_type": "code",
   "execution_count": null,
   "metadata": {
    "collapsed": false
   },
   "outputs": [],
   "source": [
    "# outer join\n",
    "a.join(b, how='outer')"
   ]
  },
  {
   "cell_type": "code",
   "execution_count": null,
   "metadata": {
    "collapsed": false
   },
   "outputs": [],
   "source": [
    "temp68 = frame68.set_index('fam_id')\n",
    "temp69 = frame69.set_index('fam_id')\n",
    "\n",
    "#This produces an error!\n",
    "join1 = temp68.join(temp69)"
   ]
  },
  {
   "cell_type": "markdown",
   "metadata": {},
   "source": [
    "### Join notices the problem of the column names and requires you to specify a suffix"
   ]
  },
  {
   "cell_type": "code",
   "execution_count": null,
   "metadata": {
    "collapsed": false
   },
   "outputs": [],
   "source": [
    "join1 = temp68.join(temp69, rsuffix='69')\n",
    "join1.head()"
   ]
  },
  {
   "cell_type": "code",
   "execution_count": null,
   "metadata": {
    "collapsed": false
   },
   "outputs": [],
   "source": [
    "# Same number of rows as the left frame\n",
    "print(temp68.shape, join1.shape)"
   ]
  },
  {
   "cell_type": "code",
   "execution_count": null,
   "metadata": {
    "collapsed": false
   },
   "outputs": [],
   "source": [
    "#Right join drops entries in 68 not present in 68\n",
    "join1 = temp68.join(temp69, how='right',rsuffix='69')\n",
    "print(temp69.shape, join1.shape)\n",
    "\n",
    "#Inner join drops entries not present in both\n",
    "join1 = temp68.join(temp69, how='inner',rsuffix='69')\n",
    "print(temp68.shape, temp69.shape, join1.shape)\n",
    "\n",
    "#Outer join keeps all entries\n",
    "join1 = temp68.join(temp69, how='outer',rsuffix='69')\n",
    "print(temp68.shape, temp69.shape, join1.shape)"
   ]
  },
  {
   "cell_type": "markdown",
   "metadata": {},
   "source": [
    "### Merge accomplishes the same thing, but is more flexible"
   ]
  },
  {
   "cell_type": "code",
   "execution_count": null,
   "metadata": {
    "collapsed": false
   },
   "outputs": [],
   "source": [
    "#Right merge drops entries in 68 not present in 68\n",
    "merge1 = pd.merge(temp68.reset_index(), temp69.reset_index(),\n",
    "                  how='right', on='fam_id', suffixes=('', '69'))\\\n",
    "    .set_index('fam_id')\n",
    "print(temp69.shape, merge1.shape)"
   ]
  },
  {
   "cell_type": "markdown",
   "metadata": {},
   "source": [
    "###Problem solving:\n",
    "\n",
    "* #### Are your DataFrames sorted?\n",
    "* #### Are there duplicate entries in your indices?\n",
    "* #### Did you specify the right type of join?  The defualt is an inner join.  Is this what you want?"
   ]
  },
  {
   "cell_type": "markdown",
   "metadata": {},
   "source": [
    "## Groupby and Heirarchical Indexing"
   ]
  },
  {
   "cell_type": "code",
   "execution_count": null,
   "metadata": {
    "collapsed": false
   },
   "outputs": [],
   "source": [
    "# Take a concatenation of entries as our data set\n",
    "data = pd.concat([frame68, frame69], ignore_index=True).set_index('fam_id')\n",
    "data.head()"
   ]
  },
  {
   "cell_type": "markdown",
   "metadata": {},
   "source": [
    "* ####Groupby allows you to efficiently group data along almost any dimension\n",
    "* #### Creates a groupby object that avoids cluttering up the memory and name space\n",
    "* #### Allows you freedom to apply almost any function to the groups\n",
    "\n",
    "###We will study average hourly wage by husband's education group\n",
    "\n",
    "To accomplish this, we will take two steps (there may be more efficient ways to do this, but this is instructive and clear):\n",
    "\n",
    "1. Generate a vector of education level means using `groupby`.\n",
    "2. Merge this vector into the `data` DataFrame.\n",
    "\n",
    "### Groupby works in 3 steps\n",
    "1. **Split** the data into groups based on criteria.\n",
    "2. **Apply** a function to each group independently.\n",
    "3. **Combine** the results into the data structure.\n",
    "\n",
    "###Split"
   ]
  },
  {
   "cell_type": "code",
   "execution_count": null,
   "metadata": {
    "collapsed": false
   },
   "outputs": [],
   "source": [
    "grouped = data.groupby('head_educ')\n",
    "grouped"
   ]
  },
  {
   "cell_type": "markdown",
   "metadata": {},
   "source": [
    "###Apply"
   ]
  },
  {
   "cell_type": "code",
   "execution_count": null,
   "metadata": {
    "collapsed": false
   },
   "outputs": [],
   "source": [
    "# Calculate group means\n",
    "means = grouped.aggregate(np.mean)\n",
    "means"
   ]
  },
  {
   "cell_type": "code",
   "execution_count": null,
   "metadata": {
    "collapsed": false
   },
   "outputs": [],
   "source": [
    "# Other things you can do...\n",
    "# counts\n",
    "grouped.size()"
   ]
  },
  {
   "cell_type": "code",
   "execution_count": null,
   "metadata": {
    "collapsed": false
   },
   "outputs": [],
   "source": [
    "# Descriptive statistics\n",
    "grouped.describe()"
   ]
  },
  {
   "cell_type": "code",
   "execution_count": null,
   "metadata": {
    "collapsed": false
   },
   "outputs": [],
   "source": [
    "# Sums\n",
    "sums = grouped.aggregate(np.sum)\n",
    "sums"
   ]
  },
  {
   "cell_type": "code",
   "execution_count": null,
   "metadata": {
    "collapsed": false
   },
   "outputs": [],
   "source": [
    "# Or even a custom function\n",
    "null = grouped.aggregate(lambda x: np.sum(x)*0)\n",
    "null"
   ]
  },
  {
   "cell_type": "code",
   "execution_count": null,
   "metadata": {
    "collapsed": false
   },
   "outputs": [],
   "source": [
    "# Return just one column\n",
    "wage_means = grouped['head_hourly_wage'].aggregate(np.mean)\n",
    "wage_means"
   ]
  },
  {
   "cell_type": "markdown",
   "metadata": {},
   "source": [
    "### That was aggregation, can also do transformations and filtering"
   ]
  },
  {
   "cell_type": "code",
   "execution_count": null,
   "metadata": {
    "collapsed": false
   },
   "outputs": [],
   "source": [
    "#Transforming wage by taking the difference from the mean\n",
    "meandif = lambda x: x - x.mean()\n",
    "transformed = grouped['head_hourly_wage'].transform(meandif)\n",
    "print(data['head_hourly_wage'].head(),transformed.head())\n",
    "\n",
    "#Filtering out those with very low hourly wage\n",
    "filtered = grouped['head_hourly_wage'].filter(lambda x: np.mean(x) > 10.)\n",
    "print(filtered.head())"
   ]
  },
  {
   "cell_type": "markdown",
   "metadata": {},
   "source": [
    "###Combine - Once you have your means, merge them back into the data set"
   ]
  },
  {
   "cell_type": "code",
   "execution_count": null,
   "metadata": {
    "collapsed": false
   },
   "outputs": [],
   "source": [
    "#First, rename the column in wage means\n",
    "wage_means.name = 'avg_wage_educ'\n",
    "data1 = pd.merge(data.reset_index(), wage_means.reset_index(),\n",
    "                 how='left', on='head_educ').set_index('fam_id')\n",
    "data1.head()"
   ]
  },
  {
   "cell_type": "code",
   "execution_count": null,
   "metadata": {
    "collapsed": false
   },
   "outputs": [],
   "source": [
    "print(data.shape, data1.shape)\n",
    "print(wage_means)"
   ]
  },
  {
   "cell_type": "code",
   "execution_count": null,
   "metadata": {
    "collapsed": false
   },
   "outputs": [],
   "source": [
    "# Just to recap, here's what we did:\n",
    "wage_means = data.groupby('head_educ')['head_hourly_wage']\\\n",
    "    .aggregate(np.mean)\n",
    "wage_means.name = 'avg_wage_educ'\n",
    "data2 = pd.merge(data.reset_index(), wage_means.reset_index(),\n",
    "                 how='left', on='head_educ').set_index('fam_id')\n",
    "data2.head()"
   ]
  },
  {
   "cell_type": "markdown",
   "metadata": {},
   "source": [
    "##Indices and Heirarchical Indices\n",
    "\n",
    "### Selecting data from within the data frame"
   ]
  },
  {
   "cell_type": "code",
   "execution_count": null,
   "metadata": {
    "collapsed": false
   },
   "outputs": [],
   "source": [
    "# Drop wife_educ, because we are never going to use it\n",
    "data = data1.copy().drop('wife_educ', axis=1)\n",
    "\n",
    "# Selecting by column\n",
    "data['foodc'].head()"
   ]
  },
  {
   "cell_type": "code",
   "execution_count": null,
   "metadata": {
    "collapsed": false
   },
   "outputs": [],
   "source": [
    "# The same thing\n",
    "data.foodc.head()"
   ]
  },
  {
   "cell_type": "code",
   "execution_count": null,
   "metadata": {
    "collapsed": false
   },
   "outputs": [],
   "source": [
    "# Selecting by label\n",
    "data.loc[1]"
   ]
  },
  {
   "cell_type": "code",
   "execution_count": null,
   "metadata": {
    "collapsed": false
   },
   "outputs": [],
   "source": [
    "#Combining the two\n",
    "data.foodc.loc[1]"
   ]
  },
  {
   "cell_type": "code",
   "execution_count": null,
   "metadata": {
    "collapsed": false
   },
   "outputs": [],
   "source": [
    "# Slicing with loc... requires sorting!\n",
    "data.sort_index(inplace=True)\n",
    "data.foodc.loc[1:5]"
   ]
  },
  {
   "cell_type": "markdown",
   "metadata": {},
   "source": [
    "###Many Pandas methods require this, so you might think about sorting early in your analysis."
   ]
  },
  {
   "cell_type": "code",
   "execution_count": null,
   "metadata": {
    "collapsed": false
   },
   "outputs": [],
   "source": [
    "# Can use loc and array like indexing\n",
    "data.loc[1:5, 'foodc']"
   ]
  },
  {
   "cell_type": "code",
   "execution_count": null,
   "metadata": {
    "collapsed": false
   },
   "outputs": [],
   "source": [
    "# iloc is for integer labels, but acts on postion \n",
    "data.iloc[1:5]"
   ]
  },
  {
   "cell_type": "code",
   "execution_count": null,
   "metadata": {
    "collapsed": false
   },
   "outputs": [],
   "source": [
    "#Boolean indexing\n",
    "data[data.foodc > 1000][:10]"
   ]
  },
  {
   "cell_type": "markdown",
   "metadata": {},
   "source": [
    "But, you'll notice that we only dropped entries where the row had low consumption.  What if we wanted to drop both entries for a family if they had one year of low consumption.  This is where heirarchical indexing can help.\n",
    "\n",
    "Heirarchical indexing defines several layers of indices.  In our case, the natural indices are `fam_id` and `year`.  So, we can redefine the index as follows, specifying a list of index names instead of a single string:"
   ]
  },
  {
   "cell_type": "code",
   "execution_count": null,
   "metadata": {
    "collapsed": false
   },
   "outputs": [],
   "source": [
    "data = data.reset_index().set_index(['fam_id', 'year'])\n",
    "data.head()"
   ]
  },
  {
   "cell_type": "markdown",
   "metadata": {},
   "source": [
    "Notice now that the `fam_id` index spans several columns.  This is because each entry in `fam_id` is associated to several entries in `year`, which in turn are associated to individual rows.\n",
    "\n",
    "Now, we can again try the boolean indexing we had before: "
   ]
  },
  {
   "cell_type": "code",
   "execution_count": null,
   "metadata": {
    "collapsed": false
   },
   "outputs": [],
   "source": [
    "data[data.foodc > 1000][:10]"
   ]
  },
  {
   "cell_type": "markdown",
   "metadata": {},
   "source": [
    "But wait!  That didn't fix our problem!  What we need to do is retrieve the primary index of the boolean array that is returned.  What does this mean?  Let's break down the steps of a boolean heirarchical index operation.\n",
    "\n",
    "First, what does the boolean operation return?"
   ]
  },
  {
   "cell_type": "code",
   "execution_count": null,
   "metadata": {
    "collapsed": false
   },
   "outputs": [],
   "source": [
    "data.foodc > 1000"
   ]
  },
  {
   "cell_type": "code",
   "execution_count": null,
   "metadata": {
    "collapsed": false
   },
   "outputs": [],
   "source": [
    "high_food = data.foodc > 1000\n",
    "high_food.index.get_level_values('fam_id')"
   ]
  },
  {
   "cell_type": "markdown",
   "metadata": {},
   "source": [
    "It returns a multi-indexed series object containing `True` and `False` values.  We would like to use this to reference the `fam_id` index.  There are several ways we could achieve this using techniques we've already learned:\n",
    "\n",
    "1. We could use groupby and apply `any` to return a vector for any false entries.\n",
    "2. We can reindex and "
   ]
  },
  {
   "cell_type": "code",
   "execution_count": null,
   "metadata": {
    "collapsed": false
   },
   "outputs": [],
   "source": [
    "data.index.get_level_values('fam_id')"
   ]
  },
  {
   "cell_type": "code",
   "execution_count": null,
   "metadata": {
    "collapsed": false
   },
   "outputs": [],
   "source": [
    "idx = pd.IndexSlice\n",
    "high_food = data.foodc > 1000\n",
    "high_food[data.index.get_level_values('fam_id')]\n",
    "#data.loc[idx[high_food,:], :].head()\n",
    "#idx[high_food]"
   ]
  },
  {
   "cell_type": "markdown",
   "metadata": {},
   "source": [
    "NOTE:  I cant seem to get this to work, so if you want a fun homework assignment, give it a try!\n",
    "\n",
    "We could also try the groupby method:"
   ]
  },
  {
   "cell_type": "code",
   "execution_count": null,
   "metadata": {
    "collapsed": false
   },
   "outputs": [],
   "source": [
    "# Huzzah!  I think that worked!\n",
    "data.groupby(level=0).\\\n",
    "    filter(lambda x: all([v > 1000 for v in x['foodc']])).head()\n",
    "\n"
   ]
  },
  {
   "cell_type": "markdown",
   "metadata": {},
   "source": [
    "###Descriptive Statistics and Plotting"
   ]
  },
  {
   "cell_type": "code",
   "execution_count": null,
   "metadata": {
    "collapsed": false
   },
   "outputs": [],
   "source": [
    "# Pandas comes with built in descriptive statistics\n",
    "data.describe()"
   ]
  },
  {
   "cell_type": "code",
   "execution_count": null,
   "metadata": {
    "collapsed": false
   },
   "outputs": [],
   "source": [
    "# Again you can use groupby\n",
    "data.groupby('head_educ').describe()"
   ]
  },
  {
   "cell_type": "code",
   "execution_count": null,
   "metadata": {
    "collapsed": false
   },
   "outputs": [],
   "source": [
    "# To deal with plots, drop na\n",
    "data = data.dropna()"
   ]
  },
  {
   "cell_type": "code",
   "execution_count": null,
   "metadata": {
    "collapsed": false
   },
   "outputs": [],
   "source": [
    "# Pandas built in plotting\n",
    "# Note that the styling is seaborn\n",
    "data.foodc.plot(kind='hist')"
   ]
  },
  {
   "cell_type": "code",
   "execution_count": null,
   "metadata": {
    "collapsed": false
   },
   "outputs": [],
   "source": [
    "plt.hist(data.foodc.values)"
   ]
  },
  {
   "cell_type": "code",
   "execution_count": null,
   "metadata": {
    "collapsed": false
   },
   "outputs": [],
   "source": [
    "# Change number of bins\n",
    "data.foodc.plot(kind='hist', bins=20)"
   ]
  },
  {
   "cell_type": "code",
   "execution_count": null,
   "metadata": {
    "collapsed": false
   },
   "outputs": [],
   "source": [
    "# Histogram of all the variables... not so much\n",
    "data.plot(kind='hist', stacked=True, bins=20)"
   ]
  },
  {
   "cell_type": "markdown",
   "metadata": {},
   "source": [
    "### Seaborn"
   ]
  },
  {
   "cell_type": "code",
   "execution_count": null,
   "metadata": {
    "collapsed": false
   },
   "outputs": [],
   "source": [
    "# Plotting a distribution over our histogram\n",
    "sns.distplot(data.foodc)"
   ]
  },
  {
   "cell_type": "code",
   "execution_count": null,
   "metadata": {
    "collapsed": false
   },
   "outputs": [],
   "source": [
    "#Adding a 'rugplot' to the histogram\n",
    "sns.distplot(data.foodc, kde=False, rug=True)"
   ]
  },
  {
   "cell_type": "code",
   "execution_count": null,
   "metadata": {
    "collapsed": false
   },
   "outputs": [],
   "source": [
    "#Kernel density estimation\n",
    "sns.distplot(data.foodc, hist=False)"
   ]
  },
  {
   "cell_type": "code",
   "execution_count": null,
   "metadata": {
    "collapsed": false
   },
   "outputs": [],
   "source": [
    "#Using kdeplot to do the same thing, but changing the bandwidth\n",
    "sns.kdeplot(data.foodc)\n",
    "sns.kdeplot(data.foodc, bw=0.2)\n",
    "sns.kdeplot(data.foodc, bw=2)"
   ]
  },
  {
   "cell_type": "code",
   "execution_count": null,
   "metadata": {
    "collapsed": false
   },
   "outputs": [],
   "source": [
    "#Using distplot to fit a parametric distribution\n",
    "sns.distplot(data.foodc, kde=False, fit=stats.gamma)"
   ]
  },
  {
   "cell_type": "code",
   "execution_count": null,
   "metadata": {
    "collapsed": false
   },
   "outputs": [],
   "source": [
    "# seaborn makes bivariate plots really nice\n",
    "sns.jointplot(x = data.foodc, y = data.head_hourly_wage)"
   ]
  },
  {
   "cell_type": "code",
   "execution_count": null,
   "metadata": {
    "collapsed": false
   },
   "outputs": [],
   "source": [
    "# Subsetting for outliers\n",
    "sns.jointplot(x = data.foodc[data.head_hourly_wage < 80],\n",
    "              y = data.head_hourly_wage[data.head_hourly_wage < 80])"
   ]
  },
  {
   "cell_type": "code",
   "execution_count": null,
   "metadata": {
    "collapsed": false
   },
   "outputs": [],
   "source": [
    "# Further subset\n",
    "sns.jointplot(x = data.foodc[(data.head_hourly_wage < 80) &\n",
    "                             (data.head_hourly_wage > 0) &\n",
    "                             (data.foodc > 0)],\n",
    "              y = data.head_hourly_wage[(data.head_hourly_wage < 80) &\n",
    "                             (data.head_hourly_wage > 0) &\n",
    "                             (data.foodc > 0)])"
   ]
  },
  {
   "cell_type": "code",
   "execution_count": null,
   "metadata": {
    "collapsed": false
   },
   "outputs": [],
   "source": [
    "# Kernel dinsity\n",
    "sns.jointplot(x = data.foodc[(data.head_hourly_wage < 80) &\n",
    "                             (data.head_hourly_wage > 0) &\n",
    "                             (data.foodc > 0)],\n",
    "              y = data.head_hourly_wage[(data.head_hourly_wage < 80) &\n",
    "                             (data.head_hourly_wage > 0) &\n",
    "                             (data.foodc > 0)],\n",
    "              kind = 'kde')"
   ]
  },
  {
   "cell_type": "code",
   "execution_count": null,
   "metadata": {
    "collapsed": false
   },
   "outputs": [],
   "source": [
    "# Pairwise plot\n",
    "sns.pairplot(data)"
   ]
  },
  {
   "cell_type": "markdown",
   "metadata": {},
   "source": [
    "### Subgroup plotting using FacetGrit"
   ]
  },
  {
   "cell_type": "code",
   "execution_count": null,
   "metadata": {
    "collapsed": false
   },
   "outputs": [],
   "source": [
    "#First, let's generate a subset of data we are interested in\n",
    "#NOTE: Here I'm resetting the index so I can use it more easily,\n",
    "#I'm completely ignoring the fact that subsetting the data in\n",
    "#this way drops observations... don't worry about it, just enjoy\n",
    "#the pretty pictures.\n",
    "subset = pd.DataFrame(data[(data.head_hourly_wage < 20) &\n",
    "                           (data.head_hourly_wage > 0) &\n",
    "                           (data.foodc > 0)].reset_index())\n",
    "\n",
    "g = sns.FacetGrid(subset, col='year', hue='head_educ')\n",
    "g.map(plt.scatter, 'foodc', 'head_hourly_wage')"
   ]
  },
  {
   "cell_type": "code",
   "execution_count": null,
   "metadata": {
    "collapsed": false
   },
   "outputs": [],
   "source": [
    "#We can also make the dots more transparent using the `alpha`\n",
    "#argument, which is available for almost all plotting using\n",
    "#matplotlib\n",
    "#Here we'll pool all observations together\n",
    "g = sns.FacetGrid(subset, hue='head_educ')\n",
    "g.map(plt.scatter, 'foodc', 'head_hourly_wage', alpha = 0.5)"
   ]
  },
  {
   "cell_type": "code",
   "execution_count": null,
   "metadata": {
    "collapsed": false
   },
   "outputs": [],
   "source": [
    "# Regression plotting\n",
    "sns.regplot(x = subset.foodc, y = subset.head_hourly_wage)"
   ]
  },
  {
   "cell_type": "code",
   "execution_count": null,
   "metadata": {
    "collapsed": false
   },
   "outputs": [],
   "source": [
    "# Linear model plotting\n",
    "# NOTE: lml uses Facet Grid\n",
    "sns.lmplot(x = 'foodc', y = 'head_hourly_wage', data = subset)"
   ]
  },
  {
   "cell_type": "code",
   "execution_count": null,
   "metadata": {
    "collapsed": false
   },
   "outputs": [],
   "source": [
    "sns.lmplot(x = 'foodc', y = 'head_hourly_wage', hue='head_educ',\n",
    "           data = subset)"
   ]
  },
  {
   "cell_type": "code",
   "execution_count": null,
   "metadata": {
    "collapsed": false
   },
   "outputs": [],
   "source": [
    "# Splitting to columns\n",
    "sns.lmplot(x = 'foodc', y = 'head_hourly_wage', col = 'head_educ',\n",
    "           hue='head_educ', data = subset)"
   ]
  },
  {
   "cell_type": "code",
   "execution_count": null,
   "metadata": {
    "collapsed": false
   },
   "outputs": [],
   "source": [
    "#... which is kind of small, so you could also do it as rows\n",
    "sns.lmplot(x = 'foodc', y = 'head_hourly_wage', row = 'head_educ',\n",
    "           hue='head_educ', data = subset)"
   ]
  },
  {
   "cell_type": "markdown",
   "metadata": {},
   "source": [
    "## A Taste of Statistics Using StatsModles\n",
    "\n",
    "* ### Written by econoetricians\n",
    "* ### Works similar to R (in fact patsy allows you to input r like model formulae)\n",
    "* ### Development is fairly active, but documentation is not so nice"
   ]
  },
  {
   "cell_type": "code",
   "execution_count": null,
   "metadata": {
    "collapsed": false
   },
   "outputs": [],
   "source": [
    "model = sm.OLS(subset.foodc, subset.head_hourly_wage)\n",
    "results = model.fit()\n",
    "print(results.summary())"
   ]
  },
  {
   "cell_type": "code",
   "execution_count": null,
   "metadata": {
    "collapsed": false
   },
   "outputs": [],
   "source": [
    "# Using dummies for education\n",
    "X = pd.concat([subset.head_hourly_wage,\n",
    "               pd.get_dummies(subset.head_educ)], axis = 1)\n",
    "model = sm.OLS(subset.foodc, X)\n",
    "results = model.fit()\n",
    "print(results.summary())"
   ]
  },
  {
   "cell_type": "markdown",
   "metadata": {},
   "source": [
    "Sadly, we are running out of time, but StatsModels offers many other models to estimate.  These include the following, but the number is still growing:\n",
    "\n",
    "* Linear regression\n",
    "* General linear models\n",
    "* Robust linear models\n",
    "* Linear mixed effects models\n",
    "* Discrete models\n",
    "* Time series models\n",
    "* Survival and duration models\n",
    "* Nonparameteric methods\n",
    "* GMM\n",
    "* Empirical likelyhood\n",
    "\n",
    "### Matplotlibrc\n",
    "\n",
    "The last thing I'd like to mention is the `matplotlibrc` file.  This is loaded when you import matplotlib and sets the default parameters for your plots.  For instance, if you prefer to have a grid on your plots, you can set this automatically.\n",
    "\n",
    "According to the matplotlib documentation, you should save the file in one of the following places:\n",
    "\n",
    "* For linux: `~.config/matplotlib/matplotlibrc`\n",
    "* For other: `.matplotlib/matplotlibrc`\n",
    "\n",
    "You can also find the system file in one of the following places\n",
    "\n",
    "* For linux: `/usr/lib/pythonX.X/site-packages/matplotlib/mpl-data/matplotlibrc`\n",
    "* For windows: `C:\\PythonXX\\Lib\\site-packages\\matplotlib\\mpl-data\\matplotlibrc`\n",
    "\n",
    "The system file can serve as a template for your own custom one, which should be saved in the former folder.  I'll paste here (well, ater this text) my own so you can see an example (it's quite long).\n",
    "\n",
    "In this file you can set a plethora of tiny details that might interest you.  I encourage you to take a look and set your own, as it will help you to understand all that matplotlib can do."
   ]
  },
  {
   "cell_type": "code",
   "execution_count": null,
   "metadata": {
    "collapsed": true
   },
   "outputs": [],
   "source": [
    "### MATPLOTLIBRC FORMAT\n",
    "\n",
    "# This is a sample matplotlib configuration file - you can find a copy\n",
    "# of it on your system in\n",
    "# site-packages/matplotlib/mpl-data/matplotlibrc.  If you edit it\n",
    "# there, please note that it will be overwritten in your next install.\n",
    "# If you want to keep a permanent local copy that will not be\n",
    "# overwritten, place it in the following location:\n",
    "# unix/linux:\n",
    "#     $HOME/.config/matplotlib/matplotlibrc or\n",
    "#     $XDG_CONFIG_HOME/matplotlib/matplotlibrc (if $XDG_CONFIG_HOME is set)\n",
    "# other platforms:\n",
    "#     $HOME/.matplotlib/matplotlibrc\n",
    "#\n",
    "# See http://matplotlib.org/users/customizing.html#the-matplotlibrc-file for\n",
    "# more details on the paths which are checked for the configuration file.\n",
    "#\n",
    "# This file is best viewed in a editor which supports python mode\n",
    "# syntax highlighting. Blank lines, or lines starting with a comment\n",
    "# symbol, are ignored, as are trailing comments.  Other lines must\n",
    "# have the format\n",
    "#    key : val # optional comment\n",
    "#\n",
    "# Colors: for the color values below, you can either use - a\n",
    "# matplotlib color string, such as r, k, or b - an rgb tuple, such as\n",
    "# (1.0, 0.5, 0.0) - a hex string, such as ff00ff or #ff00ff - a scalar\n",
    "# grayscale intensity such as 0.75 - a legal html color name, e.g., red,\n",
    "# blue, darkslategray\n",
    "\n",
    "#### CONFIGURATION BEGINS HERE\n",
    "\n",
    "# The default backend; one of GTK GTKAgg GTKCairo GTK3Agg GTK3Cairo\n",
    "# CocoaAgg MacOSX Qt4Agg Qt5Agg TkAgg WX WXAgg Agg Cairo GDK PS PDF SVG\n",
    "# Template.\n",
    "# You can also deploy your own backend outside of matplotlib by\n",
    "# referring to the module name (which must be in the PYTHONPATH) as\n",
    "# 'module://my_backend'.\n",
    "backend      : qt4agg\n",
    "\n",
    "# If you are using the Qt4Agg backend, you can choose here\n",
    "# to use the PyQt4 bindings or the newer PySide bindings to\n",
    "# the underlying Qt4 toolkit.\n",
    "#backend.qt4 : PyQt4        # PyQt4 | PySide\n",
    "\n",
    "# Note that this can be overridden by the environment variable\n",
    "# QT_API used by Enthought Tool Suite (ETS); valid values are\n",
    "# \"pyqt\" and \"pyside\".  The \"pyqt\" setting has the side effect of\n",
    "# forcing the use of Version 2 API for QString and QVariant.\n",
    "\n",
    "# The port to use for the web server in the WebAgg backend.\n",
    "# webagg.port : 8888\n",
    "\n",
    "# If webagg.port is unavailable, a number of other random ports will\n",
    "# be tried until one that is available is found.\n",
    "# webagg.port_retries : 50\n",
    "\n",
    "# When True, open the webbrowser to the plot that is shown\n",
    "# webagg.open_in_browser : True\n",
    "\n",
    "# When True, the figures rendered in the nbagg backend are created with\n",
    "# a transparent background.\n",
    "# nbagg.transparent : True\n",
    "\n",
    "# if you are running pyplot inside a GUI and your backend choice\n",
    "# conflicts, we will automatically try to find a compatible one for\n",
    "# you if backend_fallback is True\n",
    "#backend_fallback: True\n",
    "\n",
    "#interactive  : False\n",
    "#toolbar      : toolbar2   # None | toolbar2  (\"classic\" is deprecated)\n",
    "#timezone     : UTC        # a pytz timezone string, e.g., US/Central or Europe/Paris\n",
    "\n",
    "# Where your matplotlib data lives if you installed to a non-default\n",
    "# location.  This is where the matplotlib fonts, bitmaps, etc reside\n",
    "#datapath : /home/jdhunter/mpldata\n",
    "\n",
    "### LINES\n",
    "# See http://matplotlib.org/api/artist_api.html#module-matplotlib.lines for more\n",
    "# information on line properties.\n",
    "lines.linewidth   : 2.0     # line width in points\n",
    "#lines.linestyle   : -       # solid line\n",
    "#lines.color       : blue    # has no affect on plot(); see axes.color_cycle\n",
    "#lines.marker      : None    # the default marker\n",
    "#lines.markeredgewidth  : 0.5     # the line width around the marker symbol\n",
    "#lines.markersize  : 6            # markersize, in points\n",
    "#lines.dash_joinstyle : miter        # miter|round|bevel\n",
    "#lines.dash_capstyle : butt          # butt|round|projecting\n",
    "#lines.solid_joinstyle : miter       # miter|round|bevel\n",
    "#lines.solid_capstyle : projecting   # butt|round|projecting\n",
    "lines.antialiased : True         # render lines in antialised (no jaggies)\n",
    "\n",
    "### PATCHES\n",
    "# Patches are graphical objects that fill 2D space, like polygons or\n",
    "# circles.  See\n",
    "# http://matplotlib.org/api/artist_api.html#module-matplotlib.patches\n",
    "# information on patch properties\n",
    "#patch.linewidth        : 1.0     # edge width in points\n",
    "#patch.facecolor        : blue\n",
    "#patch.edgecolor        : black\n",
    "#patch.antialiased      : True    # render patches in antialised (no jaggies)\n",
    "patch.linewidth        : 0.5     # edge width in points\n",
    "patch.facecolor        : a6cee3\n",
    "patch.edgecolor        : eeeeee\n",
    "patch.antialiased      : True    # render patches in antialised (no jaggies)\n",
    "\n",
    "### FONT\n",
    "#\n",
    "# font properties used by text.Text.  See\n",
    "# http://matplotlib.org/api/font_manager_api.html for more\n",
    "# information on font properties.  The 6 font properties used for font\n",
    "# matching are given below with their default values.\n",
    "#\n",
    "# The font.family property has five values: 'serif' (e.g., Times),\n",
    "# 'sans-serif' (e.g., Helvetica), 'cursive' (e.g., Zapf-Chancery),\n",
    "# 'fantasy' (e.g., Western), and 'monospace' (e.g., Courier).  Each of\n",
    "# these font families has a default list of font names in decreasing\n",
    "# order of priority associated with them.  When text.usetex is False,\n",
    "# font.family may also be one or more concrete font names.\n",
    "#\n",
    "# The font.style property has three values: normal (or roman), italic\n",
    "# or oblique.  The oblique style will be used for italic, if it is not\n",
    "# present.\n",
    "#\n",
    "# The font.variant property has two values: normal or small-caps.  For\n",
    "# TrueType fonts, which are scalable fonts, small-caps is equivalent\n",
    "# to using a font size of 'smaller', or about 83% of the current font\n",
    "# size.\n",
    "#\n",
    "# The font.weight property has effectively 13 values: normal, bold,\n",
    "# bolder, lighter, 100, 200, 300, ..., 900.  Normal is the same as\n",
    "# 400, and bold is 700.  bolder and lighter are relative values with\n",
    "# respect to the current weight.\n",
    "#\n",
    "# The font.stretch property has 11 values: ultra-condensed,\n",
    "# extra-condensed, condensed, semi-condensed, normal, semi-expanded,\n",
    "# expanded, extra-expanded, ultra-expanded, wider, and narrower.  This\n",
    "# property is not currently implemented.\n",
    "#\n",
    "# The font.size property is the default font size for text, given in pts.\n",
    "# 12pt is the standard value.\n",
    "#\n",
    "#font.family         : sans-serif\n",
    "font.family         : serif\n",
    "#font.style          : normal\n",
    "#font.variant        : normal\n",
    "font.weight         : 100\n",
    "#font.stretch        : normal\n",
    "# note that font.size controls default text sizes.  To configure\n",
    "# special text sizes tick labels, axes, labels, title, etc, see the rc\n",
    "# settings for axes and ticks. Special text sizes can be defined\n",
    "# relative to font.size, using the following values: xx-small, x-small,\n",
    "# small, medium, large, x-large, xx-large, larger, or smaller\n",
    "font.size           : 12.0\n",
    "font.serif          : Bitstream Vera Serif, New Century Schoolbook, Century Schoolbook L, Utopia, ITC Bookman, Bookman, Nimbus Roman No9 L, Times New Roman, Times, Palatino, Charter, serif\n",
    "#font.sans-serif     : Bitstream Vera Sans, Lucida Grande, Verdana, Geneva, Lucid, Arial, Helvetica, Avant Garde, sans-serif\n",
    "#font.cursive        : Apple Chancery, Textile, Zapf Chancery, Sand, cursive\n",
    "#font.fantasy        : Comic Sans MS, Chicago, Charcoal, Impact, Western, fantasy\n",
    "#font.monospace      : Bitstream Vera Sans Mono, Andale Mono, Nimbus Mono L, Courier New, Courier, Fixed, Terminal, monospace\n",
    "\n",
    "### TEXT\n",
    "# text properties used by text.Text.  See\n",
    "# http://matplotlib.org/api/artist_api.html#module-matplotlib.text for more\n",
    "# information on text properties\n",
    "\n",
    "#text.color          : black\n",
    "text.color          : 555555\n",
    "\n",
    "### LaTeX customizations. See http://www.scipy.org/Wiki/Cookbook/Matplotlib/UsingTex\n",
    "#text.usetex         : False  # use latex for all text handling. The following fonts\n",
    "                              # are supported through the usual rc parameter settings:\n",
    "                              # new century schoolbook, bookman, times, palatino,\n",
    "                              # zapf chancery, charter, serif, sans-serif, helvetica,\n",
    "                              # avant garde, courier, monospace, computer modern roman,\n",
    "                              # computer modern sans serif, computer modern typewriter\n",
    "                              # If another font is desired which can loaded using the\n",
    "                              # LaTeX \\usepackage command, please inquire at the\n",
    "                              # matplotlib mailing list\n",
    "#text.latex.unicode : False # use \"ucs\" and \"inputenc\" LaTeX packages for handling\n",
    "                            # unicode strings.\n",
    "#text.latex.preamble :  # IMPROPER USE OF THIS FEATURE WILL LEAD TO LATEX FAILURES\n",
    "                            # AND IS THEREFORE UNSUPPORTED. PLEASE DO NOT ASK FOR HELP\n",
    "                            # IF THIS FEATURE DOES NOT DO WHAT YOU EXPECT IT TO.\n",
    "                            # preamble is a comma separated list of LaTeX statements\n",
    "                            # that are included in the LaTeX document preamble.\n",
    "                            # An example:\n",
    "                            # text.latex.preamble : \\usepackage{bm},\\usepackage{euler}\n",
    "                            # The following packages are always loaded with usetex, so\n",
    "                            # beware of package collisions: color, geometry, graphicx,\n",
    "                            # type1cm, textcomp. Adobe Postscript (PSSNFS) font packages\n",
    "                            # may also be loaded, depending on your font settings\n",
    "\n",
    "#text.dvipnghack : None      # some versions of dvipng don't handle alpha\n",
    "                             # channel properly.  Use True to correct\n",
    "                             # and flush ~/.matplotlib/tex.cache\n",
    "                             # before testing and False to force\n",
    "                             # correction off.  None will try and\n",
    "                             # guess based on your dvipng version\n",
    "\n",
    "#text.hinting : auto   # May be one of the following:\n",
    "                       #   'none': Perform no hinting\n",
    "                       #   'auto': Use freetype's autohinter\n",
    "                       #   'native': Use the hinting information in the\n",
    "                       #             font file, if available, and if your\n",
    "                       #             freetype library supports it\n",
    "                       #   'either': Use the native hinting information,\n",
    "                       #             or the autohinter if none is available.\n",
    "                       # For backward compatibility, this value may also be\n",
    "                       # True === 'auto' or False === 'none'.\n",
    "#text.hinting_factor : 8 # Specifies the amount of softness for hinting in the\n",
    "                         # horizontal direction.  A value of 1 will hint to full\n",
    "                         # pixels.  A value of 2 will hint to half pixels etc.\n",
    "\n",
    "#text.antialiased : True # If True (default), the text will be antialiased.\n",
    "                         # This only affects the Agg backend.\n",
    "\n",
    "# The following settings allow you to select the fonts in math mode.\n",
    "# They map from a TeX font name to a fontconfig font pattern.\n",
    "# These settings are only used if mathtext.fontset is 'custom'.\n",
    "# Note that this \"custom\" mode is unsupported and may go away in the\n",
    "# future.\n",
    "#mathtext.cal : cursive\n",
    "#mathtext.rm  : serif\n",
    "#mathtext.tt  : monospace\n",
    "#mathtext.it  : serif:italic\n",
    "#mathtext.bf  : serif:bold\n",
    "#mathtext.sf  : sans\n",
    "#mathtext.fontset : cm # Should be 'cm' (Computer Modern), 'stix',\n",
    "                       # 'stixsans' or 'custom'\n",
    "#mathtext.fallback_to_cm : True  # When True, use symbols from the Computer Modern\n",
    "                                 # fonts when a symbol can not be found in one of\n",
    "                                 # the custom math fonts.\n",
    "\n",
    "#mathtext.default : it # The default font to use for math.\n",
    "                       # Can be any of the LaTeX font names, including\n",
    "                       # the special name \"regular\" for the same font\n",
    "                       # used in regular text.\n",
    "\n",
    "### AXES\n",
    "# default face and edge color, default tick sizes,\n",
    "# default fontsizes for ticklabels, and so on.  See\n",
    "# http://matplotlib.org/api/axes_api.html#module-matplotlib.axes\n",
    "\n",
    "\n",
    "image.cmap      :   coolwarm    #use this colormap for surface plotting... I hope!\n",
    "#axes.hold           : True    # whether to clear the axes by default on\n",
    "#axes.facecolor      : white   # axes background color\n",
    "axes.facecolor      : eeeeee   # axes background color\n",
    "#axes.edgecolor      : black   # axes edge color\n",
    "#axes.edgecolor      : bcbcbc   # axes edge color\n",
    "axes.edgecolor      : 555555   # axes edge color\n",
    "axes.linewidth      : 1.0     # edge linewidth\n",
    "#axes.grid           : False   # display grid or not\n",
    "axes.titlesize      : x-large   # fontsize of the axes title\n",
    "axes.labelsize      : large  # fontsize of the x any y labels\n",
    "#axes.labelweight    : normal  # weight of the x and y labels\n",
    "axes.labelcolor     : 555555\n",
    "axes.axisbelow      : True   # whether axis gridlines and ticks are below\n",
    "                               # the axes elements (lines, text, etc)\n",
    "\n",
    "#axes.formatter.limits : -7, 7 # use scientific notation if log10\n",
    "                               # of the axis range is smaller than the\n",
    "                               # first or larger than the second\n",
    "#axes.formatter.use_locale : False # When True, format tick labels\n",
    "                                   # according to the user's locale.\n",
    "                                   # For example, use ',' as a decimal\n",
    "                                   # separator in the fr_FR locale.\n",
    "#axes.formatter.use_mathtext : False # When True, use mathtext for scientific\n",
    "                                     # notation.\n",
    "#axes.formatter.useoffset      : True    # If True, the tick label formatter\n",
    "                                         # will default to labeling ticks relative\n",
    "                                         # to an offset when the data range is very\n",
    "                                         # small compared to the minimum absolute\n",
    "                                         # value of the data.\n",
    "\n",
    "#axes.unicode_minus  : True    # use unicode for the minus symbol\n",
    "                               # rather than hyphen.  See\n",
    "                               # http://en.wikipedia.org/wiki/Plus_and_minus_signs#Character_codes\n",
    "#axes.color_cycle    : b, g, r, c, m, y, k  # color cycle for plot lines\n",
    "                                            # as list of string colorspecs:\n",
    "                                            # single letter, long name, or\n",
    "                                            # web-style hex\n",
    "#axes.color_cycle    : 3b4cc0, 5d7ce6, 82a6fb, aac7fd, cdd9ec, ead4c8, f7b89c, f18d6f, d95847, b40426  # A colorcycle generated from the 'coolwarm' colormap using the commands C = [matplotlib.cm.get_cmap('coolwarm')(k) for k in linspace(0,1,10)]; [matplotlib.colors.rgb2hex(C[k]) for k in range(0,10)]    \n",
    "#axes.color_cycle    : 1b9e77, ad6e1d, a36861, 9b58a5, da367f, 739929, bba90b, c8920e, 97722e, 666666    # \" 'Dark2 colormap \n",
    "#axes.color_cycle    : 0b0000, 540000, 9e0000, ea0000, ff3400, ff8000, ffca00, ffff22, ffff91, ffffff    # \" 'hot' colormap\n",
    "#axes.color_cycle    : ff0000, ff4000, ff8000, ffc000, ffff00 # \" 'autumn' colormap\n",
    "#axes.color_cycle    :   000000, 4f3220, 9e6440, ed9660, ffc77f # \" 'copper' colormap\n",
    "#axes.color_cycle    : 333399, 01cc66, fefe98, 815e56, ffffff # \" 'terrain' colormap\n",
    "#axes.color_cycle    : 000000, 6701db, 9309dd, b52000, d04c00, e99500, ffff00 #'gnuplot' colormap\n",
    "#axes.color_cycle    : 000000, 0000a8, 4200ff, c92ad5, ff7e81, ffd42b, ffffff # 'gnuplot2' colormap\n",
    "#axes.color_cycle    : a6cee3, 1f78b4, b2df8a, 33a02c, fb9a99, e31a1c #custom from colorbrewer2.org NOTE: PREFERRED LIGHT COLORS\n",
    "#axes.color_cycle    : e41a1c, 377eb8, 4daf4a, 984ea3, ff7f00, ffff33, a65628\n",
    "#axes.color_cycle    : 3e3d4c, 114488, 551188, 2b2b2b, 1104fb, 111011, 8888aa #Custom from palletton.com\n",
    "#axes.color_cycle    : e34848, 2b8888, 3ab53a, d46f1c, d41c1c, 117f7f, 16a916, 6b3100, 004040, 6b0000, 005600 #palleton\n",
    "axes.color_cycle    : 005757, e34848, e38e48, 2b8888, 3ab53a, 000000 #palleton\n",
    "#axes.color_cycle    : a6cee3, 1f78b4, b2df8a, 33a02c #custom. colorblind safe\n",
    "\n",
    "#axes.xmargin        : 0  # x margin.  See `axes.Axes.margins`\n",
    "#axes.ymargin        : 0  # y margin See `axes.Axes.margins`\n",
    "\n",
    "#polaraxes.grid      : True    # display grid on polar axes\n",
    "#axes3d.grid         : True    # display grid on 3d axes\n",
    "\n",
    "### TICKS\n",
    "# see http://matplotlib.org/api/axis_api.html#matplotlib.axis.Tick\n",
    "#xtick.major.size     : 4      # major tick size in points\n",
    "#xtick.minor.size     : 2      # minor tick size in points\n",
    "#xtick.major.width    : 0.5    # major tick width in points\n",
    "#xtick.minor.width    : 0.5    # minor tick width in points\n",
    "#xtick.major.pad      : 4      # distance to major tick label in points\n",
    "#xtick.minor.pad      : 4      # distance to the minor tick label in points\n",
    "#xtick.color          : k      # color of the tick labels\n",
    "#xtick.labelsize      : medium # fontsize of the tick labels\n",
    "#xtick.direction      : in     # direction: in, out, or inout\n",
    "\n",
    "xtick.major.size     : 4      # major tick size in points\n",
    "xtick.minor.size     : 4      # minor tick size in points\n",
    "#xtick.major.width    : 0.5    # major tick width in points\n",
    "#xtick.minor.width    : 0.5    # minor tick width in points\n",
    "xtick.major.pad      : 6      # distance to major tick label in points\n",
    "xtick.minor.pad      : 6      # distance to the minor tick label in points\n",
    "xtick.color          : 555555      # color of the tick labels\n",
    "xtick.labelsize      : small # fontsize of the tick labels\n",
    "xtick.direction      : in     # direction: in, out, or inout\n",
    "\n",
    "#ytick.major.size     : 4      # major tick size in points\n",
    "#ytick.minor.size     : 2      # minor tick size in points\n",
    "#ytick.major.width    : 0.5    # major tick width in points\n",
    "#ytick.minor.width    : 0.5    # minor tick width in points\n",
    "#ytick.major.pad      : 4      # distance to major tick label in points\n",
    "#ytick.minor.pad      : 4      # distance to the minor tick label in points\n",
    "#ytick.color          : k      # color of the tick labels\n",
    "#ytick.labelsize      : medium # fontsize of the tick labels\n",
    "#ytick.direction      : in     # direction: in, out, or inout\n",
    "\n",
    "ytick.major.size     : 4      # major tick size in points\n",
    "ytick.minor.size     : 4      # minor tick size in points\n",
    "#ytick.major.width    : 0.5    # major tick width in points\n",
    "#ytick.minor.width    : 0.5    # minor tick width in points\n",
    "ytick.major.pad      : 6      # distance to major tick label in points\n",
    "ytick.minor.pad      : 6      # distance to the minor tick label in points\n",
    "ytick.color          : 555555      # color of the tick labels\n",
    "ytick.labelsize      : small # fontsize of the tick labels\n",
    "ytick.direction      : in     # direction: in, out, or inout\n",
    "\n",
    "\n",
    "### GRIDS\n",
    "#grid.color       :   black   # grid color\n",
    "#grid.linestyle   :   :       # dotted\n",
    "#grid.linewidth   :   0.5     # in points\n",
    "#grid.alpha       :   1.0     # transparency, between 0.0 and 1.0\n",
    "\n",
    "### Legend\n",
    "#legend.fancybox      : False  # if True, use a rounded box for the\n",
    "                               # legend, else a rectangle\n",
    "#legend.isaxes        : True\n",
    "#legend.numpoints     : 2      # the number of points in the legend line\n",
    "legend.fontsize      : small\n",
    "#legend.borderpad     : 0.5    # border whitespace in fontsize units\n",
    "#legend.markerscale   : 1.0    # the relative size of legend markers vs. original\n",
    "# the following dimensions are in axes coords\n",
    "#legend.labelspacing  : 0.5    # the vertical space between the legend entries in fraction of fontsize\n",
    "#legend.handlelength  : 2.     # the length of the legend lines in fraction of fontsize\n",
    "#legend.handleheight  : 0.7     # the height of the legend handle in fraction of fontsize\n",
    "#legend.handletextpad : 0.8    # the space between the legend line and legend text in fraction of fontsize\n",
    "#legend.borderaxespad : 0.5   # the border between the axes and legend edge in fraction of fontsize\n",
    "#legend.columnspacing : 2.    # the border between the axes and legend edge in fraction of fontsize\n",
    "#legend.shadow        : False\n",
    "#legend.frameon       : True   # whether or not to draw a frame around legend\n",
    "#legend.framealpha    : None    # opacity of of legend frame\n",
    "#legend.scatterpoints : 3 # number of scatter points\n",
    "\n",
    "### FIGURE\n",
    "# See http://matplotlib.org/api/figure_api.html#matplotlib.figure.Figure\n",
    "figure.figsize   : 10, 11    # figure size in inches\n",
    "#figure.dpi       : 80      # figure dots per inch\n",
    "#figure.facecolor : 0.75    # figure facecolor; 0.75 is scalar gray\n",
    "figure.facecolor : 0.85    # figure facecolor; 0.75 is scalar gray\n",
    "#figure.edgecolor : white   # figure edgecolor\n",
    "figure.edgecolor : 0.5   # figure edgecolor\n",
    "figure.autolayout : True  # When True, automatically adjust subplot\n",
    "                            # parameters to make the plot fit the figure\n",
    "#figure.max_open_warning : 20  # The maximum number of figures to open through\n",
    "                               # the pyplot interface before emitting a warning.\n",
    "                               # If less than one this feature is disabled.\n",
    "\n",
    "# The figure subplot parameters.  All dimensions are a fraction of the\n",
    "# figure width or height\n",
    "#figure.subplot.left    : 0.125  # the left side of the subplots of the figure\n",
    "#figure.subplot.right   : 0.9    # the right side of the subplots of the figure\n",
    "#figure.subplot.bottom  : 0.1    # the bottom of the subplots of the figure\n",
    "#figure.subplot.top     : 0.9    # the top of the subplots of the figure\n",
    "#figure.subplot.wspace  : 0.2    # the amount of width reserved for blank space between subplots\n",
    "figure.subplot.hspace  : 0.5    # the amount of height reserved for white space between subplots\n",
    "\n",
    "### IMAGES\n",
    "#image.aspect : equal             # equal | auto | a number\n",
    "#image.interpolation  : bilinear  # see help(imshow) for options\n",
    "#image.cmap   : jet               # gray | jet etc...\n",
    "#image.lut    : 256               # the size of the colormap lookup table\n",
    "#image.origin : upper             # lower | upper\n",
    "#image.resample  : False\n",
    "\n",
    "### CONTOUR PLOTS\n",
    "#contour.negative_linestyle :  dashed # dashed | solid\n",
    "\n",
    "### Agg rendering\n",
    "### Warning: experimental, 2008/10/10\n",
    "#agg.path.chunksize : 0           # 0 to disable; values in the range\n",
    "                                  # 10000 to 100000 can improve speed slightly\n",
    "                                  # and prevent an Agg rendering failure\n",
    "                                  # when plotting very large data sets,\n",
    "                                  # especially if they are very gappy.\n",
    "                                  # It may cause minor artifacts, though.\n",
    "                                  # A value of 20000 is probably a good\n",
    "                                  # starting point.\n",
    "### SAVING FIGURES\n",
    "#path.simplify : True   # When True, simplify paths by removing \"invisible\"\n",
    "                        # points to reduce file size and increase rendering\n",
    "                        # speed\n",
    "#path.simplify_threshold : 0.1  # The threshold of similarity below which\n",
    "                                # vertices will be removed in the simplification\n",
    "                                # process\n",
    "#path.snap : True # When True, rectilinear axis-aligned paths will be snapped to\n",
    "                  # the nearest pixel when certain criteria are met.  When False,\n",
    "                  # paths will never be snapped.\n",
    "#path.sketch : None # May be none, or a 3-tuple of the form (scale, length,\n",
    "                    # randomness).\n",
    "                    # *scale* is the amplitude of the wiggle\n",
    "                    # perpendicular to the line (in pixels).  *length*\n",
    "                    # is the length of the wiggle along the line (in\n",
    "                    # pixels).  *randomness* is the factor by which\n",
    "                    # the length is randomly scaled.\n",
    "\n",
    "# the default savefig params can be different from the display params\n",
    "# e.g., you may want a higher resolution, or to make the figure\n",
    "# background white\n",
    "#savefig.dpi         : 100      # figure dots per inch\n",
    "#savefig.facecolor   : white    # figure facecolor when saving\n",
    "#savefig.edgecolor   : white    # figure edgecolor when saving\n",
    "#savefig.format      : png      # png, ps, pdf, svg\n",
    "#savefig.bbox        : standard # 'tight' or 'standard'.\n",
    "                                # 'tight' is incompatible with pipe-based animation\n",
    "                                # backends but will workd with temporary file based ones:\n",
    "                                # e.g. setting animation.writer to ffmpeg will not work,\n",
    "                                # use ffmpeg_file instead\n",
    "#savefig.pad_inches  : 0.1      # Padding to be used when bbox is set to 'tight'\n",
    "#savefig.jpeg_quality: 95       # when a jpeg is saved, the default quality parameter.\n",
    "#savefig.directory   : ~        # default directory in savefig dialog box,\n",
    "                                # leave empty to always use current working directory\n",
    "#savefig.transparent : False    # setting that controls whether figures are saved with a\n",
    "                                # transparent background by default\n",
    "\n",
    "# tk backend params\n",
    "#tk.window_focus   : False    # Maintain shell focus for TkAgg\n",
    "\n",
    "# ps backend params\n",
    "#ps.papersize      : letter   # auto, letter, legal, ledger, A0-A10, B0-B10\n",
    "#ps.useafm         : False    # use of afm fonts, results in small files\n",
    "#ps.usedistiller   : False    # can be: None, ghostscript or xpdf\n",
    "                                          # Experimental: may produce smaller files.\n",
    "                                          # xpdf intended for production of publication quality files,\n",
    "                                          # but requires ghostscript, xpdf and ps2eps\n",
    "#ps.distiller.res  : 6000      # dpi\n",
    "#ps.fonttype       : 3         # Output Type 3 (Type3) or Type 42 (TrueType)\n",
    "\n",
    "# pdf backend params\n",
    "#pdf.compression   : 6 # integer from 0 to 9\n",
    "                       # 0 disables compression (good for debugging)\n",
    "#pdf.fonttype       : 3         # Output Type 3 (Type3) or Type 42 (TrueType)\n",
    "\n",
    "# svg backend params\n",
    "#svg.image_inline : True       # write raster image data directly into the svg file\n",
    "#svg.image_noscale : False     # suppress scaling of raster data embedded in SVG\n",
    "#svg.fonttype : 'path'         # How to handle SVG fonts:\n",
    "#    'none': Assume fonts are installed on the machine where the SVG will be viewed.\n",
    "#    'path': Embed characters as paths -- supported by most SVG renderers\n",
    "#    'svgfont': Embed characters as SVG fonts -- supported only by Chrome,\n",
    "#               Opera and Safari\n",
    "\n",
    "# docstring params\n",
    "#docstring.hardcopy = False  # set this when you want to generate hardcopy docstring\n",
    "\n",
    "# Set the verbose flags.  This controls how much information\n",
    "# matplotlib gives you at runtime and where it goes.  The verbosity\n",
    "# levels are: silent, helpful, debug, debug-annoying.  Any level is\n",
    "# inclusive of all the levels below it.  If your setting is \"debug\",\n",
    "# you'll get all the debug and helpful messages.  When submitting\n",
    "# problems to the mailing-list, please set verbose to \"helpful\" or \"debug\"\n",
    "# and paste the output into your report.\n",
    "#\n",
    "# The \"fileo\" gives the destination for any calls to verbose.report.\n",
    "# These objects can a filename, or a filehandle like sys.stdout.\n",
    "#\n",
    "# You can override the rc default verbosity from the command line by\n",
    "# giving the flags --verbose-LEVEL where LEVEL is one of the legal\n",
    "# levels, e.g., --verbose-helpful.\n",
    "#\n",
    "# You can access the verbose instance in your code\n",
    "#   from matplotlib import verbose.\n",
    "#verbose.level  : silent      # one of silent, helpful, debug, debug-annoying\n",
    "#verbose.fileo  : sys.stdout  # a log filename, sys.stdout or sys.stderr\n",
    "\n",
    "# Event keys to interact with figures/plots via keyboard.\n",
    "# Customize these settings according to your needs.\n",
    "# Leave the field(s) empty if you don't need a key-map. (i.e., fullscreen : '')\n",
    "\n",
    "#keymap.fullscreen : f               # toggling\n",
    "#keymap.home : h, r, home            # home or reset mnemonic\n",
    "#keymap.back : left, c, backspace    # forward / backward keys to enable\n",
    "#keymap.forward : right, v           #   left handed quick navigation\n",
    "#keymap.pan : p                      # pan mnemonic\n",
    "#keymap.zoom : o                     # zoom mnemonic\n",
    "#keymap.save : s                     # saving current figure\n",
    "#keymap.quit : ctrl+w, cmd+w         # close the current figure\n",
    "#keymap.grid : g                     # switching on/off a grid in current axes\n",
    "#keymap.yscale : l                   # toggle scaling of y-axes ('log'/'linear')\n",
    "#keymap.xscale : L, k                # toggle scaling of x-axes ('log'/'linear')\n",
    "#keymap.all_axes : a                 # enable all axes\n",
    "\n",
    "# Control location of examples data files\n",
    "#examples.directory : ''   # directory to look in for custom installation\n",
    "\n",
    "###ANIMATION settings\n",
    "#animation.writer : ffmpeg         # MovieWriter 'backend' to use\n",
    "#animation.codec : mpeg4           # Codec to use for writing movie\n",
    "#animation.bitrate: -1             # Controls size/quality tradeoff for movie.\n",
    "                                   # -1 implies let utility auto-determine\n",
    "#animation.frame_format: 'png'     # Controls frame format used by temp files\n",
    "#animation.ffmpeg_path: 'ffmpeg'   # Path to ffmpeg binary. Without full path\n",
    "                                   # $PATH is searched\n",
    "#animation.ffmpeg_args: ''         # Additional arguments to pass to ffmpeg\n",
    "#animation.avconv_path: 'avconv'   # Path to avconv binary. Without full path\n",
    "                                   # $PATH is searched\n",
    "#animation.avconv_args: ''         # Additional arguments to pass to avconv\n",
    "#animation.mencoder_path: 'mencoder'\n",
    "                                   # Path to mencoder binary. Without full path\n",
    "                                   # $PATH is searched\n",
    "#animation.mencoder_args: ''       # Additional arguments to pass to mencoder\n",
    "#animation.convert_path: 'convert' # Path to ImageMagick's convert binary.\n",
    "                                   # On Windows use the full path since convert\n",
    "                                   # is also the name of a system tool.\n"
   ]
  }
 ],
 "metadata": {
  "colabVersion": "0.1",
  "kernelspec": {
   "display_name": "Python 3",
   "language": "python",
   "name": "python3"
  },
  "language_info": {
   "codemirror_mode": {
    "name": "ipython",
    "version": 3
   },
   "file_extension": ".py",
   "mimetype": "text/x-python",
   "name": "python",
   "nbconvert_exporter": "python",
   "pygments_lexer": "ipython3",
   "version": "3.3.5"
  }
 },
 "nbformat": 4,
 "nbformat_minor": 0
}
