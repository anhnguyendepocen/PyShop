{
 "cells": [
  {
   "cell_type": "markdown",
   "metadata": {},
   "source": [
    "# PyShop Session 4\n",
    "***\n",
    "Homework to do to review this week:\n",
    "\n",
    "1. Do the exercises in `PyShop_session4_exercises.ipynb` to review todays course.\n",
    "\n",
    "2. Read the notes in 'Pyshop_session4_notes.ipynb'.\n",
    "\n",
    "3. Read <a href=\"http://www.randalolson.com/2014/06/28/how-to-make-beautiful-data-visualizations-in-python-with-matplotlib/\" target=\"_blank\">this blog post</a> by Randal Olson about beautiful Python plots.\n",
    "\n",
    "3. Become a  <a href=\"http://stanford.edu/~mwaskom/software/seaborn/\" target=\"_blank\">hipster</a> by learning about SeaBorn and its statistical plotting capabilities.  Seriously, so hot right now.\n",
    "\n",
    "4. Get serious with <a href=\"http://cs109.github.io/2015/\" target=\"_blank\">cs109</a>, a full course on data analysis in Python from Harvard's School of Engineering and Applied Sciences.\n",
    "\n",
    "Homework to do for next week.\n",
    "\n",
    "1. Figure out if you have an Nvidia GPU on your computer or a computer you have access to.\n",
    "\n",
    "2. Browse some of the resources on the <a href=\"https://wiki.python.org/moin/ParallelProcessing\" target=\"_blank\">Parallel Computing Wiki</a> for Python."
   ]
  }
 ],
 "metadata": {
  "colabVersion": "0.1",
  "kernelspec": {
   "display_name": "Python 3",
   "language": "python",
   "name": "python3"
  },
  "language_info": {
   "codemirror_mode": {
    "name": "ipython",
    "version": 3
   },
   "file_extension": ".py",
   "mimetype": "text/x-python",
   "name": "python",
   "nbconvert_exporter": "python",
   "pygments_lexer": "ipython3",
   "version": "3.3.5"
  }
 },
 "nbformat": 4,
 "nbformat_minor": 0
}
